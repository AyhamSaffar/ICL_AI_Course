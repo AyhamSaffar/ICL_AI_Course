{
 "cells": [
  {
   "cell_type": "markdown",
   "metadata": {
    "id": "454ppM0MFAPE",
    "tags": []
   },
   "source": [
    "# Machine Learning Basics"
   ]
  },
  {
   "cell_type": "markdown",
   "metadata": {
    "id": "O_Nj8oCN_szN"
   },
   "source": [
    "<div style=\"background-color: #f8d7da; border-left: 6px solid #ccc; margin: 20px; padding: 15px;\">\n",
    "    <strong>💡 Alan Turing:</strong> We are not interested in the fact that the brain has the consistency of cold porridge.\n",
    "</div>"
   ]
  },
  {
   "cell_type": "markdown",
   "metadata": {
    "id": "L4ksjNfR_szO"
   },
   "source": [
    "<iframe class=\"speakerdeck-iframe\" frameborder=\"0\" src=\"https://speakerdeck.com/player/db5df387845c4802b0bbae449095899c\" title=\"Machine Learning for Materials (Lecture 2)\" allowfullscreen=\"true\" style=\"border: 0px; background-clip: padding-box; background-color: rgba(0, 0, 0, 0.1); margin: 0px; padding: 0px; border-radius: 6px; box-shadow: rgba(0, 0, 0, 0.2) 0px 5px 40px; width: 100%; height: auto; aspect-ratio: 560 / 420;\" data-ratio=\"1.3333333333333333\"></iframe>\n",
    "\n",
    "[Lecture slides](https://speakerdeck.com/aronwalsh/mlformaterials-lecture2-modelling)"
   ]
  },
  {
   "cell_type": "markdown",
   "metadata": {
    "id": "JXcgtX8S_szO"
   },
   "source": [
    "## 💎 Crystal hardness\n",
    "\n",
    "Are you excited to tackle a regression problem?\n",
    "\n",
    "Today's dataset consists of the [bulk modulus](https://en.wikipedia.org/wiki/Bulk_modulus) for more than 10,000 inorganic crystals. The exercise aims to develop an understanding of how to approach supervised learning problems.\n",
    "\n",
    "The energy of a crystal varies with the volume of the unit cell. The equilibrium volume is found at the minimum in the potential energy surface. The shape of this curve can be described by an equation of state, where energy is a function of volume or pressure, i.e. $E(V)$ or $E(P)$. The curvature is related to the bulk modulus $B$, which can be defined as:\n",
    "\n",
    "$\n",
    "B = -V \\frac{\\partial P}{\\partial V} = V \\frac{\\partial^2 E}{\\partial V^2}\n",
    "$\n",
    "\n",
    "The typical unit of $B$ is GPa. For example, diamond has has a measured bulk modulus of $B$ = 443 GPa at T = 4 K. The bulk modulus is a useful quantity in models of materials bonding, thermodynamics, and mechanics. For instance, the inverse of the bulk modulus is the compressability of a crystal ($\\kappa = \\frac{1}{B}$).\n",
    "\n",
    "We will use the Python package `matminer` (https://matminer.readthedocs.io) to access the materials dataset and featurise the data in a form that is suitable for statistical analysis and building machine learning models. We will use the computational materials science package `pymatgen` (https://pymatgen.org) that powers the [Materials Project](https://materialsproject.org). There are many new concepts that will be explored in future lectures, so don't worry about grasping everything now."
   ]
  },
  {
   "cell_type": "code",
   "execution_count": 1,
   "metadata": {
    "colab": {
     "base_uri": "https://localhost:8080/"
    },
    "id": "VsM81HX6FAPV",
    "outputId": "71c29e3b-b326-48fb-8103-ae6c123bed2d"
   },
   "outputs": [
    {
     "name": "stdout",
     "output_type": "stream",
     "text": [
      "^C\n",
      "\u001b[31mERROR: Operation cancelled by user\u001b[0m\u001b[31m\n",
      "\u001b[0m"
     ]
    }
   ],
   "source": [
    "# Installation of libraries\n",
    "!pip install matminer --quiet"
   ]
  },
  {
   "cell_type": "markdown",
   "metadata": {
    "id": "4WAbrbHyPL8-"
   },
   "source": [
    "<div style=\"background-color: #d4edda; border-left: 6px solid #ccc; margin: 20px; padding: 15px; border-radius: 5px;\">\n",
    "    <strong>🍧 Tip:</strong> The import block grows large as you use more Python libraries. You can look up each package (try a web search to find documentation and examples) to learn more about the modules we are using.\n",
    "</div>"
   ]
  },
  {
   "cell_type": "code",
   "execution_count": 2,
   "metadata": {
    "id": "e82OXOnqFAPa",
    "tags": []
   },
   "outputs": [],
   "source": [
    "# Basic utilities\n",
    "import pprint  # Pretty print data structures\n",
    "import warnings  # Warning control\n",
    "import numpy as np # Numerical operations\n",
    "from numpy.exceptions import ComplexWarning  # Warning for complex numbers \n",
    "\n",
    "# Data handling\n",
    "import pandas as pd  # Data manipulation with DataFrames\n",
    "from monty.serialization import loadfn  # Load serialised data\n",
    "\n",
    "# Materials science\n",
    "from pymatgen.core import Structure  # Materials analysis for crystal structures\n",
    "import matminer  # Materials informatics\n",
    "from matminer.datasets.dataset_retrieval import load_dataset  # Load materials datasets\n",
    "\n",
    "# Visualisation\n",
    "import matplotlib.pyplot as plt  # Plotting\n",
    "import seaborn as sns  # Statistical visualisation\n",
    "plt.style.use('ggplot')  # Set Matplotlib style to 'ggplot'\n",
    "\n",
    "# Warning management\n",
    "warnings.filterwarnings(\"ignore\", category=ComplexWarning)  # Ignore ComplexWarning\n",
    "\n",
    "# Performance adjustments\n",
    "teaching_mode = True  # To make models run faster"
   ]
  },
  {
   "cell_type": "markdown",
   "metadata": {},
   "source": [
    "<details>\n",
    "<summary>Colab error solution</summary>\n",
    "If running the import module cell fails with an \"AttributeError\", click `Runtime` -> `Restart Session` and then simply rerun the cell. \n",
    "</details>"
   ]
  },
  {
   "cell_type": "markdown",
   "metadata": {
    "id": "S9uQ9sA9FAPd"
   },
   "source": [
    "## Bulk moduli dataset\n",
    "\n",
    "From `matminer`, we can check what datasets are available using the `datasets.get_available_datasets()` method."
   ]
  },
  {
   "cell_type": "code",
   "execution_count": 3,
   "metadata": {
    "colab": {
     "base_uri": "https://localhost:8080/"
    },
    "id": "4k0NSW9SFp6C",
    "outputId": "ee47b1c9-f05f-423f-f134-172c42e73a69",
    "tags": []
   },
   "outputs": [
    {
     "name": "stdout",
     "output_type": "stream",
     "text": [
      "\n"
     ]
    },
    {
     "data": {
      "text/plain": [
       "['boltztrap_mp',\n",
       " 'brgoch_superhard_training',\n",
       " 'castelli_perovskites',\n",
       " 'citrine_thermal_conductivity',\n",
       " 'dielectric_constant',\n",
       " 'double_perovskites_gap',\n",
       " 'double_perovskites_gap_lumo',\n",
       " 'elastic_tensor_2015',\n",
       " 'expt_formation_enthalpy',\n",
       " 'expt_formation_enthalpy_kingsbury',\n",
       " 'expt_gap',\n",
       " 'expt_gap_kingsbury',\n",
       " 'flla',\n",
       " 'glass_binary',\n",
       " 'glass_binary_v2',\n",
       " 'glass_ternary_hipt',\n",
       " 'glass_ternary_landolt',\n",
       " 'heusler_magnetic',\n",
       " 'jarvis_dft_2d',\n",
       " 'jarvis_dft_3d',\n",
       " 'jarvis_ml_dft_training',\n",
       " 'm2ax',\n",
       " 'matbench_dielectric',\n",
       " 'matbench_expt_gap',\n",
       " 'matbench_expt_is_metal',\n",
       " 'matbench_glass',\n",
       " 'matbench_jdft2d',\n",
       " 'matbench_log_gvrh',\n",
       " 'matbench_log_kvrh',\n",
       " 'matbench_mp_e_form',\n",
       " 'matbench_mp_gap',\n",
       " 'matbench_mp_is_metal',\n",
       " 'matbench_perovskites',\n",
       " 'matbench_phonons',\n",
       " 'matbench_steels',\n",
       " 'mp_all_20181018',\n",
       " 'mp_nostruct_20181018',\n",
       " 'phonon_dielectric_mp',\n",
       " 'piezoelectric_tensor',\n",
       " 'ricci_boltztrap_mp_tabular',\n",
       " 'steel_strength',\n",
       " 'superconductivity2018',\n",
       " 'tholander_nitrides',\n",
       " 'ucsb_thermoelectrics',\n",
       " 'wolverton_oxides']"
      ]
     },
     "execution_count": 3,
     "metadata": {},
     "output_type": "execute_result"
    }
   ],
   "source": [
    "# Print the available datasets\n",
    "matminer.datasets.get_available_datasets(print_format='low')"
   ]
  },
  {
   "cell_type": "markdown",
   "metadata": {
    "id": "QuQWMPolHXdp"
   },
   "source": [
    "We can use the `get_all_dataset_info` function from the `matminer.datasets.dataset_retrieval` module to output a detailed description of a matminer dataset. Let's check the information for the `matbench_log_kvrh` dataset. \n",
    "\n",
    "Here \"K\" relates to the bulk modulus (which we called $B$), and and \"VRH\" relates to the Voigt-Reuss-Hill equation of state, which is one approach to define a value for each material."
   ]
  },
  {
   "cell_type": "code",
   "execution_count": 4,
   "metadata": {
    "colab": {
     "base_uri": "https://localhost:8080/"
    },
    "id": "J5Nh53dUG8yN",
    "outputId": "b6fa11e6-5f36-47e0-db3e-57ec778f05ea",
    "tags": []
   },
   "outputs": [
    {
     "name": "stdout",
     "output_type": "stream",
     "text": [
      "Dataset: matbench_log_kvrh\n",
      "Description: Matbench v0.1 test dataset for predicting DFT log10 VRH-average bulk modulus from structure. Adapted from Materials Project database. Removed entries having a formation energy (or energy above the convex hull) more than 150meV and those having negative G_Voigt, G_Reuss, G_VRH, K_Voigt, K_Reuss, or K_VRH and those failing G_Reuss <= G_VRH <= G_Voigt or K_Reuss <= K_VRH <= K_Voigt and those containing noble gases. Retrieved April 2, 2019. For benchmarking w/ nested cross validation, the order of the dataset must be identical to the retrieved data; refer to the Automatminer/Matbench publication for more details.\n",
      "Columns:\n",
      "\tlog10(K_VRH): Target variable. Base 10 logarithm of the DFT Voigt-Reuss-Hill average bulk moduli in GPa.\n",
      "\tstructure: Pymatgen Structure of the material.\n",
      "Num Entries: 10987\n",
      "Reference: Jong, M. De, Chen, W., Angsten, T., Jain, A., Notestine, R., Gamst,\n",
      "A., Sluiter, M., Ande, C. K., Zwaag, S. Van Der, Plata, J. J., Toher,\n",
      "C., Curtarolo, S., Ceder, G., Persson, K. and Asta, M., \"Charting\n",
      "the complete elastic properties of inorganic crystalline compounds\",\n",
      "Scientific Data volume 2, Article number: 150009 (2015)\n",
      "Bibtex citations: [\"@Article{Dunn2020,\\nauthor={Dunn, Alexander\\nand Wang, Qi\\nand Ganose, Alex\\nand Dopp, Daniel\\nand Jain, Anubhav},\\ntitle={Benchmarking materials property prediction methods: the Matbench test set and Automatminer reference algorithm},\\njournal={npj Computational Materials},\\nyear={2020},\\nmonth={Sep},\\nday={15},\\nvolume={6},\\nnumber={1},\\npages={138},\\nabstract={We present a benchmark test suite and an automated machine learning procedure for evaluating supervised machine learning (ML) models for predicting properties of inorganic bulk materials. The test suite, Matbench, is a set of 13{\\\\thinspace}ML tasks that range in size from 312 to 132k samples and contain data from 10 density functional theory-derived and experimental sources. Tasks include predicting optical, thermal, electronic, thermodynamic, tensile, and elastic properties given a material's composition and/or crystal structure. The reference algorithm, Automatminer, is a highly-extensible, fully automated ML pipeline for predicting materials properties from materials primitives (such as composition and crystal structure) without user intervention or hyperparameter tuning. We test Automatminer on the Matbench test suite and compare its predictive power with state-of-the-art crystal graph neural networks and a traditional descriptor-based Random Forest model. We find Automatminer achieves the best performance on 8 of 13 tasks in the benchmark. We also show our test suite is capable of exposing predictive advantages of each algorithm---namely, that crystal graph methods appear to outperform traditional machine learning methods given {\\\\textasciitilde}104 or greater data points. We encourage evaluating materials ML algorithms on the Matbench benchmark and comparing them against the latest version of Automatminer.},\\nissn={2057-3960},\\ndoi={10.1038/s41524-020-00406-3},\\nurl={https://doi.org/10.1038/s41524-020-00406-3}\\n}\\n\", '@Article{deJong2015,\\nauthor={de Jong, Maarten and Chen, Wei and Angsten, Thomas\\nand Jain, Anubhav and Notestine, Randy and Gamst, Anthony\\nand Sluiter, Marcel and Krishna Ande, Chaitanya\\nand van der Zwaag, Sybrand and Plata, Jose J. and Toher, Cormac\\nand Curtarolo, Stefano and Ceder, Gerbrand and Persson, Kristin A.\\nand Asta, Mark},\\ntitle={Charting the complete elastic properties\\nof inorganic crystalline compounds},\\njournal={Scientific Data},\\nyear={2015},\\nmonth={Mar},\\nday={17},\\npublisher={The Author(s)},\\nvolume={2},\\npages={150009},\\nnote={Data Descriptor},\\nurl={http://dx.doi.org/10.1038/sdata.2015.9}\\n}']\n",
      "File type: json.gz\n",
      "Figshare URL: https://ml.materialsproject.org/projects/matbench_log_kvrh.json.gz\n",
      "SHA256 Hash Digest: 44b113ddb7e23aa18731a62c74afa7e5aa654199e0db5f951c8248a00955c9cd\n",
      "\n",
      "\n"
     ]
    }
   ],
   "source": [
    "print(matminer.datasets.dataset_retrieval.get_all_dataset_info('matbench_log_kvrh'))"
   ]
  },
  {
   "cell_type": "markdown",
   "metadata": {
    "id": "CWfRPdkbJZam"
   },
   "source": [
    "We can then load a dataset using the `load_dataset` method."
   ]
  },
  {
   "cell_type": "code",
   "execution_count": 5,
   "metadata": {
    "colab": {
     "base_uri": "https://localhost:8080/",
     "height": 508
    },
    "id": "YvPGXUFfFAPi",
    "outputId": "813e5f05-5ad2-4589-cce7-f04816ff67ed"
   },
   "outputs": [
    {
     "name": "stdout",
     "output_type": "stream",
     "text": [
      "The full dataset contains 10987 entries. \n",
      "\n",
      "For teaching purposes we will only work with 1500 entries from the DataFrame to make the model training and testing faster. \n",
      "\n",
      "The DataFrame is shown below:\n"
     ]
    },
    {
     "data": {
      "text/html": [
       "<div>\n",
       "<style scoped>\n",
       "    .dataframe tbody tr th:only-of-type {\n",
       "        vertical-align: middle;\n",
       "    }\n",
       "\n",
       "    .dataframe tbody tr th {\n",
       "        vertical-align: top;\n",
       "    }\n",
       "\n",
       "    .dataframe thead th {\n",
       "        text-align: right;\n",
       "    }\n",
       "</style>\n",
       "<table border=\"1\" class=\"dataframe\">\n",
       "  <thead>\n",
       "    <tr style=\"text-align: right;\">\n",
       "      <th></th>\n",
       "      <th>structure</th>\n",
       "      <th>log10(K_VRH)</th>\n",
       "    </tr>\n",
       "  </thead>\n",
       "  <tbody>\n",
       "    <tr>\n",
       "      <th>3013</th>\n",
       "      <td>[[1.5733895 1.5733895 1.5733895] Ti, [0. 0. 0....</td>\n",
       "      <td>2.060698</td>\n",
       "    </tr>\n",
       "    <tr>\n",
       "      <th>7030</th>\n",
       "      <td>[[0.         2.48703496 2.48703496] Na, [2.487...</td>\n",
       "      <td>0.301030</td>\n",
       "    </tr>\n",
       "    <tr>\n",
       "      <th>8743</th>\n",
       "      <td>[[4.80865721 4.80865721 4.80865721] Zr, [3.205...</td>\n",
       "      <td>2.071882</td>\n",
       "    </tr>\n",
       "    <tr>\n",
       "      <th>4050</th>\n",
       "      <td>[[0.         0.         1.83652429] P, [3.1335...</td>\n",
       "      <td>2.344392</td>\n",
       "    </tr>\n",
       "    <tr>\n",
       "      <th>6792</th>\n",
       "      <td>[[2.3309339  1.34576271 7.92190123] Pb, [-2.33...</td>\n",
       "      <td>0.602060</td>\n",
       "    </tr>\n",
       "    <tr>\n",
       "      <th>1755</th>\n",
       "      <td>[[-0.13114877  2.07420334 -0.52208471] Zr, [ 2...</td>\n",
       "      <td>1.903090</td>\n",
       "    </tr>\n",
       "    <tr>\n",
       "      <th>1470</th>\n",
       "      <td>[[5.73166765 5.73166765 5.73166765] Ca, [1.910...</td>\n",
       "      <td>1.612784</td>\n",
       "    </tr>\n",
       "    <tr>\n",
       "      <th>2300</th>\n",
       "      <td>[[ 0.          0.         17.49196778] Cu, [-2...</td>\n",
       "      <td>1.000000</td>\n",
       "    </tr>\n",
       "    <tr>\n",
       "      <th>1337</th>\n",
       "      <td>[[1.510518   3.56803694 7.81362377] Bi, [1.510...</td>\n",
       "      <td>1.763428</td>\n",
       "    </tr>\n",
       "    <tr>\n",
       "      <th>10451</th>\n",
       "      <td>[[0. 0. 0.] Nd, [-2.82958438e-06  3.26347501e+...</td>\n",
       "      <td>2.230449</td>\n",
       "    </tr>\n",
       "  </tbody>\n",
       "</table>\n",
       "</div>"
      ],
      "text/plain": [
       "                                               structure  log10(K_VRH)\n",
       "3013   [[1.5733895 1.5733895 1.5733895] Ti, [0. 0. 0....      2.060698\n",
       "7030   [[0.         2.48703496 2.48703496] Na, [2.487...      0.301030\n",
       "8743   [[4.80865721 4.80865721 4.80865721] Zr, [3.205...      2.071882\n",
       "4050   [[0.         0.         1.83652429] P, [3.1335...      2.344392\n",
       "6792   [[2.3309339  1.34576271 7.92190123] Pb, [-2.33...      0.602060\n",
       "1755   [[-0.13114877  2.07420334 -0.52208471] Zr, [ 2...      1.903090\n",
       "1470   [[5.73166765 5.73166765 5.73166765] Ca, [1.910...      1.612784\n",
       "2300   [[ 0.          0.         17.49196778] Cu, [-2...      1.000000\n",
       "1337   [[1.510518   3.56803694 7.81362377] Bi, [1.510...      1.763428\n",
       "10451  [[0. 0. 0.] Nd, [-2.82958438e-06  3.26347501e+...      2.230449"
      ]
     },
     "execution_count": 5,
     "metadata": {},
     "output_type": "execute_result"
    }
   ],
   "source": [
    "# Use matminer to download the dataset\n",
    "df = load_dataset('matbench_log_kvrh')\n",
    "print(f'The full dataset contains {df.shape[0]} entries. \\n')\n",
    "\n",
    "if teaching_mode:\n",
    "  # Store the original DataFrame as a copy\n",
    "  full_dataset_df = df.copy()\n",
    "  # Create a subset of the original DataFrame for demonstration purposes\n",
    "  df = df.sample(n=1500, random_state=41)\n",
    "  print(f'For teaching purposes we will only work with {df.shape[0]} entries from the DataFrame to make the model training and testing faster. \\n')\n",
    "\n",
    "print('The DataFrame is shown below:')\n",
    "df.head(10)"
   ]
  },
  {
   "cell_type": "markdown",
   "metadata": {
    "id": "eNBBAHSFFAPm"
   },
   "source": [
    "### Visualise the target variable"
   ]
  },
  {
   "cell_type": "markdown",
   "metadata": {
    "id": "SNHuNnCeKEqB"
   },
   "source": [
    "We can use `df.describe()` to produce summary statistics of the numerical columns. The importance of this is to check whether the data for our target variable, `log10(K_VRH)`, is reasonable. Negative values for the bulk modulus are considered unphysical and forbidden by crystal thermodynamics. You can think about why from the definition.\n",
    "\n",
    "As we are working with `log10` of the bulk modulus, it should not be possible for there to be negative values in our target variable column as the logarithm of a negative number is undefined. This also gives us a quick check for the input data."
   ]
  },
  {
   "cell_type": "code",
   "execution_count": 6,
   "metadata": {
    "colab": {
     "base_uri": "https://localhost:8080/",
     "height": 300
    },
    "id": "QOXtNPnwKLPp",
    "outputId": "4c51e835-9fa4-4dbc-e6f9-92704243539f"
   },
   "outputs": [
    {
     "data": {
      "text/html": [
       "<div>\n",
       "<style scoped>\n",
       "    .dataframe tbody tr th:only-of-type {\n",
       "        vertical-align: middle;\n",
       "    }\n",
       "\n",
       "    .dataframe tbody tr th {\n",
       "        vertical-align: top;\n",
       "    }\n",
       "\n",
       "    .dataframe thead th {\n",
       "        text-align: right;\n",
       "    }\n",
       "</style>\n",
       "<table border=\"1\" class=\"dataframe\">\n",
       "  <thead>\n",
       "    <tr style=\"text-align: right;\">\n",
       "      <th></th>\n",
       "      <th>log10(K_VRH)</th>\n",
       "    </tr>\n",
       "  </thead>\n",
       "  <tbody>\n",
       "    <tr>\n",
       "      <th>count</th>\n",
       "      <td>1500.000000</td>\n",
       "    </tr>\n",
       "    <tr>\n",
       "      <th>mean</th>\n",
       "      <td>1.858558</td>\n",
       "    </tr>\n",
       "    <tr>\n",
       "      <th>std</th>\n",
       "      <td>0.394244</td>\n",
       "    </tr>\n",
       "    <tr>\n",
       "      <th>min</th>\n",
       "      <td>0.000000</td>\n",
       "    </tr>\n",
       "    <tr>\n",
       "      <th>25%</th>\n",
       "      <td>1.633468</td>\n",
       "    </tr>\n",
       "    <tr>\n",
       "      <th>50%</th>\n",
       "      <td>1.916446</td>\n",
       "    </tr>\n",
       "    <tr>\n",
       "      <th>75%</th>\n",
       "      <td>2.152288</td>\n",
       "    </tr>\n",
       "    <tr>\n",
       "      <th>max</th>\n",
       "      <td>2.610660</td>\n",
       "    </tr>\n",
       "  </tbody>\n",
       "</table>\n",
       "</div>"
      ],
      "text/plain": [
       "       log10(K_VRH)\n",
       "count   1500.000000\n",
       "mean       1.858558\n",
       "std        0.394244\n",
       "min        0.000000\n",
       "25%        1.633468\n",
       "50%        1.916446\n",
       "75%        2.152288\n",
       "max        2.610660"
      ]
     },
     "execution_count": 6,
     "metadata": {},
     "output_type": "execute_result"
    }
   ],
   "source": [
    "df.describe()"
   ]
  },
  {
   "cell_type": "markdown",
   "metadata": {
    "id": "RHCGO7PEM8jt"
   },
   "source": [
    "From the summary statistics, the minimum value for `log10(K_VRH)` is zero, so it appears that there are no glaring issues with the target variable.  \n",
    "\n",
    "For a better understanding, let's make a histogram to visualise the distribution. This is best practice when you encounter any new dataset."
   ]
  },
  {
   "cell_type": "code",
   "execution_count": 7,
   "metadata": {
    "colab": {
     "base_uri": "https://localhost:8080/",
     "height": 457
    },
    "id": "3Nco38cTFAPt",
    "outputId": "b2904fc9-74ac-498b-da08-cd92f2617ec1"
   },
   "outputs": [
    {
     "data": {
      "image/png": "[encoded data removed]",
      "text/plain": [
       "<Figure size 500x300 with 1 Axes>"
      ]
     },
     "metadata": {},
     "output_type": "display_data"
    }
   ],
   "source": [
    "# Plot a histogram\n",
    "fig, ax = plt.subplots(figsize=(5,3))\n",
    "ax.hist(df['log10(K_VRH)'])\n",
    "ax.set_xlabel(r'$log_{10}K_{VRH}$ [$log_{10}GPa$]')\n",
    "ax.set_ylabel('Counts')\n",
    "plt.show()"
   ]
  },
  {
   "cell_type": "markdown",
   "metadata": {
    "id": "hLwoNL7-gDv8"
   },
   "source": [
    "<details>\n",
    "<summary> Code hint </summary>\n",
    "Your dataframe is not called df22!\n",
    "</details>"
   ]
  },
  {
   "cell_type": "markdown",
   "metadata": {
    "id": "E_86YHauFAPw"
   },
   "source": [
    "## Features of materials\n",
    "As you may notice from the dataset, we only have one input feature, the crystal structure. This is not a numerical feature that we can use for a regression model. For supervised machine learning, we must represent each material by a vector that can be used as an input to the model, e.g.\n",
    "\n",
    "$$f(\\textrm{material}) \\rightarrow [1.1,0.8,3.5,0.01]$$\n",
    "\n",
    "would be a four-dimensional representation.\n",
    "For now we will use some pre-selected features from `matminer` for this regression task. Materials representations will be covered in Lecture 4."
   ]
  },
  {
   "cell_type": "markdown",
   "metadata": {
    "id": "nMZUwbOoFAP2"
   },
   "source": [
    "### Composition-based features\n",
    "\n",
    "To use the `ElementProperty` featuriser, we first need to add a `pymatgen.core.composition.Composition` object to our DataFrame. There are several ways to do this but we will proceed using the `composition` property of the pymatgen `Structure` class."
   ]
  },
  {
   "cell_type": "code",
   "execution_count": 8,
   "metadata": {
    "colab": {
     "base_uri": "https://localhost:8080/",
     "height": 206
    },
    "id": "jyp_jAnXFAP3",
    "outputId": "f756a4a9-9e85-40eb-90dc-e29b6214829e"
   },
   "outputs": [
    {
     "name": "stderr",
     "output_type": "stream",
     "text": [
      "/home/ayham/ICL_AI_Course/.venv/lib/python3.12/site-packages/tqdm/auto.py:21: TqdmWarning: IProgress not found. Please update jupyter and ipywidgets. See https://ipywidgets.readthedocs.io/en/stable/user_install.html\n",
      "  from .autonotebook import tqdm as notebook_tqdm\n"
     ]
    },
    {
     "data": {
      "text/html": [
       "<div>\n",
       "<style scoped>\n",
       "    .dataframe tbody tr th:only-of-type {\n",
       "        vertical-align: middle;\n",
       "    }\n",
       "\n",
       "    .dataframe tbody tr th {\n",
       "        vertical-align: top;\n",
       "    }\n",
       "\n",
       "    .dataframe thead th {\n",
       "        text-align: right;\n",
       "    }\n",
       "</style>\n",
       "<table border=\"1\" class=\"dataframe\">\n",
       "  <thead>\n",
       "    <tr style=\"text-align: right;\">\n",
       "      <th></th>\n",
       "      <th>structure</th>\n",
       "      <th>log10(K_VRH)</th>\n",
       "      <th>composition</th>\n",
       "    </tr>\n",
       "  </thead>\n",
       "  <tbody>\n",
       "    <tr>\n",
       "      <th>3013</th>\n",
       "      <td>[[1.5733895 1.5733895 1.5733895] Ti, [0. 0. 0....</td>\n",
       "      <td>2.060698</td>\n",
       "      <td>(Ti, Zn)</td>\n",
       "    </tr>\n",
       "    <tr>\n",
       "      <th>7030</th>\n",
       "      <td>[[0.         2.48703496 2.48703496] Na, [2.487...</td>\n",
       "      <td>0.301030</td>\n",
       "      <td>(Na, Tl)</td>\n",
       "    </tr>\n",
       "    <tr>\n",
       "      <th>8743</th>\n",
       "      <td>[[4.80865721 4.80865721 4.80865721] Zr, [3.205...</td>\n",
       "      <td>2.071882</td>\n",
       "      <td>(Zr, Cu, Hg)</td>\n",
       "    </tr>\n",
       "    <tr>\n",
       "      <th>4050</th>\n",
       "      <td>[[0.         0.         1.83652429] P, [3.1335...</td>\n",
       "      <td>2.344392</td>\n",
       "      <td>(P, Ti, Ru)</td>\n",
       "    </tr>\n",
       "    <tr>\n",
       "      <th>6792</th>\n",
       "      <td>[[2.3309339  1.34576271 7.92190123] Pb, [-2.33...</td>\n",
       "      <td>0.602060</td>\n",
       "      <td>(Pb, I)</td>\n",
       "    </tr>\n",
       "  </tbody>\n",
       "</table>\n",
       "</div>"
      ],
      "text/plain": [
       "                                              structure  log10(K_VRH)  \\\n",
       "3013  [[1.5733895 1.5733895 1.5733895] Ti, [0. 0. 0....      2.060698   \n",
       "7030  [[0.         2.48703496 2.48703496] Na, [2.487...      0.301030   \n",
       "8743  [[4.80865721 4.80865721 4.80865721] Zr, [3.205...      2.071882   \n",
       "4050  [[0.         0.         1.83652429] P, [3.1335...      2.344392   \n",
       "6792  [[2.3309339  1.34576271 7.92190123] Pb, [-2.33...      0.602060   \n",
       "\n",
       "       composition  \n",
       "3013      (Ti, Zn)  \n",
       "7030      (Na, Tl)  \n",
       "8743  (Zr, Cu, Hg)  \n",
       "4050   (P, Ti, Ru)  \n",
       "6792       (Pb, I)  "
      ]
     },
     "execution_count": 8,
     "metadata": {},
     "output_type": "execute_result"
    }
   ],
   "source": [
    "from matminer.featurizers.composition.composite import ElementProperty\n",
    "from matminer.featurizers.structure.order import DensityFeatures\n",
    "\n",
    "# Add a composition column to df using the composition property of the Structure class and a lambda function\n",
    "df['composition'] = df.structure.apply(lambda x: x.composition )\n",
    "df.head()"
   ]
  },
  {
   "cell_type": "markdown",
   "metadata": {
    "id": "ew5KbIuiRvEl"
   },
   "source": [
    "The new composition column contains both the elements and the amount of each element in the composition. Let's use the `ElementProperty` featuriser to add some composition-based features to our dataset."
   ]
  },
  {
   "cell_type": "code",
   "execution_count": 9,
   "metadata": {
    "colab": {
     "base_uri": "https://localhost:8080/",
     "height": 618,
     "referenced_widgets": [
      "e710b8caf6bd4a09a6a118403d80fc3c",
      "4203508c83744a5c84670c0bbc06965b",
      "e6dbacb36ff641339737d92e45d93b26",
      "535ada5b803145178dddce7c4f280a08",
      "b9f2dd4af34944e0b98aa9d14d9d437f",
      "60a6d250398b4f918303e5214d1ac09f",
      "0c124b51f2524de896ffa4410f093dfe",
      "425f61fb86954383866c17ba4dfa6e7d",
      "599bf9f909614f1c89c2fb8a2de5ec20",
      "48470cbdaff145de994fe6d89bcd394d",
      "91300eca1cd14325af914e5c65c5e90c"
     ]
    },
    "id": "gRGbhEXTFAP5",
    "outputId": "1c47fad6-6db4-4b9b-c467-ce7ca512f0a0"
   },
   "outputs": [
    {
     "name": "stderr",
     "output_type": "stream",
     "text": [
      "/home/ayham/ICL_AI_Course/.venv/lib/python3.12/site-packages/matminer/utils/data.py:326: UserWarning: MagpieData(impute_nan=False):\n",
      "In a future release, impute_nan will be set to True by default.\n",
      "                    This means that features that are missing or are NaNs for elements\n",
      "                    from the data source will be replaced by the average of that value\n",
      "                    over the available elements.\n",
      "                    This avoids NaNs after featurization that are often replaced by\n",
      "                    dataset-dependent averages.\n",
      "  warnings.warn(f\"{self.__class__.__name__}(impute_nan=False):\\n\" + IMPUTE_NAN_WARNING)\n",
      "ElementProperty: 100%|██████████| 1500/1500 [00:02<00:00, 696.07it/s]\n"
     ]
    },
    {
     "name": "stdout",
     "output_type": "stream",
     "text": [
      "(1500, 135)\n"
     ]
    },
    {
     "data": {
      "text/html": [
       "<div>\n",
       "<style scoped>\n",
       "    .dataframe tbody tr th:only-of-type {\n",
       "        vertical-align: middle;\n",
       "    }\n",
       "\n",
       "    .dataframe tbody tr th {\n",
       "        vertical-align: top;\n",
       "    }\n",
       "\n",
       "    .dataframe thead th {\n",
       "        text-align: right;\n",
       "    }\n",
       "</style>\n",
       "<table border=\"1\" class=\"dataframe\">\n",
       "  <thead>\n",
       "    <tr style=\"text-align: right;\">\n",
       "      <th></th>\n",
       "      <th>structure</th>\n",
       "      <th>log10(K_VRH)</th>\n",
       "      <th>composition</th>\n",
       "      <th>MagpieData minimum Number</th>\n",
       "      <th>MagpieData maximum Number</th>\n",
       "      <th>MagpieData range Number</th>\n",
       "      <th>MagpieData mean Number</th>\n",
       "      <th>MagpieData avg_dev Number</th>\n",
       "      <th>MagpieData mode Number</th>\n",
       "      <th>MagpieData minimum MendeleevNumber</th>\n",
       "      <th>...</th>\n",
       "      <th>MagpieData range GSmagmom</th>\n",
       "      <th>MagpieData mean GSmagmom</th>\n",
       "      <th>MagpieData avg_dev GSmagmom</th>\n",
       "      <th>MagpieData mode GSmagmom</th>\n",
       "      <th>MagpieData minimum SpaceGroupNumber</th>\n",
       "      <th>MagpieData maximum SpaceGroupNumber</th>\n",
       "      <th>MagpieData range SpaceGroupNumber</th>\n",
       "      <th>MagpieData mean SpaceGroupNumber</th>\n",
       "      <th>MagpieData avg_dev SpaceGroupNumber</th>\n",
       "      <th>MagpieData mode SpaceGroupNumber</th>\n",
       "    </tr>\n",
       "  </thead>\n",
       "  <tbody>\n",
       "    <tr>\n",
       "      <th>3013</th>\n",
       "      <td>[[1.5733895 1.5733895 1.5733895] Ti, [0. 0. 0....</td>\n",
       "      <td>2.060698</td>\n",
       "      <td>(Ti, Zn)</td>\n",
       "      <td>22.0</td>\n",
       "      <td>30.0</td>\n",
       "      <td>8.0</td>\n",
       "      <td>26.000000</td>\n",
       "      <td>4.000000</td>\n",
       "      <td>22.0</td>\n",
       "      <td>43.0</td>\n",
       "      <td>...</td>\n",
       "      <td>0.000023</td>\n",
       "      <td>0.000011</td>\n",
       "      <td>0.000011</td>\n",
       "      <td>0.0</td>\n",
       "      <td>194.0</td>\n",
       "      <td>194.0</td>\n",
       "      <td>0.0</td>\n",
       "      <td>194.000000</td>\n",
       "      <td>0.000000</td>\n",
       "      <td>194.0</td>\n",
       "    </tr>\n",
       "    <tr>\n",
       "      <th>7030</th>\n",
       "      <td>[[0.         2.48703496 2.48703496] Na, [2.487...</td>\n",
       "      <td>0.301030</td>\n",
       "      <td>(Na, Tl)</td>\n",
       "      <td>11.0</td>\n",
       "      <td>81.0</td>\n",
       "      <td>70.0</td>\n",
       "      <td>28.500000</td>\n",
       "      <td>26.250000</td>\n",
       "      <td>11.0</td>\n",
       "      <td>2.0</td>\n",
       "      <td>...</td>\n",
       "      <td>0.000000</td>\n",
       "      <td>0.000000</td>\n",
       "      <td>0.000000</td>\n",
       "      <td>0.0</td>\n",
       "      <td>194.0</td>\n",
       "      <td>229.0</td>\n",
       "      <td>35.0</td>\n",
       "      <td>220.250000</td>\n",
       "      <td>13.125000</td>\n",
       "      <td>229.0</td>\n",
       "    </tr>\n",
       "    <tr>\n",
       "      <th>8743</th>\n",
       "      <td>[[4.80865721 4.80865721 4.80865721] Zr, [3.205...</td>\n",
       "      <td>2.071882</td>\n",
       "      <td>(Zr, Cu, Hg)</td>\n",
       "      <td>29.0</td>\n",
       "      <td>80.0</td>\n",
       "      <td>51.0</td>\n",
       "      <td>44.500000</td>\n",
       "      <td>17.750000</td>\n",
       "      <td>29.0</td>\n",
       "      <td>44.0</td>\n",
       "      <td>...</td>\n",
       "      <td>0.000000</td>\n",
       "      <td>0.000000</td>\n",
       "      <td>0.000000</td>\n",
       "      <td>0.0</td>\n",
       "      <td>166.0</td>\n",
       "      <td>225.0</td>\n",
       "      <td>59.0</td>\n",
       "      <td>202.500000</td>\n",
       "      <td>22.500000</td>\n",
       "      <td>225.0</td>\n",
       "    </tr>\n",
       "    <tr>\n",
       "      <th>4050</th>\n",
       "      <td>[[0.         0.         1.83652429] P, [3.1335...</td>\n",
       "      <td>2.344392</td>\n",
       "      <td>(P, Ti, Ru)</td>\n",
       "      <td>15.0</td>\n",
       "      <td>44.0</td>\n",
       "      <td>29.0</td>\n",
       "      <td>27.000000</td>\n",
       "      <td>11.333333</td>\n",
       "      <td>15.0</td>\n",
       "      <td>43.0</td>\n",
       "      <td>...</td>\n",
       "      <td>0.000023</td>\n",
       "      <td>0.000008</td>\n",
       "      <td>0.000010</td>\n",
       "      <td>0.0</td>\n",
       "      <td>2.0</td>\n",
       "      <td>194.0</td>\n",
       "      <td>192.0</td>\n",
       "      <td>130.000000</td>\n",
       "      <td>85.333333</td>\n",
       "      <td>2.0</td>\n",
       "    </tr>\n",
       "    <tr>\n",
       "      <th>6792</th>\n",
       "      <td>[[2.3309339  1.34576271 7.92190123] Pb, [-2.33...</td>\n",
       "      <td>0.602060</td>\n",
       "      <td>(Pb, I)</td>\n",
       "      <td>53.0</td>\n",
       "      <td>82.0</td>\n",
       "      <td>29.0</td>\n",
       "      <td>62.666667</td>\n",
       "      <td>12.888889</td>\n",
       "      <td>53.0</td>\n",
       "      <td>81.0</td>\n",
       "      <td>...</td>\n",
       "      <td>0.000000</td>\n",
       "      <td>0.000000</td>\n",
       "      <td>0.000000</td>\n",
       "      <td>0.0</td>\n",
       "      <td>64.0</td>\n",
       "      <td>225.0</td>\n",
       "      <td>161.0</td>\n",
       "      <td>117.666667</td>\n",
       "      <td>71.555556</td>\n",
       "      <td>64.0</td>\n",
       "    </tr>\n",
       "  </tbody>\n",
       "</table>\n",
       "<p>5 rows × 135 columns</p>\n",
       "</div>"
      ],
      "text/plain": [
       "                                              structure  log10(K_VRH)  \\\n",
       "3013  [[1.5733895 1.5733895 1.5733895] Ti, [0. 0. 0....      2.060698   \n",
       "7030  [[0.         2.48703496 2.48703496] Na, [2.487...      0.301030   \n",
       "8743  [[4.80865721 4.80865721 4.80865721] Zr, [3.205...      2.071882   \n",
       "4050  [[0.         0.         1.83652429] P, [3.1335...      2.344392   \n",
       "6792  [[2.3309339  1.34576271 7.92190123] Pb, [-2.33...      0.602060   \n",
       "\n",
       "       composition  MagpieData minimum Number  MagpieData maximum Number  \\\n",
       "3013      (Ti, Zn)                       22.0                       30.0   \n",
       "7030      (Na, Tl)                       11.0                       81.0   \n",
       "8743  (Zr, Cu, Hg)                       29.0                       80.0   \n",
       "4050   (P, Ti, Ru)                       15.0                       44.0   \n",
       "6792       (Pb, I)                       53.0                       82.0   \n",
       "\n",
       "      MagpieData range Number  MagpieData mean Number  \\\n",
       "3013                      8.0               26.000000   \n",
       "7030                     70.0               28.500000   \n",
       "8743                     51.0               44.500000   \n",
       "4050                     29.0               27.000000   \n",
       "6792                     29.0               62.666667   \n",
       "\n",
       "      MagpieData avg_dev Number  MagpieData mode Number  \\\n",
       "3013                   4.000000                    22.0   \n",
       "7030                  26.250000                    11.0   \n",
       "8743                  17.750000                    29.0   \n",
       "4050                  11.333333                    15.0   \n",
       "6792                  12.888889                    53.0   \n",
       "\n",
       "      MagpieData minimum MendeleevNumber  ...  MagpieData range GSmagmom  \\\n",
       "3013                                43.0  ...                   0.000023   \n",
       "7030                                 2.0  ...                   0.000000   \n",
       "8743                                44.0  ...                   0.000000   \n",
       "4050                                43.0  ...                   0.000023   \n",
       "6792                                81.0  ...                   0.000000   \n",
       "\n",
       "      MagpieData mean GSmagmom  MagpieData avg_dev GSmagmom  \\\n",
       "3013                  0.000011                     0.000011   \n",
       "7030                  0.000000                     0.000000   \n",
       "8743                  0.000000                     0.000000   \n",
       "4050                  0.000008                     0.000010   \n",
       "6792                  0.000000                     0.000000   \n",
       "\n",
       "      MagpieData mode GSmagmom  MagpieData minimum SpaceGroupNumber  \\\n",
       "3013                       0.0                                194.0   \n",
       "7030                       0.0                                194.0   \n",
       "8743                       0.0                                166.0   \n",
       "4050                       0.0                                  2.0   \n",
       "6792                       0.0                                 64.0   \n",
       "\n",
       "      MagpieData maximum SpaceGroupNumber  MagpieData range SpaceGroupNumber  \\\n",
       "3013                                194.0                                0.0   \n",
       "7030                                229.0                               35.0   \n",
       "8743                                225.0                               59.0   \n",
       "4050                                194.0                              192.0   \n",
       "6792                                225.0                              161.0   \n",
       "\n",
       "      MagpieData mean SpaceGroupNumber  MagpieData avg_dev SpaceGroupNumber  \\\n",
       "3013                        194.000000                             0.000000   \n",
       "7030                        220.250000                            13.125000   \n",
       "8743                        202.500000                            22.500000   \n",
       "4050                        130.000000                            85.333333   \n",
       "6792                        117.666667                            71.555556   \n",
       "\n",
       "      MagpieData mode SpaceGroupNumber  \n",
       "3013                             194.0  \n",
       "7030                             229.0  \n",
       "8743                             225.0  \n",
       "4050                               2.0  \n",
       "6792                              64.0  \n",
       "\n",
       "[5 rows x 135 columns]"
      ]
     },
     "execution_count": 9,
     "metadata": {},
     "output_type": "execute_result"
    }
   ],
   "source": [
    "# Create the ElementProperty featuriser\n",
    "el_prop_featuriser = ElementProperty.from_preset(preset_name='magpie')\n",
    "\n",
    "# By default multiprocessing is enabled, however this has been known to slow performance on some systems, so we disable it\n",
    "el_prop_featuriser.set_n_jobs(1)\n",
    "\n",
    "# Apply the ElementProperty featuriser\n",
    "df = el_prop_featuriser.featurize_dataframe(df, col_id='composition')\n",
    "\n",
    "# Print the shape of the DataFrame\n",
    "print(df.shape)\n",
    "df.head()"
   ]
  },
  {
   "cell_type": "markdown",
   "metadata": {
    "id": "WscGGruUJuSW"
   },
   "source": [
    "There are now a lot more columns in the DataFrame. We can check the reference for a property featuriser using the `.citations()` method as shown below."
   ]
  },
  {
   "cell_type": "code",
   "execution_count": 10,
   "metadata": {
    "colab": {
     "base_uri": "https://localhost:8080/"
    },
    "id": "PJxQSYPnJ24A",
    "outputId": "40a22222-d78d-439b-ffb2-5564df5410b1"
   },
   "outputs": [
    {
     "data": {
      "text/plain": [
       "['@article{ward_agrawal_choudary_wolverton_2016, title={A general-purpose machine learning framework for predicting properties of inorganic materials}, volume={2}, DOI={10.1038/npjcompumats.2017.28}, number={1}, journal={npj Computational Materials}, author={Ward, Logan and Agrawal, Ankit and Choudhary, Alok and Wolverton, Christopher}, year={2016}}']"
      ]
     },
     "execution_count": 10,
     "metadata": {},
     "output_type": "execute_result"
    }
   ],
   "source": [
    "el_prop_featuriser.citations()"
   ]
  },
  {
   "cell_type": "markdown",
   "metadata": {
    "id": "j7sL1U_eSk2W"
   },
   "source": [
    "### Structure-based features\n",
    "\n",
    "Within `matminer`, there are many featurisers which operate on crystal structures. We will add some simple features based on the density of the structures using `DensityFeatures`. We will return to these later in the module. "
   ]
  },
  {
   "cell_type": "code",
   "execution_count": 11,
   "metadata": {
    "colab": {
     "base_uri": "https://localhost:8080/",
     "height": 600,
     "referenced_widgets": [
      "1dae799457dc4e64a7ba43cd84610e51",
      "a3e03881631a4c3a877bddd40a4b9339",
      "2421b0bee5ea47a5b57268a17bf77388",
      "14a91f0ac7884937abd7cdbcf640f146",
      "a83f1fc752fe461b91768d888eaf6d74",
      "9f929bd631c240c593b25abc794292bc",
      "f5ba5255dbae4b238b8989248a4c432c",
      "fecccd219e104ecd8de37e4cfa833466",
      "7362762449f8404d8798a39ecaa2879d",
      "0777667d2dce45488b68ca1762e881e4",
      "d8b3449a21b845c9bbffb7e3871097f1"
     ]
    },
    "id": "-KGqcyFKFAP7",
    "outputId": "a5ec79dd-eb8e-45cc-8b94-736fa74f72fa"
   },
   "outputs": [
    {
     "name": "stderr",
     "output_type": "stream",
     "text": [
      "DensityFeatures: 100%|██████████| 1500/1500 [00:01<00:00, 1018.87it/s]\n"
     ]
    },
    {
     "data": {
      "text/html": [
       "<div>\n",
       "<style scoped>\n",
       "    .dataframe tbody tr th:only-of-type {\n",
       "        vertical-align: middle;\n",
       "    }\n",
       "\n",
       "    .dataframe tbody tr th {\n",
       "        vertical-align: top;\n",
       "    }\n",
       "\n",
       "    .dataframe thead th {\n",
       "        text-align: right;\n",
       "    }\n",
       "</style>\n",
       "<table border=\"1\" class=\"dataframe\">\n",
       "  <thead>\n",
       "    <tr style=\"text-align: right;\">\n",
       "      <th></th>\n",
       "      <th>structure</th>\n",
       "      <th>log10(K_VRH)</th>\n",
       "      <th>composition</th>\n",
       "      <th>MagpieData minimum Number</th>\n",
       "      <th>MagpieData maximum Number</th>\n",
       "      <th>MagpieData range Number</th>\n",
       "      <th>MagpieData mean Number</th>\n",
       "      <th>MagpieData avg_dev Number</th>\n",
       "      <th>MagpieData mode Number</th>\n",
       "      <th>MagpieData minimum MendeleevNumber</th>\n",
       "      <th>...</th>\n",
       "      <th>MagpieData mode GSmagmom</th>\n",
       "      <th>MagpieData minimum SpaceGroupNumber</th>\n",
       "      <th>MagpieData maximum SpaceGroupNumber</th>\n",
       "      <th>MagpieData range SpaceGroupNumber</th>\n",
       "      <th>MagpieData mean SpaceGroupNumber</th>\n",
       "      <th>MagpieData avg_dev SpaceGroupNumber</th>\n",
       "      <th>MagpieData mode SpaceGroupNumber</th>\n",
       "      <th>density</th>\n",
       "      <th>vpa</th>\n",
       "      <th>packing fraction</th>\n",
       "    </tr>\n",
       "  </thead>\n",
       "  <tbody>\n",
       "    <tr>\n",
       "      <th>3013</th>\n",
       "      <td>[[1.5733895 1.5733895 1.5733895] Ti, [0. 0. 0....</td>\n",
       "      <td>2.060698</td>\n",
       "      <td>(Ti, Zn)</td>\n",
       "      <td>22.0</td>\n",
       "      <td>30.0</td>\n",
       "      <td>8.0</td>\n",
       "      <td>26.000000</td>\n",
       "      <td>4.000000</td>\n",
       "      <td>22.0</td>\n",
       "      <td>43.0</td>\n",
       "      <td>...</td>\n",
       "      <td>0.0</td>\n",
       "      <td>194.0</td>\n",
       "      <td>194.0</td>\n",
       "      <td>0.0</td>\n",
       "      <td>194.000000</td>\n",
       "      <td>0.000000</td>\n",
       "      <td>194.0</td>\n",
       "      <td>6.036543</td>\n",
       "      <td>15.580046</td>\n",
       "      <td>0.699614</td>\n",
       "    </tr>\n",
       "    <tr>\n",
       "      <th>7030</th>\n",
       "      <td>[[0.         2.48703496 2.48703496] Na, [2.487...</td>\n",
       "      <td>0.301030</td>\n",
       "      <td>(Na, Tl)</td>\n",
       "      <td>11.0</td>\n",
       "      <td>81.0</td>\n",
       "      <td>70.0</td>\n",
       "      <td>28.500000</td>\n",
       "      <td>26.250000</td>\n",
       "      <td>11.0</td>\n",
       "      <td>2.0</td>\n",
       "      <td>...</td>\n",
       "      <td>0.0</td>\n",
       "      <td>194.0</td>\n",
       "      <td>229.0</td>\n",
       "      <td>35.0</td>\n",
       "      <td>220.250000</td>\n",
       "      <td>13.125000</td>\n",
       "      <td>229.0</td>\n",
       "      <td>3.688344</td>\n",
       "      <td>30.766697</td>\n",
       "      <td>0.828964</td>\n",
       "    </tr>\n",
       "    <tr>\n",
       "      <th>8743</th>\n",
       "      <td>[[4.80865721 4.80865721 4.80865721] Zr, [3.205...</td>\n",
       "      <td>2.071882</td>\n",
       "      <td>(Zr, Cu, Hg)</td>\n",
       "      <td>29.0</td>\n",
       "      <td>80.0</td>\n",
       "      <td>51.0</td>\n",
       "      <td>44.500000</td>\n",
       "      <td>17.750000</td>\n",
       "      <td>29.0</td>\n",
       "      <td>44.0</td>\n",
       "      <td>...</td>\n",
       "      <td>0.0</td>\n",
       "      <td>166.0</td>\n",
       "      <td>225.0</td>\n",
       "      <td>59.0</td>\n",
       "      <td>202.500000</td>\n",
       "      <td>22.500000</td>\n",
       "      <td>225.0</td>\n",
       "      <td>10.556981</td>\n",
       "      <td>16.472744</td>\n",
       "      <td>0.764106</td>\n",
       "    </tr>\n",
       "    <tr>\n",
       "      <th>4050</th>\n",
       "      <td>[[0.         0.         1.83652429] P, [3.1335...</td>\n",
       "      <td>2.344392</td>\n",
       "      <td>(P, Ti, Ru)</td>\n",
       "      <td>15.0</td>\n",
       "      <td>44.0</td>\n",
       "      <td>29.0</td>\n",
       "      <td>27.000000</td>\n",
       "      <td>11.333333</td>\n",
       "      <td>15.0</td>\n",
       "      <td>43.0</td>\n",
       "      <td>...</td>\n",
       "      <td>0.0</td>\n",
       "      <td>2.0</td>\n",
       "      <td>194.0</td>\n",
       "      <td>192.0</td>\n",
       "      <td>130.000000</td>\n",
       "      <td>85.333333</td>\n",
       "      <td>2.0</td>\n",
       "      <td>7.173677</td>\n",
       "      <td>13.881716</td>\n",
       "      <td>0.597563</td>\n",
       "    </tr>\n",
       "    <tr>\n",
       "      <th>6792</th>\n",
       "      <td>[[2.3309339  1.34576271 7.92190123] Pb, [-2.33...</td>\n",
       "      <td>0.602060</td>\n",
       "      <td>(Pb, I)</td>\n",
       "      <td>53.0</td>\n",
       "      <td>82.0</td>\n",
       "      <td>29.0</td>\n",
       "      <td>62.666667</td>\n",
       "      <td>12.888889</td>\n",
       "      <td>53.0</td>\n",
       "      <td>81.0</td>\n",
       "      <td>...</td>\n",
       "      <td>0.0</td>\n",
       "      <td>64.0</td>\n",
       "      <td>225.0</td>\n",
       "      <td>161.0</td>\n",
       "      <td>117.666667</td>\n",
       "      <td>71.555556</td>\n",
       "      <td>64.0</td>\n",
       "      <td>5.134592</td>\n",
       "      <td>49.697122</td>\n",
       "      <td>0.318041</td>\n",
       "    </tr>\n",
       "  </tbody>\n",
       "</table>\n",
       "<p>5 rows × 138 columns</p>\n",
       "</div>"
      ],
      "text/plain": [
       "                                              structure  log10(K_VRH)  \\\n",
       "3013  [[1.5733895 1.5733895 1.5733895] Ti, [0. 0. 0....      2.060698   \n",
       "7030  [[0.         2.48703496 2.48703496] Na, [2.487...      0.301030   \n",
       "8743  [[4.80865721 4.80865721 4.80865721] Zr, [3.205...      2.071882   \n",
       "4050  [[0.         0.         1.83652429] P, [3.1335...      2.344392   \n",
       "6792  [[2.3309339  1.34576271 7.92190123] Pb, [-2.33...      0.602060   \n",
       "\n",
       "       composition  MagpieData minimum Number  MagpieData maximum Number  \\\n",
       "3013      (Ti, Zn)                       22.0                       30.0   \n",
       "7030      (Na, Tl)                       11.0                       81.0   \n",
       "8743  (Zr, Cu, Hg)                       29.0                       80.0   \n",
       "4050   (P, Ti, Ru)                       15.0                       44.0   \n",
       "6792       (Pb, I)                       53.0                       82.0   \n",
       "\n",
       "      MagpieData range Number  MagpieData mean Number  \\\n",
       "3013                      8.0               26.000000   \n",
       "7030                     70.0               28.500000   \n",
       "8743                     51.0               44.500000   \n",
       "4050                     29.0               27.000000   \n",
       "6792                     29.0               62.666667   \n",
       "\n",
       "      MagpieData avg_dev Number  MagpieData mode Number  \\\n",
       "3013                   4.000000                    22.0   \n",
       "7030                  26.250000                    11.0   \n",
       "8743                  17.750000                    29.0   \n",
       "4050                  11.333333                    15.0   \n",
       "6792                  12.888889                    53.0   \n",
       "\n",
       "      MagpieData minimum MendeleevNumber  ...  MagpieData mode GSmagmom  \\\n",
       "3013                                43.0  ...                       0.0   \n",
       "7030                                 2.0  ...                       0.0   \n",
       "8743                                44.0  ...                       0.0   \n",
       "4050                                43.0  ...                       0.0   \n",
       "6792                                81.0  ...                       0.0   \n",
       "\n",
       "      MagpieData minimum SpaceGroupNumber  \\\n",
       "3013                                194.0   \n",
       "7030                                194.0   \n",
       "8743                                166.0   \n",
       "4050                                  2.0   \n",
       "6792                                 64.0   \n",
       "\n",
       "      MagpieData maximum SpaceGroupNumber  MagpieData range SpaceGroupNumber  \\\n",
       "3013                                194.0                                0.0   \n",
       "7030                                229.0                               35.0   \n",
       "8743                                225.0                               59.0   \n",
       "4050                                194.0                              192.0   \n",
       "6792                                225.0                              161.0   \n",
       "\n",
       "      MagpieData mean SpaceGroupNumber  MagpieData avg_dev SpaceGroupNumber  \\\n",
       "3013                        194.000000                             0.000000   \n",
       "7030                        220.250000                            13.125000   \n",
       "8743                        202.500000                            22.500000   \n",
       "4050                        130.000000                            85.333333   \n",
       "6792                        117.666667                            71.555556   \n",
       "\n",
       "      MagpieData mode SpaceGroupNumber    density        vpa  packing fraction  \n",
       "3013                             194.0   6.036543  15.580046          0.699614  \n",
       "7030                             229.0   3.688344  30.766697          0.828964  \n",
       "8743                             225.0  10.556981  16.472744          0.764106  \n",
       "4050                               2.0   7.173677  13.881716          0.597563  \n",
       "6792                              64.0   5.134592  49.697122          0.318041  \n",
       "\n",
       "[5 rows x 138 columns]"
      ]
     },
     "execution_count": 11,
     "metadata": {},
     "output_type": "execute_result"
    }
   ],
   "source": [
    "# Crystal structure to vector\n",
    "density_featuriser = DensityFeatures()\n",
    "density_featuriser.set_n_jobs(1)\n",
    "df=density_featuriser.fit_featurize_dataframe(df, col_id='structure')\n",
    "\n",
    "df.head()"
   ]
  },
  {
   "cell_type": "markdown",
   "metadata": {
    "id": "jkFiyddrFAP_"
   },
   "source": [
    "## Bulk modulus regression\n",
    "\n",
    "With regression tasks, we want to fit a model that maps our input feature $x$ to our target variable $y$, i.e. $y=f(x)$. Here, $x$ and $y$ are vectors of dimensions $M$ and $N$, respectively, such that $f: \\mathbb{R}^M\\rightarrow\\mathbb{R}^N$.  \n",
    "\n",
    "Supervised machine learning problems generally take the following form:\n",
    "* Select a form for the model $f$\n",
    "* Determine an error/loss function that is used to evaluate model performance\n",
    "* Optimise the parameters of the model to minimise the error\n",
    "\n",
    "The error, $L(\\hat{y},y)$, is a function of the predicted target variable $\\hat{\\textbf{y}}=f(\\textbf{x})$ and the true target variable, $\\textbf{y}$. We want our model to minimise $L$. \n",
    "\n",
    "For our problem. the target variable is `log(K_VRH)`, which we want to predict from knowledge of the composition and structure (represented by the set of chosen features). \n",
    "\n",
    "We can make extensive use of [scikit-learn](https://scikit-learn.org) for these tasks."
   ]
  },
  {
   "cell_type": "markdown",
   "metadata": {
    "id": "iNvTOfW1FAQB"
   },
   "source": [
    "### Data preparation\n",
    "\n",
    "To start, we need to split our dataset into the target variable `log10(K_VRH)` and the input features. For the input features, we must remove any non-numerical data."
   ]
  },
  {
   "cell_type": "code",
   "execution_count": 12,
   "metadata": {
    "colab": {
     "base_uri": "https://localhost:8080/"
    },
    "id": "dfGnmTGUFAQC",
    "outputId": "971126da-dea3-4714-e6ad-e9a029f4e9a1"
   },
   "outputs": [
    {
     "name": "stdout",
     "output_type": "stream",
     "text": [
      "Shape of X: (1500, 135)\n",
      "Shape of y: (1500,)\n"
     ]
    }
   ],
   "source": [
    "# Define the features we want to keep\n",
    "features_to_drop = ['structure','composition','log10(K_VRH)']\n",
    "feature_cols = [col for col in list(df.columns) if col not in features_to_drop]\n",
    "\n",
    "# Get an array of the features\n",
    "X = df[feature_cols].values\n",
    "\n",
    "# Get an array of the target variable\n",
    "y = df['log10(K_VRH)'].values\n",
    "\n",
    "print(f'Shape of X: {X.shape}')\n",
    "print(f'Shape of y: {y.shape}')"
   ]
  },
  {
   "cell_type": "markdown",
   "metadata": {
    "id": "Fsi1YQeSFAQE"
   },
   "source": [
    "We can also check the names of the features used for our model.\n"
   ]
  },
  {
   "cell_type": "code",
   "execution_count": 14,
   "metadata": {
    "colab": {
     "base_uri": "https://localhost:8080/"
    },
    "id": "1NJSASnsFAQF",
    "outputId": "44e240a5-5445-414a-b23d-2c53d10d4c7a"
   },
   "outputs": [
    {
     "name": "stdout",
     "output_type": "stream",
     "text": [
      "We have 135 features in our dataset.\n",
      "['MagpieData minimum Number', 'MagpieData maximum Number', 'MagpieData range Number', 'MagpieData mean Number', 'MagpieData avg_dev Number', 'MagpieData mode Number', 'MagpieData minimum MendeleevNumber', 'MagpieData maximum MendeleevNumber', 'MagpieData range MendeleevNumber', 'MagpieData mean MendeleevNumber', 'MagpieData avg_dev MendeleevNumber', 'MagpieData mode MendeleevNumber', 'MagpieData minimum AtomicWeight', 'MagpieData maximum AtomicWeight', 'MagpieData range AtomicWeight', 'MagpieData mean AtomicWeight', 'MagpieData avg_dev AtomicWeight', 'MagpieData mode AtomicWeight', 'MagpieData minimum MeltingT', 'MagpieData maximum MeltingT', 'MagpieData range MeltingT', 'MagpieData mean MeltingT', 'MagpieData avg_dev MeltingT', 'MagpieData mode MeltingT', 'MagpieData minimum Column', 'MagpieData maximum Column', 'MagpieData range Column', 'MagpieData mean Column', 'MagpieData avg_dev Column', 'MagpieData mode Column', 'MagpieData minimum Row', 'MagpieData maximum Row', 'MagpieData range Row', 'MagpieData mean Row', 'MagpieData avg_dev Row', 'MagpieData mode Row', 'MagpieData minimum CovalentRadius', 'MagpieData maximum CovalentRadius', 'MagpieData range CovalentRadius', 'MagpieData mean CovalentRadius', 'MagpieData avg_dev CovalentRadius', 'MagpieData mode CovalentRadius', 'MagpieData minimum Electronegativity', 'MagpieData maximum Electronegativity', 'MagpieData range Electronegativity', 'MagpieData mean Electronegativity', 'MagpieData avg_dev Electronegativity', 'MagpieData mode Electronegativity', 'MagpieData minimum NsValence', 'MagpieData maximum NsValence', 'MagpieData range NsValence', 'MagpieData mean NsValence', 'MagpieData avg_dev NsValence', 'MagpieData mode NsValence', 'MagpieData minimum NpValence', 'MagpieData maximum NpValence', 'MagpieData range NpValence', 'MagpieData mean NpValence', 'MagpieData avg_dev NpValence', 'MagpieData mode NpValence', 'MagpieData minimum NdValence', 'MagpieData maximum NdValence', 'MagpieData range NdValence', 'MagpieData mean NdValence', 'MagpieData avg_dev NdValence', 'MagpieData mode NdValence', 'MagpieData minimum NfValence', 'MagpieData maximum NfValence', 'MagpieData range NfValence', 'MagpieData mean NfValence', 'MagpieData avg_dev NfValence', 'MagpieData mode NfValence', 'MagpieData minimum NValence', 'MagpieData maximum NValence', 'MagpieData range NValence', 'MagpieData mean NValence', 'MagpieData avg_dev NValence', 'MagpieData mode NValence', 'MagpieData minimum NsUnfilled', 'MagpieData maximum NsUnfilled', 'MagpieData range NsUnfilled', 'MagpieData mean NsUnfilled', 'MagpieData avg_dev NsUnfilled', 'MagpieData mode NsUnfilled', 'MagpieData minimum NpUnfilled', 'MagpieData maximum NpUnfilled', 'MagpieData range NpUnfilled', 'MagpieData mean NpUnfilled', 'MagpieData avg_dev NpUnfilled', 'MagpieData mode NpUnfilled', 'MagpieData minimum NdUnfilled', 'MagpieData maximum NdUnfilled', 'MagpieData range NdUnfilled', 'MagpieData mean NdUnfilled', 'MagpieData avg_dev NdUnfilled', 'MagpieData mode NdUnfilled', 'MagpieData minimum NfUnfilled', 'MagpieData maximum NfUnfilled', 'MagpieData range NfUnfilled', 'MagpieData mean NfUnfilled', 'MagpieData avg_dev NfUnfilled', 'MagpieData mode NfUnfilled', 'MagpieData minimum NUnfilled', 'MagpieData maximum NUnfilled', 'MagpieData range NUnfilled', 'MagpieData mean NUnfilled', 'MagpieData avg_dev NUnfilled', 'MagpieData mode NUnfilled', 'MagpieData minimum GSvolume_pa', 'MagpieData maximum GSvolume_pa', 'MagpieData range GSvolume_pa', 'MagpieData mean GSvolume_pa', 'MagpieData avg_dev GSvolume_pa', 'MagpieData mode GSvolume_pa', 'MagpieData minimum GSbandgap', 'MagpieData maximum GSbandgap', 'MagpieData range GSbandgap', 'MagpieData mean GSbandgap', 'MagpieData avg_dev GSbandgap', 'MagpieData mode GSbandgap', 'MagpieData minimum GSmagmom', 'MagpieData maximum GSmagmom', 'MagpieData range GSmagmom', 'MagpieData mean GSmagmom', 'MagpieData avg_dev GSmagmom', 'MagpieData mode GSmagmom', 'MagpieData minimum SpaceGroupNumber', 'MagpieData maximum SpaceGroupNumber', 'MagpieData range SpaceGroupNumber', 'MagpieData mean SpaceGroupNumber', 'MagpieData avg_dev SpaceGroupNumber', 'MagpieData mode SpaceGroupNumber', 'density', 'vpa', 'packing fraction']\n"
     ]
    }
   ],
   "source": [
    "print(f'We have {len(feature_cols)} features in our dataset.')\n",
    "print(feature_cols)"
   ]
  },
  {
   "cell_type": "markdown",
   "metadata": {},
   "source": [
    "<details>\n",
    "<summary> Code hint </summary>\n",
    "Check your print statement!\n",
    "</details>"
   ]
  },
  {
   "cell_type": "markdown",
   "metadata": {
    "id": "wXdIBtHFSWJw"
   },
   "source": [
    "### Baseline linear regression model\n",
    "A simple model is the linear regressor.  For a univariate linear regressor represented by $\\hat{y}=mx+c$, the task is to find the best value of $m$ and $c$ that minimise the model error.\n",
    "\n",
    "If we were to consider multivariate linear regression, then our equation transforms to $\\hat{y}=\\beta_0 + ∑_1^n\\beta_ix_i$, where $\\beta_i$ are the weights of the model and $x_i$ are the input features."
   ]
  },
  {
   "cell_type": "code",
   "execution_count": 15,
   "metadata": {},
   "outputs": [
    {
     "data": {
      "image/png": "[encoded data removed]",
      "text/plain": [
       "<Figure size 500x300 with 1 Axes>"
      ]
     },
     "metadata": {},
     "output_type": "display_data"
    }
   ],
   "source": [
    "# Import linear regression model\n",
    "from sklearn.linear_model import LinearRegression\n",
    "import matplotlib.pyplot as plt\n",
    "\n",
    "# Fit the model to the data\n",
    "lr = LinearRegression()\n",
    "lr.fit(X, y)\n",
    "\n",
    "def make_prediction_plot(X, y, model, label):\n",
    "    \"\"\"\n",
    "    Plot and return predictions for the given model and data.\n",
    "    \n",
    "    Parameters:\n",
    "    X : Input features.\n",
    "    y : Actual target values.\n",
    "    model : Fitted model.\n",
    "    label : Descriptor for the axes labels.\n",
    "    \n",
    "    Returns:\n",
    "    Predicted values.\n",
    "    \"\"\"\n",
    "    y_pred = model.predict(X)\n",
    "    fig, ax = plt.subplots(figsize=(5, 3))\n",
    "    ax.scatter(y, y_pred, c=y, cmap='viridis')\n",
    "    ax.plot(y, y, 'r-')\n",
    "    ax.set_xlabel(f'{label} true')\n",
    "    ax.set_ylabel(f'{label} predicted')\n",
    "    plt.show()\n",
    "    \n",
    "    return y_pred\n",
    "\n",
    "# Make predictions using the fitted model\n",
    "y_pred = make_prediction_plot(X, y, lr, 'log10(K_VRH)')"
   ]
  },
  {
   "cell_type": "code",
   "execution_count": 16,
   "metadata": {
    "colab": {
     "base_uri": "https://localhost:8080/"
    },
    "id": "wqN61jd2itkf",
    "outputId": "92fea7dc-b068-4f68-bd8a-316e2ab86454"
   },
   "outputs": [
    {
     "name": "stdout",
     "output_type": "stream",
     "text": [
      "The training MAE = 0.099 log10GPa\n",
      "The training RMSE = 0.148 log10GPa\n",
      "The training r^2 = 0.860\n"
     ]
    }
   ],
   "source": [
    "from sklearn import metrics\n",
    "\n",
    "# Mean absolute error\n",
    "print (f'The training MAE = {metrics.mean_absolute_error(y,y_pred):.3f} log10GPa')\n",
    "\n",
    "# Mean squared error\n",
    "print(f'The training RMSE = {metrics.root_mean_squared_error(y,y_pred):.3f} log10GPa')\n",
    "\n",
    "# $r^2$ - coefficient of determination\n",
    "print(f'The training r^2 = {lr.score(X,y):.3f}')"
   ]
  },
  {
   "cell_type": "markdown",
   "metadata": {
    "id": "_dqDln7n_szT"
   },
   "source": [
    "Based on your analysis, is this a useful model?"
   ]
  },
  {
   "cell_type": "markdown",
   "metadata": {
    "id": "ze_nruvgFAQH"
   },
   "source": [
    "### Random forest regressor\n",
    "\n",
    "We can do better with a non-linear model. Let's try a machine learning regressor. [Random forest](https://en.wikipedia.org/wiki/Random_forest) is an ensemble machine learning algorithm that combines multiple [decision trees](https://en.wikipedia.org/wiki/Decision_tree) to improve predictive accuracy.\n",
    "\n",
    "Random forest can be applied to both classification and regression tasks. The prediction is made by taking a majority vote (for classification) or averaging (for regression) of the predictions from individual trees. Mathematically, it can be represented as:\n",
    "\n",
    "$\n",
    "\\hat{y}_{RF} = \\frac{1}{n_{trees}} \\sum_{i=1}^{n_{trees}} f_i(x)\n",
    "$\n",
    "\n",
    "where:\n",
    "- $\\hat{y}_{RF}$ is the random forest prediction.\n",
    "- $n_{trees}$ is the number of decision trees in the forest.\n",
    "- $f_i(x)$ represents the prediction of the $i$-th tree.\n",
    "\n",
    "#### 1. Create the regressor\n",
    "\n",
    "In `sklearn`, the random forest regressor is created by:\n",
    "\n",
    "```python\n",
    "RandomForestRegressor(n_estimators=<int>, criterion=<str>, max_depth=<int>, min_samples_split=<int>, min_samples_leaf=<int>)\n",
    "```\n",
    "\n",
    "The hyperparameters that need to be set are:\n",
    "* `n_estimators`: number of decision trees in the random forest model.\n",
    "* `criterion`: loss function to be minimised. Default value is 'squared_error` which is the MSE.\n",
    "* `max_depth`: maximum depth of the tree.\n",
    "* `min_sample_split`: minimum number of samples required to split an internal node.\n",
    "* `min_samples_leaf`: minimum number of samples required to be at a leaf node."
   ]
  },
  {
   "cell_type": "code",
   "execution_count": 17,
   "metadata": {
    "colab": {
     "base_uri": "https://localhost:8080/",
     "height": 75
    },
    "id": "wMUSntUxFAQJ",
    "outputId": "016083c9-92c9-46e5-b835-9046b932cc28"
   },
   "outputs": [
    {
     "data": {
      "text/html": [
       "<style>#sk-container-id-1 {\n",
       "  /* Definition of color scheme common for light and dark mode */\n",
       "  --sklearn-color-text: #000;\n",
       "  --sklearn-color-text-muted: #666;\n",
       "  --sklearn-color-line: gray;\n",
       "  /* Definition of color scheme for unfitted estimators */\n",
       "  --sklearn-color-unfitted-level-0: #fff5e6;\n",
       "  --sklearn-color-unfitted-level-1: #f6e4d2;\n",
       "  --sklearn-color-unfitted-level-2: #ffe0b3;\n",
       "  --sklearn-color-unfitted-level-3: chocolate;\n",
       "  /* Definition of color scheme for fitted estimators */\n",
       "  --sklearn-color-fitted-level-0: #f0f8ff;\n",
       "  --sklearn-color-fitted-level-1: #d4ebff;\n",
       "  --sklearn-color-fitted-level-2: #b3dbfd;\n",
       "  --sklearn-color-fitted-level-3: cornflowerblue;\n",
       "\n",
       "  /* Specific color for light theme */\n",
       "  --sklearn-color-text-on-default-background: var(--sg-text-color, var(--theme-code-foreground, var(--jp-content-font-color1, black)));\n",
       "  --sklearn-color-background: var(--sg-background-color, var(--theme-background, var(--jp-layout-color0, white)));\n",
       "  --sklearn-color-border-box: var(--sg-text-color, var(--theme-code-foreground, var(--jp-content-font-color1, black)));\n",
       "  --sklearn-color-icon: #696969;\n",
       "\n",
       "  @media (prefers-color-scheme: dark) {\n",
       "    /* Redefinition of color scheme for dark theme */\n",
       "    --sklearn-color-text-on-default-background: var(--sg-text-color, var(--theme-code-foreground, var(--jp-content-font-color1, white)));\n",
       "    --sklearn-color-background: var(--sg-background-color, var(--theme-background, var(--jp-layout-color0, #111)));\n",
       "    --sklearn-color-border-box: var(--sg-text-color, var(--theme-code-foreground, var(--jp-content-font-color1, white)));\n",
       "    --sklearn-color-icon: #878787;\n",
       "  }\n",
       "}\n",
       "\n",
       "#sk-container-id-1 {\n",
       "  color: var(--sklearn-color-text);\n",
       "}\n",
       "\n",
       "#sk-container-id-1 pre {\n",
       "  padding: 0;\n",
       "}\n",
       "\n",
       "#sk-container-id-1 input.sk-hidden--visually {\n",
       "  border: 0;\n",
       "  clip: rect(1px 1px 1px 1px);\n",
       "  clip: rect(1px, 1px, 1px, 1px);\n",
       "  height: 1px;\n",
       "  margin: -1px;\n",
       "  overflow: hidden;\n",
       "  padding: 0;\n",
       "  position: absolute;\n",
       "  width: 1px;\n",
       "}\n",
       "\n",
       "#sk-container-id-1 div.sk-dashed-wrapped {\n",
       "  border: 1px dashed var(--sklearn-color-line);\n",
       "  margin: 0 0.4em 0.5em 0.4em;\n",
       "  box-sizing: border-box;\n",
       "  padding-bottom: 0.4em;\n",
       "  background-color: var(--sklearn-color-background);\n",
       "}\n",
       "\n",
       "#sk-container-id-1 div.sk-container {\n",
       "  /* jupyter's `normalize.less` sets `[hidden] { display: none; }`\n",
       "     but bootstrap.min.css set `[hidden] { display: none !important; }`\n",
       "     so we also need the `!important` here to be able to override the\n",
       "     default hidden behavior on the sphinx rendered scikit-learn.org.\n",
       "     See: https://github.com/scikit-learn/scikit-learn/issues/21755 */\n",
       "  display: inline-block !important;\n",
       "  position: relative;\n",
       "}\n",
       "\n",
       "#sk-container-id-1 div.sk-text-repr-fallback {\n",
       "  display: none;\n",
       "}\n",
       "\n",
       "div.sk-parallel-item,\n",
       "div.sk-serial,\n",
       "div.sk-item {\n",
       "  /* draw centered vertical line to link estimators */\n",
       "  background-image: linear-gradient(var(--sklearn-color-text-on-default-background), var(--sklearn-color-text-on-default-background));\n",
       "  background-size: 2px 100%;\n",
       "  background-repeat: no-repeat;\n",
       "  background-position: center center;\n",
       "}\n",
       "\n",
       "/* Parallel-specific style estimator block */\n",
       "\n",
       "#sk-container-id-1 div.sk-parallel-item::after {\n",
       "  content: \"\";\n",
       "  width: 100%;\n",
       "  border-bottom: 2px solid var(--sklearn-color-text-on-default-background);\n",
       "  flex-grow: 1;\n",
       "}\n",
       "\n",
       "#sk-container-id-1 div.sk-parallel {\n",
       "  display: flex;\n",
       "  align-items: stretch;\n",
       "  justify-content: center;\n",
       "  background-color: var(--sklearn-color-background);\n",
       "  position: relative;\n",
       "}\n",
       "\n",
       "#sk-container-id-1 div.sk-parallel-item {\n",
       "  display: flex;\n",
       "  flex-direction: column;\n",
       "}\n",
       "\n",
       "#sk-container-id-1 div.sk-parallel-item:first-child::after {\n",
       "  align-self: flex-end;\n",
       "  width: 50%;\n",
       "}\n",
       "\n",
       "#sk-container-id-1 div.sk-parallel-item:last-child::after {\n",
       "  align-self: flex-start;\n",
       "  width: 50%;\n",
       "}\n",
       "\n",
       "#sk-container-id-1 div.sk-parallel-item:only-child::after {\n",
       "  width: 0;\n",
       "}\n",
       "\n",
       "/* Serial-specific style estimator block */\n",
       "\n",
       "#sk-container-id-1 div.sk-serial {\n",
       "  display: flex;\n",
       "  flex-direction: column;\n",
       "  align-items: center;\n",
       "  background-color: var(--sklearn-color-background);\n",
       "  padding-right: 1em;\n",
       "  padding-left: 1em;\n",
       "}\n",
       "\n",
       "\n",
       "/* Toggleable style: style used for estimator/Pipeline/ColumnTransformer box that is\n",
       "clickable and can be expanded/collapsed.\n",
       "- Pipeline and ColumnTransformer use this feature and define the default style\n",
       "- Estimators will overwrite some part of the style using the `sk-estimator` class\n",
       "*/\n",
       "\n",
       "/* Pipeline and ColumnTransformer style (default) */\n",
       "\n",
       "#sk-container-id-1 div.sk-toggleable {\n",
       "  /* Default theme specific background. It is overwritten whether we have a\n",
       "  specific estimator or a Pipeline/ColumnTransformer */\n",
       "  background-color: var(--sklearn-color-background);\n",
       "}\n",
       "\n",
       "/* Toggleable label */\n",
       "#sk-container-id-1 label.sk-toggleable__label {\n",
       "  cursor: pointer;\n",
       "  display: flex;\n",
       "  width: 100%;\n",
       "  margin-bottom: 0;\n",
       "  padding: 0.5em;\n",
       "  box-sizing: border-box;\n",
       "  text-align: center;\n",
       "  align-items: start;\n",
       "  justify-content: space-between;\n",
       "  gap: 0.5em;\n",
       "}\n",
       "\n",
       "#sk-container-id-1 label.sk-toggleable__label .caption {\n",
       "  font-size: 0.6rem;\n",
       "  font-weight: lighter;\n",
       "  color: var(--sklearn-color-text-muted);\n",
       "}\n",
       "\n",
       "#sk-container-id-1 label.sk-toggleable__label-arrow:before {\n",
       "  /* Arrow on the left of the label */\n",
       "  content: \"▸\";\n",
       "  float: left;\n",
       "  margin-right: 0.25em;\n",
       "  color: var(--sklearn-color-icon);\n",
       "}\n",
       "\n",
       "#sk-container-id-1 label.sk-toggleable__label-arrow:hover:before {\n",
       "  color: var(--sklearn-color-text);\n",
       "}\n",
       "\n",
       "/* Toggleable content - dropdown */\n",
       "\n",
       "#sk-container-id-1 div.sk-toggleable__content {\n",
       "  max-height: 0;\n",
       "  max-width: 0;\n",
       "  overflow: hidden;\n",
       "  text-align: left;\n",
       "  /* unfitted */\n",
       "  background-color: var(--sklearn-color-unfitted-level-0);\n",
       "}\n",
       "\n",
       "#sk-container-id-1 div.sk-toggleable__content.fitted {\n",
       "  /* fitted */\n",
       "  background-color: var(--sklearn-color-fitted-level-0);\n",
       "}\n",
       "\n",
       "#sk-container-id-1 div.sk-toggleable__content pre {\n",
       "  margin: 0.2em;\n",
       "  border-radius: 0.25em;\n",
       "  color: var(--sklearn-color-text);\n",
       "  /* unfitted */\n",
       "  background-color: var(--sklearn-color-unfitted-level-0);\n",
       "}\n",
       "\n",
       "#sk-container-id-1 div.sk-toggleable__content.fitted pre {\n",
       "  /* unfitted */\n",
       "  background-color: var(--sklearn-color-fitted-level-0);\n",
       "}\n",
       "\n",
       "#sk-container-id-1 input.sk-toggleable__control:checked~div.sk-toggleable__content {\n",
       "  /* Expand drop-down */\n",
       "  max-height: 200px;\n",
       "  max-width: 100%;\n",
       "  overflow: auto;\n",
       "}\n",
       "\n",
       "#sk-container-id-1 input.sk-toggleable__control:checked~label.sk-toggleable__label-arrow:before {\n",
       "  content: \"▾\";\n",
       "}\n",
       "\n",
       "/* Pipeline/ColumnTransformer-specific style */\n",
       "\n",
       "#sk-container-id-1 div.sk-label input.sk-toggleable__control:checked~label.sk-toggleable__label {\n",
       "  color: var(--sklearn-color-text);\n",
       "  background-color: var(--sklearn-color-unfitted-level-2);\n",
       "}\n",
       "\n",
       "#sk-container-id-1 div.sk-label.fitted input.sk-toggleable__control:checked~label.sk-toggleable__label {\n",
       "  background-color: var(--sklearn-color-fitted-level-2);\n",
       "}\n",
       "\n",
       "/* Estimator-specific style */\n",
       "\n",
       "/* Colorize estimator box */\n",
       "#sk-container-id-1 div.sk-estimator input.sk-toggleable__control:checked~label.sk-toggleable__label {\n",
       "  /* unfitted */\n",
       "  background-color: var(--sklearn-color-unfitted-level-2);\n",
       "}\n",
       "\n",
       "#sk-container-id-1 div.sk-estimator.fitted input.sk-toggleable__control:checked~label.sk-toggleable__label {\n",
       "  /* fitted */\n",
       "  background-color: var(--sklearn-color-fitted-level-2);\n",
       "}\n",
       "\n",
       "#sk-container-id-1 div.sk-label label.sk-toggleable__label,\n",
       "#sk-container-id-1 div.sk-label label {\n",
       "  /* The background is the default theme color */\n",
       "  color: var(--sklearn-color-text-on-default-background);\n",
       "}\n",
       "\n",
       "/* On hover, darken the color of the background */\n",
       "#sk-container-id-1 div.sk-label:hover label.sk-toggleable__label {\n",
       "  color: var(--sklearn-color-text);\n",
       "  background-color: var(--sklearn-color-unfitted-level-2);\n",
       "}\n",
       "\n",
       "/* Label box, darken color on hover, fitted */\n",
       "#sk-container-id-1 div.sk-label.fitted:hover label.sk-toggleable__label.fitted {\n",
       "  color: var(--sklearn-color-text);\n",
       "  background-color: var(--sklearn-color-fitted-level-2);\n",
       "}\n",
       "\n",
       "/* Estimator label */\n",
       "\n",
       "#sk-container-id-1 div.sk-label label {\n",
       "  font-family: monospace;\n",
       "  font-weight: bold;\n",
       "  display: inline-block;\n",
       "  line-height: 1.2em;\n",
       "}\n",
       "\n",
       "#sk-container-id-1 div.sk-label-container {\n",
       "  text-align: center;\n",
       "}\n",
       "\n",
       "/* Estimator-specific */\n",
       "#sk-container-id-1 div.sk-estimator {\n",
       "  font-family: monospace;\n",
       "  border: 1px dotted var(--sklearn-color-border-box);\n",
       "  border-radius: 0.25em;\n",
       "  box-sizing: border-box;\n",
       "  margin-bottom: 0.5em;\n",
       "  /* unfitted */\n",
       "  background-color: var(--sklearn-color-unfitted-level-0);\n",
       "}\n",
       "\n",
       "#sk-container-id-1 div.sk-estimator.fitted {\n",
       "  /* fitted */\n",
       "  background-color: var(--sklearn-color-fitted-level-0);\n",
       "}\n",
       "\n",
       "/* on hover */\n",
       "#sk-container-id-1 div.sk-estimator:hover {\n",
       "  /* unfitted */\n",
       "  background-color: var(--sklearn-color-unfitted-level-2);\n",
       "}\n",
       "\n",
       "#sk-container-id-1 div.sk-estimator.fitted:hover {\n",
       "  /* fitted */\n",
       "  background-color: var(--sklearn-color-fitted-level-2);\n",
       "}\n",
       "\n",
       "/* Specification for estimator info (e.g. \"i\" and \"?\") */\n",
       "\n",
       "/* Common style for \"i\" and \"?\" */\n",
       "\n",
       ".sk-estimator-doc-link,\n",
       "a:link.sk-estimator-doc-link,\n",
       "a:visited.sk-estimator-doc-link {\n",
       "  float: right;\n",
       "  font-size: smaller;\n",
       "  line-height: 1em;\n",
       "  font-family: monospace;\n",
       "  background-color: var(--sklearn-color-background);\n",
       "  border-radius: 1em;\n",
       "  height: 1em;\n",
       "  width: 1em;\n",
       "  text-decoration: none !important;\n",
       "  margin-left: 0.5em;\n",
       "  text-align: center;\n",
       "  /* unfitted */\n",
       "  border: var(--sklearn-color-unfitted-level-1) 1pt solid;\n",
       "  color: var(--sklearn-color-unfitted-level-1);\n",
       "}\n",
       "\n",
       ".sk-estimator-doc-link.fitted,\n",
       "a:link.sk-estimator-doc-link.fitted,\n",
       "a:visited.sk-estimator-doc-link.fitted {\n",
       "  /* fitted */\n",
       "  border: var(--sklearn-color-fitted-level-1) 1pt solid;\n",
       "  color: var(--sklearn-color-fitted-level-1);\n",
       "}\n",
       "\n",
       "/* On hover */\n",
       "div.sk-estimator:hover .sk-estimator-doc-link:hover,\n",
       ".sk-estimator-doc-link:hover,\n",
       "div.sk-label-container:hover .sk-estimator-doc-link:hover,\n",
       ".sk-estimator-doc-link:hover {\n",
       "  /* unfitted */\n",
       "  background-color: var(--sklearn-color-unfitted-level-3);\n",
       "  color: var(--sklearn-color-background);\n",
       "  text-decoration: none;\n",
       "}\n",
       "\n",
       "div.sk-estimator.fitted:hover .sk-estimator-doc-link.fitted:hover,\n",
       ".sk-estimator-doc-link.fitted:hover,\n",
       "div.sk-label-container:hover .sk-estimator-doc-link.fitted:hover,\n",
       ".sk-estimator-doc-link.fitted:hover {\n",
       "  /* fitted */\n",
       "  background-color: var(--sklearn-color-fitted-level-3);\n",
       "  color: var(--sklearn-color-background);\n",
       "  text-decoration: none;\n",
       "}\n",
       "\n",
       "/* Span, style for the box shown on hovering the info icon */\n",
       ".sk-estimator-doc-link span {\n",
       "  display: none;\n",
       "  z-index: 9999;\n",
       "  position: relative;\n",
       "  font-weight: normal;\n",
       "  right: .2ex;\n",
       "  padding: .5ex;\n",
       "  margin: .5ex;\n",
       "  width: min-content;\n",
       "  min-width: 20ex;\n",
       "  max-width: 50ex;\n",
       "  color: var(--sklearn-color-text);\n",
       "  box-shadow: 2pt 2pt 4pt #999;\n",
       "  /* unfitted */\n",
       "  background: var(--sklearn-color-unfitted-level-0);\n",
       "  border: .5pt solid var(--sklearn-color-unfitted-level-3);\n",
       "}\n",
       "\n",
       ".sk-estimator-doc-link.fitted span {\n",
       "  /* fitted */\n",
       "  background: var(--sklearn-color-fitted-level-0);\n",
       "  border: var(--sklearn-color-fitted-level-3);\n",
       "}\n",
       "\n",
       ".sk-estimator-doc-link:hover span {\n",
       "  display: block;\n",
       "}\n",
       "\n",
       "/* \"?\"-specific style due to the `<a>` HTML tag */\n",
       "\n",
       "#sk-container-id-1 a.estimator_doc_link {\n",
       "  float: right;\n",
       "  font-size: 1rem;\n",
       "  line-height: 1em;\n",
       "  font-family: monospace;\n",
       "  background-color: var(--sklearn-color-background);\n",
       "  border-radius: 1rem;\n",
       "  height: 1rem;\n",
       "  width: 1rem;\n",
       "  text-decoration: none;\n",
       "  /* unfitted */\n",
       "  color: var(--sklearn-color-unfitted-level-1);\n",
       "  border: var(--sklearn-color-unfitted-level-1) 1pt solid;\n",
       "}\n",
       "\n",
       "#sk-container-id-1 a.estimator_doc_link.fitted {\n",
       "  /* fitted */\n",
       "  border: var(--sklearn-color-fitted-level-1) 1pt solid;\n",
       "  color: var(--sklearn-color-fitted-level-1);\n",
       "}\n",
       "\n",
       "/* On hover */\n",
       "#sk-container-id-1 a.estimator_doc_link:hover {\n",
       "  /* unfitted */\n",
       "  background-color: var(--sklearn-color-unfitted-level-3);\n",
       "  color: var(--sklearn-color-background);\n",
       "  text-decoration: none;\n",
       "}\n",
       "\n",
       "#sk-container-id-1 a.estimator_doc_link.fitted:hover {\n",
       "  /* fitted */\n",
       "  background-color: var(--sklearn-color-fitted-level-3);\n",
       "}\n",
       "</style><div id=\"sk-container-id-1\" class=\"sk-top-container\"><div class=\"sk-text-repr-fallback\"><pre>RandomForestRegressor(random_state=42)</pre><b>In a Jupyter environment, please rerun this cell to show the HTML representation or trust the notebook. <br />On GitHub, the HTML representation is unable to render, please try loading this page with nbviewer.org.</b></div><div class=\"sk-container\" hidden><div class=\"sk-item\"><div class=\"sk-estimator fitted sk-toggleable\"><input class=\"sk-toggleable__control sk-hidden--visually\" id=\"sk-estimator-id-1\" type=\"checkbox\" checked><label for=\"sk-estimator-id-1\" class=\"sk-toggleable__label fitted sk-toggleable__label-arrow\"><div><div>RandomForestRegressor</div></div><div><a class=\"sk-estimator-doc-link fitted\" rel=\"noreferrer\" target=\"_blank\" href=\"https://scikit-learn.org/1.6/modules/generated/sklearn.ensemble.RandomForestRegressor.html\">?<span>Documentation for RandomForestRegressor</span></a><span class=\"sk-estimator-doc-link fitted\">i<span>Fitted</span></span></div></label><div class=\"sk-toggleable__content fitted\"><pre>RandomForestRegressor(random_state=42)</pre></div> </div></div></div></div>"
      ],
      "text/plain": [
       "RandomForestRegressor(random_state=42)"
      ]
     },
     "execution_count": 17,
     "metadata": {},
     "output_type": "execute_result"
    }
   ],
   "source": [
    "from sklearn.ensemble import RandomForestRegressor\n",
    "\n",
    "# Define the model\n",
    "rf = RandomForestRegressor(n_estimators=100, criterion='squared_error', max_depth=None, min_samples_split=2, min_samples_leaf=1, random_state=42)\n",
    "\n",
    "# Fit the model\n",
    "rf.fit(X,y)"
   ]
  },
  {
   "cell_type": "markdown",
   "metadata": {
    "id": "orMF7755ytgW"
   },
   "source": [
    "<details>\n",
    "<summary> Why is the random state set to 42?</summary>\n",
    "Most random number generators start with an initial seed value and then produces a sequence of numbers that appears random. Since the algorithms are deterministic, providing the same seed will result in the same sequence of \"random\" numbers. 42 is simply a science fiction reference. \n",
    "</details>\n",
    "\n",
    "You just trained a machine learning model 🎉.  \n",
    "\n",
    "We can now make predictions and plot the results. We will use the plotting function `make_prediction_plot()` that we defined earlier to make the plots. "
   ]
  },
  {
   "cell_type": "code",
   "execution_count": 18,
   "metadata": {
    "colab": {
     "base_uri": "https://localhost:8080/",
     "height": 891
    },
    "id": "tRJQzOd1gDwC",
    "outputId": "78e2c4ff-fa56-4a2a-9687-176d3a171f5e"
   },
   "outputs": [
    {
     "name": "stdout",
     "output_type": "stream",
     "text": [
      "Linear regression\n"
     ]
    },
    {
     "data": {
      "image/png": "[encoded data removed]",
      "text/plain": [
       "<Figure size 500x300 with 1 Axes>"
      ]
     },
     "metadata": {},
     "output_type": "display_data"
    },
    {
     "name": "stdout",
     "output_type": "stream",
     "text": [
      "Random Forest model\n"
     ]
    },
    {
     "data": {
      "image/png": "[encoded data removed]",
      "text/plain": [
       "<Figure size 500x300 with 1 Axes>"
      ]
     },
     "metadata": {},
     "output_type": "display_data"
    }
   ],
   "source": [
    "print(\"Linear regression\")\n",
    "y_pred_lr = make_prediction_plot(X,y,lr,'log10(K_VRH)')\n",
    "\n",
    "print(\"Random Forest model\")\n",
    "y_pred = make_prediction_plot(X,y,rf,'log10(K_VRH)')"
   ]
  },
  {
   "cell_type": "markdown",
   "metadata": {
    "id": "jooFqet9za6q"
   },
   "source": [
    "Now let's quantify the performance of the random forest model:"
   ]
  },
  {
   "cell_type": "code",
   "execution_count": 19,
   "metadata": {
    "colab": {
     "base_uri": "https://localhost:8080/"
    },
    "id": "MWLLTpK7FAQP",
    "outputId": "cf941a03-0a25-4eed-b677-d60fb903078c"
   },
   "outputs": [
    {
     "name": "stdout",
     "output_type": "stream",
     "text": [
      "The training MAE = 0.035 log10GPa\n",
      "The training RMSE = 0.056 log10GPa\n",
      "The training r^2 = 0.980\n"
     ]
    }
   ],
   "source": [
    "# Print the metrics\n",
    "print(f'The training MAE = {metrics.mean_absolute_error(y,y_pred):.3f} log10GPa')\n",
    "print(f'The training RMSE = {metrics.root_mean_squared_error(y,y_pred):.3f} log10GPa')\n",
    "print(f'The training r^2 = {rf.score(X,y):.3f}')"
   ]
  },
  {
   "cell_type": "markdown",
   "metadata": {
    "id": "ziXU0z0eFAQR"
   },
   "source": [
    "The coefficient of determination, $r^2$, as well as the low RMSE suggest that this model is performs well. However, it is also likely that the model is simply overly-fitted to reproduce the training data. This means that it will not generalise to other materials (unseen data), which is necessary for a meaningful machine learning model."
   ]
  },
  {
   "cell_type": "markdown",
   "metadata": {
    "id": "QDt6aZuyFAQS"
   },
   "source": [
    "#### 2. Cross validation\n",
    "To better determine the quality of our model, we can peform cross-validation (CV). CV enables us to evaluate the out-of-sample goodness-of-fit of a regressor. We will use $k$-fold CV, which splits the training set into $k$ subsets. Each subset is used as a validation set to evaluate the performance, with the model being trained on the remaining $k-1$ subsets. Don't worry, we'll cover this in later lectures.\n",
    "\n",
    "Let's perform 5-fold CV:"
   ]
  },
  {
   "cell_type": "code",
   "execution_count": 20,
   "metadata": {
    "colab": {
     "base_uri": "https://localhost:8080/"
    },
    "id": "YLMZv-2tFAQT",
    "outputId": "b6475657-5959-46d3-f254-d1d00621a8ce"
   },
   "outputs": [
    {
     "name": "stdout",
     "output_type": "stream",
     "text": [
      "From our cross-validation, we have obtained the following results:\n",
      "mean MAE = 0.096 log10GPa\n",
      "mean r^2 = 0.849\n"
     ]
    }
   ],
   "source": [
    "from sklearn.model_selection import KFold, cross_val_score, cross_validate\n",
    "\n",
    "# Define the number of splits for cross-validation\n",
    "n_splits = 5 if teaching_mode else 10\n",
    "\n",
    "# Compute the cross-validation score\n",
    "cv = KFold(\n",
    "    n_splits=n_splits,\n",
    "    shuffle=True,\n",
    "    random_state=42\n",
    "    )\n",
    "\n",
    "scores= cross_val_score(rf, X, y,cv=cv, scoring='neg_mean_absolute_error')\n",
    "\n",
    "r2_scores = cross_val_score(rf, X, y, cv=cv, scoring='r2')\n",
    "\n",
    "print('From our cross-validation, we have obtained the following results:')\n",
    "print(f'mean MAE = {np.mean(np.abs(scores)):.3f} log10GPa')\n",
    "print(f'mean r^2 = {np.mean(np.abs(r2_scores)):.3f}')"
   ]
  },
  {
   "cell_type": "code",
   "execution_count": 23,
   "metadata": {
    "colab": {
     "base_uri": "https://localhost:8080/",
     "height": 471
    },
    "id": "5cc1JJlMdMuV",
    "outputId": "ff397fbd-bd91-4252-e676-89cd049eec7b"
   },
   "outputs": [
    {
     "data": {
      "image/png": "[encoded data removed]",
      "text/plain": [
       "<Figure size 500x400 with 2 Axes>"
      ]
     },
     "metadata": {},
     "output_type": "display_data"
    }
   ],
   "source": [
    "# Show the training scores for each k-fold\n",
    "fig, ax = plt.subplots(2, 1, figsize=(5, 4)) \n",
    "\n",
    "ax[0].scatter([i for i in range(len(scores))], np.abs(scores), c=scores, cmap='viridis')\n",
    "ax[1].scatter([i for i in range(len(r2_scores))], np.abs(r2_scores), c=r2_scores, cmap='viridis') \n",
    "ax[0].set_xlabel('Training fold')\n",
    "ax[0].set_ylabel('MAE')\n",
    "ax[0].set_ylim(0, 0.14) \n",
    "ax[0].set_xticks(range(len(scores)))  \n",
    "ax[1].set_xticks(range(len(r2_scores)))  \n",
    "ax[1].set_xlabel('Training fold')\n",
    "ax[1].set_ylabel('r$^2$')\n",
    "ax[1].set_ylim(0, 1.0)  \n",
    "\n",
    "# Display the plot\n",
    "plt.show()  "
   ]
  },
  {
   "cell_type": "markdown",
   "metadata": {
    "id": "5hpFscUBFAQW"
   },
   "source": [
    "There is an increase in the error (decrease in performance) for the CV model. However, the MAE is still reasonable. Let's visualise the result of the final model:"
   ]
  },
  {
   "cell_type": "code",
   "execution_count": 24,
   "metadata": {
    "colab": {
     "base_uri": "https://localhost:8080/",
     "height": 453
    },
    "id": "0UQ1OR1JgDwC",
    "outputId": "d593fde2-2602-4535-93ab-e9a3e39d89aa",
    "tags": []
   },
   "outputs": [
    {
     "data": {
      "image/png": "[encoded data removed]",
      "text/plain": [
       "<Figure size 500x300 with 1 Axes>"
      ]
     },
     "metadata": {},
     "output_type": "display_data"
    }
   ],
   "source": [
    "from sklearn.model_selection import cross_val_predict\n",
    "\n",
    "# Plot the original and predicted data against each other\n",
    "fig, ax = plt.subplots(figsize=(5, 3))\n",
    "\n",
    "# Scatter plot with color\n",
    "ax.scatter(y, cross_val_predict(rf, X, y, cv=cv), c=y, cmap='viridis', label='Predicted', alpha=0.6)\n",
    "\n",
    "# Red line representing a perfect prediction (y = x)\n",
    "ax.plot(y, y, 'r-', label='Perfect prediction')\n",
    "\n",
    "# Set labels and legend\n",
    "ax.set_xlabel('K_VRH true')\n",
    "ax.set_ylabel('K_VRH predicted')\n",
    "ax.legend()\n",
    "\n",
    "plt.show()"
   ]
  },
  {
   "cell_type": "markdown",
   "metadata": {
    "id": "1N6SDr5h0XMM"
   },
   "source": [
    "## Feature importance\n",
    "\n",
    "We fed in many materials features, but which were most useful? Understanding this will increase our understanding (the interpretability) of the model.\n",
    "\n",
    "We can see how particular features contribute to a Random Forest model by looking at the `RandomForestRegressor().feature_importances_` attribute. Some features are significant, whereas others offer very little contribution."
   ]
  },
  {
   "cell_type": "code",
   "execution_count": 25,
   "metadata": {
    "colab": {
     "base_uri": "https://localhost:8080/",
     "height": 569
    },
    "id": "2Q7t4b4IgDwD",
    "outputId": "e33a4dd6-ff5d-4bb7-b573-8884112e5a4a",
    "tags": []
   },
   "outputs": [
    {
     "data": {
      "image/png": "[encoded data removed]",
      "text/plain": [
       "<Figure size 500x300 with 1 Axes>"
      ]
     },
     "metadata": {},
     "output_type": "display_data"
    }
   ],
   "source": [
    "# Get the feature importances\n",
    "importances = rf.feature_importances_\n",
    "\n",
    "# Get the indices that would sort the importances array from largest to smallest\n",
    "indices = np.argsort(importances)[::-1]\n",
    "\n",
    "# Create a figure and axis for the plot\n",
    "fig, ax = plt.subplots(figsize=(5, 3))\n",
    "\n",
    "# Create a bar plot of the feature importance\n",
    "ax.bar(range(X.shape[1]), importances[indices], color=\"r\", align=\"center\")\n",
    "\n",
    "# Set the labels\n",
    "ax.set_xlabel(\"Feature index\")\n",
    "ax.set_ylabel(\"Importance\")\n",
    "\n",
    "plt.show()"
   ]
  },
  {
   "cell_type": "markdown",
   "metadata": {
    "id": "YWdLRxwxB6ju"
   },
   "source": [
    "There is a rapid drop off in the feature importance, with few features offering a significant contribution to the model.\n",
    "\n",
    "Below we will only plot the importance for the top-$N$ features. Try a value of 5. I guess the top feature is `vpa` (volume per atom)."
   ]
  },
  {
   "cell_type": "code",
   "execution_count": 26,
   "metadata": {
    "colab": {
     "base_uri": "https://localhost:8080/",
     "height": 1000
    },
    "id": "Lf2VfJfsgDwD",
    "outputId": "a77abb2a-f4e6-47f7-a14f-61078643fea5",
    "tags": []
   },
   "outputs": [
    {
     "name": "stderr",
     "output_type": "stream",
     "text": [
      "/tmp/ipykernel_10592/1811413568.py:18: UserWarning: set_ticklabels() should only be used with a fixed number of ticks, i.e. after set_ticks() or using a FixedLocator.\n",
      "  ax.set_xticklabels(top_feature_names, rotation=45, ha='right', rotation_mode='anchor')\n"
     ]
    },
    {
     "data": {
      "image/png": "[encoded data removed]",
      "text/plain": [
       "<Figure size 500x300 with 1 Axes>"
      ]
     },
     "metadata": {},
     "output_type": "display_data"
    },
    {
     "name": "stdout",
     "output_type": "stream",
     "text": [
      "Top 5 Features:\n",
      "    1. vpa (0.427)\n",
      "    2. MagpieData mean MeltingT (0.156)\n",
      "    3. density (0.083)\n",
      "    4. MagpieData mean NpValence (0.030)\n",
      "    5. packing fraction (0.022)\n"
     ]
    }
   ],
   "source": [
    "# Visualise the top N features\n",
    "N = 5\n",
    "\n",
    "# Get the names of the top N important features\n",
    "top_feature_names = df[feature_cols].columns.values[np.argsort(importances)[::-1][:N]]\n",
    "\n",
    "# Set up the figure and axis\n",
    "fig, ax = plt.subplots(figsize=(5, 3))\n",
    "\n",
    "# Create a bar plot of the top N feature importances\n",
    "ax.bar(x=top_feature_names, height=importances[np.argsort(importances)[::-1][:N]])\n",
    "\n",
    "# Set the labels and title\n",
    "ax.set_xlabel(\"Feature\")\n",
    "ax.set_ylabel(\"Importance\")\n",
    "\n",
    "# Rotate x-axis labels for better readability\n",
    "ax.set_xticklabels(top_feature_names, rotation=45, ha='right', rotation_mode='anchor')\n",
    "\n",
    "plt.show()\n",
    "\n",
    "# Print them too\n",
    "print(f\"Top {N} Features:\")\n",
    "for feat in range(N):\n",
    "    print(f\"    {feat+1}. {feature_cols[indices[feat]]} ({importances[indices[feat]]:.3f})\")"
   ]
  },
  {
   "cell_type": "markdown",
   "metadata": {},
   "source": [
    "<details>\n",
    "<summary> Code hint </summary>\n",
    "Remember to set N!\n",
    "</details>"
   ]
  },
  {
   "cell_type": "markdown",
   "metadata": {
    "id": "ZNXExVcAgDwD",
    "tags": []
   },
   "source": [
    "## 🚨 Exercise 2\n",
    "\n",
    "<div style=\"background-color: #dceefb; border-left: 6px solid #ccc; margin: 20px; padding: 15px; border-radius: 5px;\">\n",
    "    <strong>💡 Coding exercises:</strong> The exercises are designed to apply what you have learned with room for creativity. It is fine to discuss solutions with your classmates, but the actual code should not be directly copied.\n",
    "</div>\n",
    "\n",
    "### Your details"
   ]
  },
  {
   "cell_type": "code",
   "execution_count": 27,
   "metadata": {
    "colab": {
     "base_uri": "https://localhost:8080/"
    },
    "id": "eCUqQGM3gDwD",
    "outputId": "bcc02595-32da-4706-b819-086b8e9c182b"
   },
   "outputs": [
    {
     "name": "stdout",
     "output_type": "stream",
     "text": [
      "This is the work of Ayham Al-Saffar [CID: 2137313]\n"
     ]
    }
   ],
   "source": [
    "import numpy as np\n",
    "\n",
    "# Insert your values\n",
    "Name = \"Ayham Al-Saffar\" # Replace with your name\n",
    "CID = 2137313 # Replace with your College ID (as a numeric value with no leading 0s)\n",
    "\n",
    "# Set a random seed using the CID value\n",
    "CID = int(CID)\n",
    "np.random.seed(CID)\n",
    "\n",
    "# Print the message\n",
    "print(\"This is the work of \" + Name + \" [CID: \" + str(CID) + \"]\")"
   ]
  },
  {
   "cell_type": "markdown",
   "metadata": {
    "id": "iKahfCzyMmeG"
   },
   "source": [
    "### Problem\n",
    "\n",
    "In machine learning, reducing the number of features can lead to simpler models, reduce the risk of overfitting, and improve generalisation. Understanding which features are necessary and which can be excluded is crucial for developing efficient and interpretable models. \n",
    "\n",
    "A task will be given in class focusing on feature selection and model performance analysis."
   ]
  },
  {
   "cell_type": "code",
   "execution_count": 31,
   "metadata": {
    "colab": {
     "base_uri": "https://localhost:8080/"
    },
    "id": "9obDaZV3gDwD",
    "outputId": "7096de18-47b8-46e4-b448-c7d4df2ef668"
   },
   "outputs": [
    {
     "data": {
      "text/html": [
       "<style>#sk-container-id-2 {\n",
       "  /* Definition of color scheme common for light and dark mode */\n",
       "  --sklearn-color-text: #000;\n",
       "  --sklearn-color-text-muted: #666;\n",
       "  --sklearn-color-line: gray;\n",
       "  /* Definition of color scheme for unfitted estimators */\n",
       "  --sklearn-color-unfitted-level-0: #fff5e6;\n",
       "  --sklearn-color-unfitted-level-1: #f6e4d2;\n",
       "  --sklearn-color-unfitted-level-2: #ffe0b3;\n",
       "  --sklearn-color-unfitted-level-3: chocolate;\n",
       "  /* Definition of color scheme for fitted estimators */\n",
       "  --sklearn-color-fitted-level-0: #f0f8ff;\n",
       "  --sklearn-color-fitted-level-1: #d4ebff;\n",
       "  --sklearn-color-fitted-level-2: #b3dbfd;\n",
       "  --sklearn-color-fitted-level-3: cornflowerblue;\n",
       "\n",
       "  /* Specific color for light theme */\n",
       "  --sklearn-color-text-on-default-background: var(--sg-text-color, var(--theme-code-foreground, var(--jp-content-font-color1, black)));\n",
       "  --sklearn-color-background: var(--sg-background-color, var(--theme-background, var(--jp-layout-color0, white)));\n",
       "  --sklearn-color-border-box: var(--sg-text-color, var(--theme-code-foreground, var(--jp-content-font-color1, black)));\n",
       "  --sklearn-color-icon: #696969;\n",
       "\n",
       "  @media (prefers-color-scheme: dark) {\n",
       "    /* Redefinition of color scheme for dark theme */\n",
       "    --sklearn-color-text-on-default-background: var(--sg-text-color, var(--theme-code-foreground, var(--jp-content-font-color1, white)));\n",
       "    --sklearn-color-background: var(--sg-background-color, var(--theme-background, var(--jp-layout-color0, #111)));\n",
       "    --sklearn-color-border-box: var(--sg-text-color, var(--theme-code-foreground, var(--jp-content-font-color1, white)));\n",
       "    --sklearn-color-icon: #878787;\n",
       "  }\n",
       "}\n",
       "\n",
       "#sk-container-id-2 {\n",
       "  color: var(--sklearn-color-text);\n",
       "}\n",
       "\n",
       "#sk-container-id-2 pre {\n",
       "  padding: 0;\n",
       "}\n",
       "\n",
       "#sk-container-id-2 input.sk-hidden--visually {\n",
       "  border: 0;\n",
       "  clip: rect(1px 1px 1px 1px);\n",
       "  clip: rect(1px, 1px, 1px, 1px);\n",
       "  height: 1px;\n",
       "  margin: -1px;\n",
       "  overflow: hidden;\n",
       "  padding: 0;\n",
       "  position: absolute;\n",
       "  width: 1px;\n",
       "}\n",
       "\n",
       "#sk-container-id-2 div.sk-dashed-wrapped {\n",
       "  border: 1px dashed var(--sklearn-color-line);\n",
       "  margin: 0 0.4em 0.5em 0.4em;\n",
       "  box-sizing: border-box;\n",
       "  padding-bottom: 0.4em;\n",
       "  background-color: var(--sklearn-color-background);\n",
       "}\n",
       "\n",
       "#sk-container-id-2 div.sk-container {\n",
       "  /* jupyter's `normalize.less` sets `[hidden] { display: none; }`\n",
       "     but bootstrap.min.css set `[hidden] { display: none !important; }`\n",
       "     so we also need the `!important` here to be able to override the\n",
       "     default hidden behavior on the sphinx rendered scikit-learn.org.\n",
       "     See: https://github.com/scikit-learn/scikit-learn/issues/21755 */\n",
       "  display: inline-block !important;\n",
       "  position: relative;\n",
       "}\n",
       "\n",
       "#sk-container-id-2 div.sk-text-repr-fallback {\n",
       "  display: none;\n",
       "}\n",
       "\n",
       "div.sk-parallel-item,\n",
       "div.sk-serial,\n",
       "div.sk-item {\n",
       "  /* draw centered vertical line to link estimators */\n",
       "  background-image: linear-gradient(var(--sklearn-color-text-on-default-background), var(--sklearn-color-text-on-default-background));\n",
       "  background-size: 2px 100%;\n",
       "  background-repeat: no-repeat;\n",
       "  background-position: center center;\n",
       "}\n",
       "\n",
       "/* Parallel-specific style estimator block */\n",
       "\n",
       "#sk-container-id-2 div.sk-parallel-item::after {\n",
       "  content: \"\";\n",
       "  width: 100%;\n",
       "  border-bottom: 2px solid var(--sklearn-color-text-on-default-background);\n",
       "  flex-grow: 1;\n",
       "}\n",
       "\n",
       "#sk-container-id-2 div.sk-parallel {\n",
       "  display: flex;\n",
       "  align-items: stretch;\n",
       "  justify-content: center;\n",
       "  background-color: var(--sklearn-color-background);\n",
       "  position: relative;\n",
       "}\n",
       "\n",
       "#sk-container-id-2 div.sk-parallel-item {\n",
       "  display: flex;\n",
       "  flex-direction: column;\n",
       "}\n",
       "\n",
       "#sk-container-id-2 div.sk-parallel-item:first-child::after {\n",
       "  align-self: flex-end;\n",
       "  width: 50%;\n",
       "}\n",
       "\n",
       "#sk-container-id-2 div.sk-parallel-item:last-child::after {\n",
       "  align-self: flex-start;\n",
       "  width: 50%;\n",
       "}\n",
       "\n",
       "#sk-container-id-2 div.sk-parallel-item:only-child::after {\n",
       "  width: 0;\n",
       "}\n",
       "\n",
       "/* Serial-specific style estimator block */\n",
       "\n",
       "#sk-container-id-2 div.sk-serial {\n",
       "  display: flex;\n",
       "  flex-direction: column;\n",
       "  align-items: center;\n",
       "  background-color: var(--sklearn-color-background);\n",
       "  padding-right: 1em;\n",
       "  padding-left: 1em;\n",
       "}\n",
       "\n",
       "\n",
       "/* Toggleable style: style used for estimator/Pipeline/ColumnTransformer box that is\n",
       "clickable and can be expanded/collapsed.\n",
       "- Pipeline and ColumnTransformer use this feature and define the default style\n",
       "- Estimators will overwrite some part of the style using the `sk-estimator` class\n",
       "*/\n",
       "\n",
       "/* Pipeline and ColumnTransformer style (default) */\n",
       "\n",
       "#sk-container-id-2 div.sk-toggleable {\n",
       "  /* Default theme specific background. It is overwritten whether we have a\n",
       "  specific estimator or a Pipeline/ColumnTransformer */\n",
       "  background-color: var(--sklearn-color-background);\n",
       "}\n",
       "\n",
       "/* Toggleable label */\n",
       "#sk-container-id-2 label.sk-toggleable__label {\n",
       "  cursor: pointer;\n",
       "  display: flex;\n",
       "  width: 100%;\n",
       "  margin-bottom: 0;\n",
       "  padding: 0.5em;\n",
       "  box-sizing: border-box;\n",
       "  text-align: center;\n",
       "  align-items: start;\n",
       "  justify-content: space-between;\n",
       "  gap: 0.5em;\n",
       "}\n",
       "\n",
       "#sk-container-id-2 label.sk-toggleable__label .caption {\n",
       "  font-size: 0.6rem;\n",
       "  font-weight: lighter;\n",
       "  color: var(--sklearn-color-text-muted);\n",
       "}\n",
       "\n",
       "#sk-container-id-2 label.sk-toggleable__label-arrow:before {\n",
       "  /* Arrow on the left of the label */\n",
       "  content: \"▸\";\n",
       "  float: left;\n",
       "  margin-right: 0.25em;\n",
       "  color: var(--sklearn-color-icon);\n",
       "}\n",
       "\n",
       "#sk-container-id-2 label.sk-toggleable__label-arrow:hover:before {\n",
       "  color: var(--sklearn-color-text);\n",
       "}\n",
       "\n",
       "/* Toggleable content - dropdown */\n",
       "\n",
       "#sk-container-id-2 div.sk-toggleable__content {\n",
       "  max-height: 0;\n",
       "  max-width: 0;\n",
       "  overflow: hidden;\n",
       "  text-align: left;\n",
       "  /* unfitted */\n",
       "  background-color: var(--sklearn-color-unfitted-level-0);\n",
       "}\n",
       "\n",
       "#sk-container-id-2 div.sk-toggleable__content.fitted {\n",
       "  /* fitted */\n",
       "  background-color: var(--sklearn-color-fitted-level-0);\n",
       "}\n",
       "\n",
       "#sk-container-id-2 div.sk-toggleable__content pre {\n",
       "  margin: 0.2em;\n",
       "  border-radius: 0.25em;\n",
       "  color: var(--sklearn-color-text);\n",
       "  /* unfitted */\n",
       "  background-color: var(--sklearn-color-unfitted-level-0);\n",
       "}\n",
       "\n",
       "#sk-container-id-2 div.sk-toggleable__content.fitted pre {\n",
       "  /* unfitted */\n",
       "  background-color: var(--sklearn-color-fitted-level-0);\n",
       "}\n",
       "\n",
       "#sk-container-id-2 input.sk-toggleable__control:checked~div.sk-toggleable__content {\n",
       "  /* Expand drop-down */\n",
       "  max-height: 200px;\n",
       "  max-width: 100%;\n",
       "  overflow: auto;\n",
       "}\n",
       "\n",
       "#sk-container-id-2 input.sk-toggleable__control:checked~label.sk-toggleable__label-arrow:before {\n",
       "  content: \"▾\";\n",
       "}\n",
       "\n",
       "/* Pipeline/ColumnTransformer-specific style */\n",
       "\n",
       "#sk-container-id-2 div.sk-label input.sk-toggleable__control:checked~label.sk-toggleable__label {\n",
       "  color: var(--sklearn-color-text);\n",
       "  background-color: var(--sklearn-color-unfitted-level-2);\n",
       "}\n",
       "\n",
       "#sk-container-id-2 div.sk-label.fitted input.sk-toggleable__control:checked~label.sk-toggleable__label {\n",
       "  background-color: var(--sklearn-color-fitted-level-2);\n",
       "}\n",
       "\n",
       "/* Estimator-specific style */\n",
       "\n",
       "/* Colorize estimator box */\n",
       "#sk-container-id-2 div.sk-estimator input.sk-toggleable__control:checked~label.sk-toggleable__label {\n",
       "  /* unfitted */\n",
       "  background-color: var(--sklearn-color-unfitted-level-2);\n",
       "}\n",
       "\n",
       "#sk-container-id-2 div.sk-estimator.fitted input.sk-toggleable__control:checked~label.sk-toggleable__label {\n",
       "  /* fitted */\n",
       "  background-color: var(--sklearn-color-fitted-level-2);\n",
       "}\n",
       "\n",
       "#sk-container-id-2 div.sk-label label.sk-toggleable__label,\n",
       "#sk-container-id-2 div.sk-label label {\n",
       "  /* The background is the default theme color */\n",
       "  color: var(--sklearn-color-text-on-default-background);\n",
       "}\n",
       "\n",
       "/* On hover, darken the color of the background */\n",
       "#sk-container-id-2 div.sk-label:hover label.sk-toggleable__label {\n",
       "  color: var(--sklearn-color-text);\n",
       "  background-color: var(--sklearn-color-unfitted-level-2);\n",
       "}\n",
       "\n",
       "/* Label box, darken color on hover, fitted */\n",
       "#sk-container-id-2 div.sk-label.fitted:hover label.sk-toggleable__label.fitted {\n",
       "  color: var(--sklearn-color-text);\n",
       "  background-color: var(--sklearn-color-fitted-level-2);\n",
       "}\n",
       "\n",
       "/* Estimator label */\n",
       "\n",
       "#sk-container-id-2 div.sk-label label {\n",
       "  font-family: monospace;\n",
       "  font-weight: bold;\n",
       "  display: inline-block;\n",
       "  line-height: 1.2em;\n",
       "}\n",
       "\n",
       "#sk-container-id-2 div.sk-label-container {\n",
       "  text-align: center;\n",
       "}\n",
       "\n",
       "/* Estimator-specific */\n",
       "#sk-container-id-2 div.sk-estimator {\n",
       "  font-family: monospace;\n",
       "  border: 1px dotted var(--sklearn-color-border-box);\n",
       "  border-radius: 0.25em;\n",
       "  box-sizing: border-box;\n",
       "  margin-bottom: 0.5em;\n",
       "  /* unfitted */\n",
       "  background-color: var(--sklearn-color-unfitted-level-0);\n",
       "}\n",
       "\n",
       "#sk-container-id-2 div.sk-estimator.fitted {\n",
       "  /* fitted */\n",
       "  background-color: var(--sklearn-color-fitted-level-0);\n",
       "}\n",
       "\n",
       "/* on hover */\n",
       "#sk-container-id-2 div.sk-estimator:hover {\n",
       "  /* unfitted */\n",
       "  background-color: var(--sklearn-color-unfitted-level-2);\n",
       "}\n",
       "\n",
       "#sk-container-id-2 div.sk-estimator.fitted:hover {\n",
       "  /* fitted */\n",
       "  background-color: var(--sklearn-color-fitted-level-2);\n",
       "}\n",
       "\n",
       "/* Specification for estimator info (e.g. \"i\" and \"?\") */\n",
       "\n",
       "/* Common style for \"i\" and \"?\" */\n",
       "\n",
       ".sk-estimator-doc-link,\n",
       "a:link.sk-estimator-doc-link,\n",
       "a:visited.sk-estimator-doc-link {\n",
       "  float: right;\n",
       "  font-size: smaller;\n",
       "  line-height: 1em;\n",
       "  font-family: monospace;\n",
       "  background-color: var(--sklearn-color-background);\n",
       "  border-radius: 1em;\n",
       "  height: 1em;\n",
       "  width: 1em;\n",
       "  text-decoration: none !important;\n",
       "  margin-left: 0.5em;\n",
       "  text-align: center;\n",
       "  /* unfitted */\n",
       "  border: var(--sklearn-color-unfitted-level-1) 1pt solid;\n",
       "  color: var(--sklearn-color-unfitted-level-1);\n",
       "}\n",
       "\n",
       ".sk-estimator-doc-link.fitted,\n",
       "a:link.sk-estimator-doc-link.fitted,\n",
       "a:visited.sk-estimator-doc-link.fitted {\n",
       "  /* fitted */\n",
       "  border: var(--sklearn-color-fitted-level-1) 1pt solid;\n",
       "  color: var(--sklearn-color-fitted-level-1);\n",
       "}\n",
       "\n",
       "/* On hover */\n",
       "div.sk-estimator:hover .sk-estimator-doc-link:hover,\n",
       ".sk-estimator-doc-link:hover,\n",
       "div.sk-label-container:hover .sk-estimator-doc-link:hover,\n",
       ".sk-estimator-doc-link:hover {\n",
       "  /* unfitted */\n",
       "  background-color: var(--sklearn-color-unfitted-level-3);\n",
       "  color: var(--sklearn-color-background);\n",
       "  text-decoration: none;\n",
       "}\n",
       "\n",
       "div.sk-estimator.fitted:hover .sk-estimator-doc-link.fitted:hover,\n",
       ".sk-estimator-doc-link.fitted:hover,\n",
       "div.sk-label-container:hover .sk-estimator-doc-link.fitted:hover,\n",
       ".sk-estimator-doc-link.fitted:hover {\n",
       "  /* fitted */\n",
       "  background-color: var(--sklearn-color-fitted-level-3);\n",
       "  color: var(--sklearn-color-background);\n",
       "  text-decoration: none;\n",
       "}\n",
       "\n",
       "/* Span, style for the box shown on hovering the info icon */\n",
       ".sk-estimator-doc-link span {\n",
       "  display: none;\n",
       "  z-index: 9999;\n",
       "  position: relative;\n",
       "  font-weight: normal;\n",
       "  right: .2ex;\n",
       "  padding: .5ex;\n",
       "  margin: .5ex;\n",
       "  width: min-content;\n",
       "  min-width: 20ex;\n",
       "  max-width: 50ex;\n",
       "  color: var(--sklearn-color-text);\n",
       "  box-shadow: 2pt 2pt 4pt #999;\n",
       "  /* unfitted */\n",
       "  background: var(--sklearn-color-unfitted-level-0);\n",
       "  border: .5pt solid var(--sklearn-color-unfitted-level-3);\n",
       "}\n",
       "\n",
       ".sk-estimator-doc-link.fitted span {\n",
       "  /* fitted */\n",
       "  background: var(--sklearn-color-fitted-level-0);\n",
       "  border: var(--sklearn-color-fitted-level-3);\n",
       "}\n",
       "\n",
       ".sk-estimator-doc-link:hover span {\n",
       "  display: block;\n",
       "}\n",
       "\n",
       "/* \"?\"-specific style due to the `<a>` HTML tag */\n",
       "\n",
       "#sk-container-id-2 a.estimator_doc_link {\n",
       "  float: right;\n",
       "  font-size: 1rem;\n",
       "  line-height: 1em;\n",
       "  font-family: monospace;\n",
       "  background-color: var(--sklearn-color-background);\n",
       "  border-radius: 1rem;\n",
       "  height: 1rem;\n",
       "  width: 1rem;\n",
       "  text-decoration: none;\n",
       "  /* unfitted */\n",
       "  color: var(--sklearn-color-unfitted-level-1);\n",
       "  border: var(--sklearn-color-unfitted-level-1) 1pt solid;\n",
       "}\n",
       "\n",
       "#sk-container-id-2 a.estimator_doc_link.fitted {\n",
       "  /* fitted */\n",
       "  border: var(--sklearn-color-fitted-level-1) 1pt solid;\n",
       "  color: var(--sklearn-color-fitted-level-1);\n",
       "}\n",
       "\n",
       "/* On hover */\n",
       "#sk-container-id-2 a.estimator_doc_link:hover {\n",
       "  /* unfitted */\n",
       "  background-color: var(--sklearn-color-unfitted-level-3);\n",
       "  color: var(--sklearn-color-background);\n",
       "  text-decoration: none;\n",
       "}\n",
       "\n",
       "#sk-container-id-2 a.estimator_doc_link.fitted:hover {\n",
       "  /* fitted */\n",
       "  background-color: var(--sklearn-color-fitted-level-3);\n",
       "}\n",
       "</style><div id=\"sk-container-id-2\" class=\"sk-top-container\"><div class=\"sk-text-repr-fallback\"><pre>RandomForestRegressor(random_state=42)</pre><b>In a Jupyter environment, please rerun this cell to show the HTML representation or trust the notebook. <br />On GitHub, the HTML representation is unable to render, please try loading this page with nbviewer.org.</b></div><div class=\"sk-container\" hidden><div class=\"sk-item\"><div class=\"sk-estimator fitted sk-toggleable\"><input class=\"sk-toggleable__control sk-hidden--visually\" id=\"sk-estimator-id-2\" type=\"checkbox\" checked><label for=\"sk-estimator-id-2\" class=\"sk-toggleable__label fitted sk-toggleable__label-arrow\"><div><div>RandomForestRegressor</div></div><div><a class=\"sk-estimator-doc-link fitted\" rel=\"noreferrer\" target=\"_blank\" href=\"https://scikit-learn.org/1.6/modules/generated/sklearn.ensemble.RandomForestRegressor.html\">?<span>Documentation for RandomForestRegressor</span></a><span class=\"sk-estimator-doc-link fitted\">i<span>Fitted</span></span></div></label><div class=\"sk-toggleable__content fitted\"><pre>RandomForestRegressor(random_state=42)</pre></div> </div></div></div></div>"
      ],
      "text/plain": [
       "RandomForestRegressor(random_state=42)"
      ]
     },
     "execution_count": 31,
     "metadata": {},
     "output_type": "execute_result"
    }
   ],
   "source": [
    "# _imp is the version of each variable that only considers the most important features\n",
    "X_imp = X[:, indices]\n",
    "rf_imp = RandomForestRegressor(n_estimators=100, criterion='squared_error', max_depth=None,\n",
    "                                min_samples_split=2, min_samples_leaf=1, random_state=42)\n",
    "rf.fit(X_imp, y)"
   ]
  },
  {
   "cell_type": "code",
   "execution_count": 32,
   "metadata": {},
   "outputs": [
    {
     "name": "stdout",
     "output_type": "stream",
     "text": [
      "From our cross-validation, we have obtained the following results:\n",
      "mean MAE = 0.096 log10GPa\n",
      "mean r^2 = 0.850\n"
     ]
    }
   ],
   "source": [
    "scores_imp= cross_val_score(rf_imp, X_imp, y,cv=cv, scoring='neg_mean_absolute_error')\n",
    "r2_scores_imp = cross_val_score(rf_imp, X_imp, y, cv=cv, scoring='r2')\n",
    "\n",
    "print('From our cross-validation, we have obtained the following results:')\n",
    "print(f'mean MAE = {np.mean(np.abs(scores_imp)):.3f} log10GPa')\n",
    "print(f'mean r^2 = {np.mean(np.abs(r2_scores_imp)):.3f}')"
   ]
  },
  {
   "cell_type": "markdown",
   "metadata": {},
   "source": [
    "The MAE and R2 have barely changed. This suggests the model is performing just about the same despite ignoring the many least import features."
   ]
  },
  {
   "cell_type": "markdown",
   "metadata": {},
   "source": [
    "The bulk modulus is how well a materials resists strain under a uniform fluid stress.\n",
    "\n",
    "A lower volume per atom / a higher density / a higher density suggests there isn't much space in the crystal for the atoms to move to when under stress. Therefore their strain would be much lower for a given stress.\n",
    "\n",
    "A higher melting temperature means stronger bonds and a higher valence means more bonds. Therefore these should both oppose the movement of atoms under stress, reducing the strain."
   ]
  },
  {
   "cell_type": "markdown",
   "metadata": {},
   "source": [
    "<div style=\"background-color: #d4edda; border-left: 6px solid #ccc; margin: 20px; padding: 15px; border-radius: 5px;\">\n",
    "    <strong>📓 Submission:</strong> When your notebook is complete in Google Colab, go to <em>File > Download</em> and choose <code>.ipynb</code>. The completed file should be uploaded to Blackboard under assignments for MATE70026.\n",
    "</div>"
   ]
  },
  {
   "cell_type": "markdown",
   "metadata": {
    "id": "UitRoDjqgDwD",
    "tags": []
   },
   "source": [
    "## 🌊 Dive deeper\n",
    "\n",
    "* _Level 1:_ Tackle Chapter 14 on Tree-Based Learners in [Machine Learning Refined](https://github.com/jermwatt/machine_learning_refined#what-is-new-in-the-second-edition).\n",
    "  \n",
    "* _Level 2:_ A collection of videos from the [Materials Project Workshop](https://www.youtube.com/playlist?list=PLTjFYVNE7LTi6kGvPAF7DDQYj0KDL-vQL) on advanced Python.\n",
    "\n",
    "* _Level 3:_ Read more about the [scikit-learn](https://scikit-learn.org/stable/auto_examples/index.html) package and what it can do."
   ]
  }
 ],
 "metadata": {
  "accelerator": "GPU",
  "colab": {
   "gpuType": "T4",
   "provenance": []
  },
  "kernelspec": {
   "display_name": ".venv",
   "language": "python",
   "name": "python3"
  },
  "language_info": {
   "codemirror_mode": {
    "name": "ipython",
    "version": 3
   },
   "file_extension": ".py",
   "mimetype": "text/x-python",
   "name": "python",
   "nbconvert_exporter": "python",
   "pygments_lexer": "ipython3",
   "version": "3.12.8"
  },
  "widgets": {
   "application/vnd.jupyter.widget-state+json": {
    "0777667d2dce45488b68ca1762e881e4": {
     "model_module": "@jupyter-widgets/base",
     "model_module_version": "1.2.0",
     "model_name": "LayoutModel",
     "state": {
      "_model_module": "@jupyter-widgets/base",
      "_model_module_version": "1.2.0",
      "_model_name": "LayoutModel",
      "_view_count": null,
      "_view_module": "@jupyter-widgets/base",
      "_view_module_version": "1.2.0",
      "_view_name": "LayoutView",
      "align_content": null,
      "align_items": null,
      "align_self": null,
      "border": null,
      "bottom": null,
      "display": null,
      "flex": null,
      "flex_flow": null,
      "grid_area": null,
      "grid_auto_columns": null,
      "grid_auto_flow": null,
      "grid_auto_rows": null,
      "grid_column": null,
      "grid_gap": null,
      "grid_row": null,
      "grid_template_areas": null,
      "grid_template_columns": null,
      "grid_template_rows": null,
      "height": null,
      "justify_content": null,
      "justify_items": null,
      "left": null,
      "margin": null,
      "max_height": null,
      "max_width": null,
      "min_height": null,
      "min_width": null,
      "object_fit": null,
      "object_position": null,
      "order": null,
      "overflow": null,
      "overflow_x": null,
      "overflow_y": null,
      "padding": null,
      "right": null,
      "top": null,
      "visibility": null,
      "width": null
     }
    },
    "0c124b51f2524de896ffa4410f093dfe": {
     "model_module": "@jupyter-widgets/controls",
     "model_module_version": "1.5.0",
     "model_name": "DescriptionStyleModel",
     "state": {
      "_model_module": "@jupyter-widgets/controls",
      "_model_module_version": "1.5.0",
      "_model_name": "DescriptionStyleModel",
      "_view_count": null,
      "_view_module": "@jupyter-widgets/base",
      "_view_module_version": "1.2.0",
      "_view_name": "StyleView",
      "description_width": ""
     }
    },
    "14a91f0ac7884937abd7cdbcf640f146": {
     "model_module": "@jupyter-widgets/controls",
     "model_module_version": "1.5.0",
     "model_name": "HTMLModel",
     "state": {
      "_dom_classes": [],
      "_model_module": "@jupyter-widgets/controls",
      "_model_module_version": "1.5.0",
      "_model_name": "HTMLModel",
      "_view_count": null,
      "_view_module": "@jupyter-widgets/controls",
      "_view_module_version": "1.5.0",
      "_view_name": "HTMLView",
      "description": "",
      "description_tooltip": null,
      "layout": "IPY_MODEL_0777667d2dce45488b68ca1762e881e4",
      "placeholder": "​",
      "style": "IPY_MODEL_d8b3449a21b845c9bbffb7e3871097f1",
      "value": " 1500/1500 [00:03&lt;00:00, 449.72it/s]"
     }
    },
    "1dae799457dc4e64a7ba43cd84610e51": {
     "model_module": "@jupyter-widgets/controls",
     "model_module_version": "1.5.0",
     "model_name": "HBoxModel",
     "state": {
      "_dom_classes": [],
      "_model_module": "@jupyter-widgets/controls",
      "_model_module_version": "1.5.0",
      "_model_name": "HBoxModel",
      "_view_count": null,
      "_view_module": "@jupyter-widgets/controls",
      "_view_module_version": "1.5.0",
      "_view_name": "HBoxView",
      "box_style": "",
      "children": [
       "IPY_MODEL_a3e03881631a4c3a877bddd40a4b9339",
       "IPY_MODEL_2421b0bee5ea47a5b57268a17bf77388",
       "IPY_MODEL_14a91f0ac7884937abd7cdbcf640f146"
      ],
      "layout": "IPY_MODEL_a83f1fc752fe461b91768d888eaf6d74"
     }
    },
    "2421b0bee5ea47a5b57268a17bf77388": {
     "model_module": "@jupyter-widgets/controls",
     "model_module_version": "1.5.0",
     "model_name": "FloatProgressModel",
     "state": {
      "_dom_classes": [],
      "_model_module": "@jupyter-widgets/controls",
      "_model_module_version": "1.5.0",
      "_model_name": "FloatProgressModel",
      "_view_count": null,
      "_view_module": "@jupyter-widgets/controls",
      "_view_module_version": "1.5.0",
      "_view_name": "ProgressView",
      "bar_style": "success",
      "description": "",
      "description_tooltip": null,
      "layout": "IPY_MODEL_fecccd219e104ecd8de37e4cfa833466",
      "max": 1500,
      "min": 0,
      "orientation": "horizontal",
      "style": "IPY_MODEL_7362762449f8404d8798a39ecaa2879d",
      "value": 1500
     }
    },
    "4203508c83744a5c84670c0bbc06965b": {
     "model_module": "@jupyter-widgets/controls",
     "model_module_version": "1.5.0",
     "model_name": "HTMLModel",
     "state": {
      "_dom_classes": [],
      "_model_module": "@jupyter-widgets/controls",
      "_model_module_version": "1.5.0",
      "_model_name": "HTMLModel",
      "_view_count": null,
      "_view_module": "@jupyter-widgets/controls",
      "_view_module_version": "1.5.0",
      "_view_name": "HTMLView",
      "description": "",
      "description_tooltip": null,
      "layout": "IPY_MODEL_60a6d250398b4f918303e5214d1ac09f",
      "placeholder": "​",
      "style": "IPY_MODEL_0c124b51f2524de896ffa4410f093dfe",
      "value": "ElementProperty: 100%"
     }
    },
    "425f61fb86954383866c17ba4dfa6e7d": {
     "model_module": "@jupyter-widgets/base",
     "model_module_version": "1.2.0",
     "model_name": "LayoutModel",
     "state": {
      "_model_module": "@jupyter-widgets/base",
      "_model_module_version": "1.2.0",
      "_model_name": "LayoutModel",
      "_view_count": null,
      "_view_module": "@jupyter-widgets/base",
      "_view_module_version": "1.2.0",
      "_view_name": "LayoutView",
      "align_content": null,
      "align_items": null,
      "align_self": null,
      "border": null,
      "bottom": null,
      "display": null,
      "flex": null,
      "flex_flow": null,
      "grid_area": null,
      "grid_auto_columns": null,
      "grid_auto_flow": null,
      "grid_auto_rows": null,
      "grid_column": null,
      "grid_gap": null,
      "grid_row": null,
      "grid_template_areas": null,
      "grid_template_columns": null,
      "grid_template_rows": null,
      "height": null,
      "justify_content": null,
      "justify_items": null,
      "left": null,
      "margin": null,
      "max_height": null,
      "max_width": null,
      "min_height": null,
      "min_width": null,
      "object_fit": null,
      "object_position": null,
      "order": null,
      "overflow": null,
      "overflow_x": null,
      "overflow_y": null,
      "padding": null,
      "right": null,
      "top": null,
      "visibility": null,
      "width": null
     }
    },
    "48470cbdaff145de994fe6d89bcd394d": {
     "model_module": "@jupyter-widgets/base",
     "model_module_version": "1.2.0",
     "model_name": "LayoutModel",
     "state": {
      "_model_module": "@jupyter-widgets/base",
      "_model_module_version": "1.2.0",
      "_model_name": "LayoutModel",
      "_view_count": null,
      "_view_module": "@jupyter-widgets/base",
      "_view_module_version": "1.2.0",
      "_view_name": "LayoutView",
      "align_content": null,
      "align_items": null,
      "align_self": null,
      "border": null,
      "bottom": null,
      "display": null,
      "flex": null,
      "flex_flow": null,
      "grid_area": null,
      "grid_auto_columns": null,
      "grid_auto_flow": null,
      "grid_auto_rows": null,
      "grid_column": null,
      "grid_gap": null,
      "grid_row": null,
      "grid_template_areas": null,
      "grid_template_columns": null,
      "grid_template_rows": null,
      "height": null,
      "justify_content": null,
      "justify_items": null,
      "left": null,
      "margin": null,
      "max_height": null,
      "max_width": null,
      "min_height": null,
      "min_width": null,
      "object_fit": null,
      "object_position": null,
      "order": null,
      "overflow": null,
      "overflow_x": null,
      "overflow_y": null,
      "padding": null,
      "right": null,
      "top": null,
      "visibility": null,
      "width": null
     }
    },
    "535ada5b803145178dddce7c4f280a08": {
     "model_module": "@jupyter-widgets/controls",
     "model_module_version": "1.5.0",
     "model_name": "HTMLModel",
     "state": {
      "_dom_classes": [],
      "_model_module": "@jupyter-widgets/controls",
      "_model_module_version": "1.5.0",
      "_model_name": "HTMLModel",
      "_view_count": null,
      "_view_module": "@jupyter-widgets/controls",
      "_view_module_version": "1.5.0",
      "_view_name": "HTMLView",
      "description": "",
      "description_tooltip": null,
      "layout": "IPY_MODEL_48470cbdaff145de994fe6d89bcd394d",
      "placeholder": "​",
      "style": "IPY_MODEL_91300eca1cd14325af914e5c65c5e90c",
      "value": " 1500/1500 [00:05&lt;00:00, 183.22it/s]"
     }
    },
    "599bf9f909614f1c89c2fb8a2de5ec20": {
     "model_module": "@jupyter-widgets/controls",
     "model_module_version": "1.5.0",
     "model_name": "ProgressStyleModel",
     "state": {
      "_model_module": "@jupyter-widgets/controls",
      "_model_module_version": "1.5.0",
      "_model_name": "ProgressStyleModel",
      "_view_count": null,
      "_view_module": "@jupyter-widgets/base",
      "_view_module_version": "1.2.0",
      "_view_name": "StyleView",
      "bar_color": null,
      "description_width": ""
     }
    },
    "60a6d250398b4f918303e5214d1ac09f": {
     "model_module": "@jupyter-widgets/base",
     "model_module_version": "1.2.0",
     "model_name": "LayoutModel",
     "state": {
      "_model_module": "@jupyter-widgets/base",
      "_model_module_version": "1.2.0",
      "_model_name": "LayoutModel",
      "_view_count": null,
      "_view_module": "@jupyter-widgets/base",
      "_view_module_version": "1.2.0",
      "_view_name": "LayoutView",
      "align_content": null,
      "align_items": null,
      "align_self": null,
      "border": null,
      "bottom": null,
      "display": null,
      "flex": null,
      "flex_flow": null,
      "grid_area": null,
      "grid_auto_columns": null,
      "grid_auto_flow": null,
      "grid_auto_rows": null,
      "grid_column": null,
      "grid_gap": null,
      "grid_row": null,
      "grid_template_areas": null,
      "grid_template_columns": null,
      "grid_template_rows": null,
      "height": null,
      "justify_content": null,
      "justify_items": null,
      "left": null,
      "margin": null,
      "max_height": null,
      "max_width": null,
      "min_height": null,
      "min_width": null,
      "object_fit": null,
      "object_position": null,
      "order": null,
      "overflow": null,
      "overflow_x": null,
      "overflow_y": null,
      "padding": null,
      "right": null,
      "top": null,
      "visibility": null,
      "width": null
     }
    },
    "7362762449f8404d8798a39ecaa2879d": {
     "model_module": "@jupyter-widgets/controls",
     "model_module_version": "1.5.0",
     "model_name": "ProgressStyleModel",
     "state": {
      "_model_module": "@jupyter-widgets/controls",
      "_model_module_version": "1.5.0",
      "_model_name": "ProgressStyleModel",
      "_view_count": null,
      "_view_module": "@jupyter-widgets/base",
      "_view_module_version": "1.2.0",
      "_view_name": "StyleView",
      "bar_color": null,
      "description_width": ""
     }
    },
    "91300eca1cd14325af914e5c65c5e90c": {
     "model_module": "@jupyter-widgets/controls",
     "model_module_version": "1.5.0",
     "model_name": "DescriptionStyleModel",
     "state": {
      "_model_module": "@jupyter-widgets/controls",
      "_model_module_version": "1.5.0",
      "_model_name": "DescriptionStyleModel",
      "_view_count": null,
      "_view_module": "@jupyter-widgets/base",
      "_view_module_version": "1.2.0",
      "_view_name": "StyleView",
      "description_width": ""
     }
    },
    "9f929bd631c240c593b25abc794292bc": {
     "model_module": "@jupyter-widgets/base",
     "model_module_version": "1.2.0",
     "model_name": "LayoutModel",
     "state": {
      "_model_module": "@jupyter-widgets/base",
      "_model_module_version": "1.2.0",
      "_model_name": "LayoutModel",
      "_view_count": null,
      "_view_module": "@jupyter-widgets/base",
      "_view_module_version": "1.2.0",
      "_view_name": "LayoutView",
      "align_content": null,
      "align_items": null,
      "align_self": null,
      "border": null,
      "bottom": null,
      "display": null,
      "flex": null,
      "flex_flow": null,
      "grid_area": null,
      "grid_auto_columns": null,
      "grid_auto_flow": null,
      "grid_auto_rows": null,
      "grid_column": null,
      "grid_gap": null,
      "grid_row": null,
      "grid_template_areas": null,
      "grid_template_columns": null,
      "grid_template_rows": null,
      "height": null,
      "justify_content": null,
      "justify_items": null,
      "left": null,
      "margin": null,
      "max_height": null,
      "max_width": null,
      "min_height": null,
      "min_width": null,
      "object_fit": null,
      "object_position": null,
      "order": null,
      "overflow": null,
      "overflow_x": null,
      "overflow_y": null,
      "padding": null,
      "right": null,
      "top": null,
      "visibility": null,
      "width": null
     }
    },
    "a3e03881631a4c3a877bddd40a4b9339": {
     "model_module": "@jupyter-widgets/controls",
     "model_module_version": "1.5.0",
     "model_name": "HTMLModel",
     "state": {
      "_dom_classes": [],
      "_model_module": "@jupyter-widgets/controls",
      "_model_module_version": "1.5.0",
      "_model_name": "HTMLModel",
      "_view_count": null,
      "_view_module": "@jupyter-widgets/controls",
      "_view_module_version": "1.5.0",
      "_view_name": "HTMLView",
      "description": "",
      "description_tooltip": null,
      "layout": "IPY_MODEL_9f929bd631c240c593b25abc794292bc",
      "placeholder": "​",
      "style": "IPY_MODEL_f5ba5255dbae4b238b8989248a4c432c",
      "value": "DensityFeatures: 100%"
     }
    },
    "a83f1fc752fe461b91768d888eaf6d74": {
     "model_module": "@jupyter-widgets/base",
     "model_module_version": "1.2.0",
     "model_name": "LayoutModel",
     "state": {
      "_model_module": "@jupyter-widgets/base",
      "_model_module_version": "1.2.0",
      "_model_name": "LayoutModel",
      "_view_count": null,
      "_view_module": "@jupyter-widgets/base",
      "_view_module_version": "1.2.0",
      "_view_name": "LayoutView",
      "align_content": null,
      "align_items": null,
      "align_self": null,
      "border": null,
      "bottom": null,
      "display": null,
      "flex": null,
      "flex_flow": null,
      "grid_area": null,
      "grid_auto_columns": null,
      "grid_auto_flow": null,
      "grid_auto_rows": null,
      "grid_column": null,
      "grid_gap": null,
      "grid_row": null,
      "grid_template_areas": null,
      "grid_template_columns": null,
      "grid_template_rows": null,
      "height": null,
      "justify_content": null,
      "justify_items": null,
      "left": null,
      "margin": null,
      "max_height": null,
      "max_width": null,
      "min_height": null,
      "min_width": null,
      "object_fit": null,
      "object_position": null,
      "order": null,
      "overflow": null,
      "overflow_x": null,
      "overflow_y": null,
      "padding": null,
      "right": null,
      "top": null,
      "visibility": null,
      "width": null
     }
    },
    "b9f2dd4af34944e0b98aa9d14d9d437f": {
     "model_module": "@jupyter-widgets/base",
     "model_module_version": "1.2.0",
     "model_name": "LayoutModel",
     "state": {
      "_model_module": "@jupyter-widgets/base",
      "_model_module_version": "1.2.0",
      "_model_name": "LayoutModel",
      "_view_count": null,
      "_view_module": "@jupyter-widgets/base",
      "_view_module_version": "1.2.0",
      "_view_name": "LayoutView",
      "align_content": null,
      "align_items": null,
      "align_self": null,
      "border": null,
      "bottom": null,
      "display": null,
      "flex": null,
      "flex_flow": null,
      "grid_area": null,
      "grid_auto_columns": null,
      "grid_auto_flow": null,
      "grid_auto_rows": null,
      "grid_column": null,
      "grid_gap": null,
      "grid_row": null,
      "grid_template_areas": null,
      "grid_template_columns": null,
      "grid_template_rows": null,
      "height": null,
      "justify_content": null,
      "justify_items": null,
      "left": null,
      "margin": null,
      "max_height": null,
      "max_width": null,
      "min_height": null,
      "min_width": null,
      "object_fit": null,
      "object_position": null,
      "order": null,
      "overflow": null,
      "overflow_x": null,
      "overflow_y": null,
      "padding": null,
      "right": null,
      "top": null,
      "visibility": null,
      "width": null
     }
    },
    "d8b3449a21b845c9bbffb7e3871097f1": {
     "model_module": "@jupyter-widgets/controls",
     "model_module_version": "1.5.0",
     "model_name": "DescriptionStyleModel",
     "state": {
      "_model_module": "@jupyter-widgets/controls",
      "_model_module_version": "1.5.0",
      "_model_name": "DescriptionStyleModel",
      "_view_count": null,
      "_view_module": "@jupyter-widgets/base",
      "_view_module_version": "1.2.0",
      "_view_name": "StyleView",
      "description_width": ""
     }
    },
    "e6dbacb36ff641339737d92e45d93b26": {
     "model_module": "@jupyter-widgets/controls",
     "model_module_version": "1.5.0",
     "model_name": "FloatProgressModel",
     "state": {
      "_dom_classes": [],
      "_model_module": "@jupyter-widgets/controls",
      "_model_module_version": "1.5.0",
      "_model_name": "FloatProgressModel",
      "_view_count": null,
      "_view_module": "@jupyter-widgets/controls",
      "_view_module_version": "1.5.0",
      "_view_name": "ProgressView",
      "bar_style": "success",
      "description": "",
      "description_tooltip": null,
      "layout": "IPY_MODEL_425f61fb86954383866c17ba4dfa6e7d",
      "max": 1500,
      "min": 0,
      "orientation": "horizontal",
      "style": "IPY_MODEL_599bf9f909614f1c89c2fb8a2de5ec20",
      "value": 1500
     }
    },
    "e710b8caf6bd4a09a6a118403d80fc3c": {
     "model_module": "@jupyter-widgets/controls",
     "model_module_version": "1.5.0",
     "model_name": "HBoxModel",
     "state": {
      "_dom_classes": [],
      "_model_module": "@jupyter-widgets/controls",
      "_model_module_version": "1.5.0",
      "_model_name": "HBoxModel",
      "_view_count": null,
      "_view_module": "@jupyter-widgets/controls",
      "_view_module_version": "1.5.0",
      "_view_name": "HBoxView",
      "box_style": "",
      "children": [
       "IPY_MODEL_4203508c83744a5c84670c0bbc06965b",
       "IPY_MODEL_e6dbacb36ff641339737d92e45d93b26",
       "IPY_MODEL_535ada5b803145178dddce7c4f280a08"
      ],
      "layout": "IPY_MODEL_b9f2dd4af34944e0b98aa9d14d9d437f"
     }
    },
    "f5ba5255dbae4b238b8989248a4c432c": {
     "model_module": "@jupyter-widgets/controls",
     "model_module_version": "1.5.0",
     "model_name": "DescriptionStyleModel",
     "state": {
      "_model_module": "@jupyter-widgets/controls",
      "_model_module_version": "1.5.0",
      "_model_name": "DescriptionStyleModel",
      "_view_count": null,
      "_view_module": "@jupyter-widgets/base",
      "_view_module_version": "1.2.0",
      "_view_name": "StyleView",
      "description_width": ""
     }
    },
    "fecccd219e104ecd8de37e4cfa833466": {
     "model_module": "@jupyter-widgets/base",
     "model_module_version": "1.2.0",
     "model_name": "LayoutModel",
     "state": {
      "_model_module": "@jupyter-widgets/base",
      "_model_module_version": "1.2.0",
      "_model_name": "LayoutModel",
      "_view_count": null,
      "_view_module": "@jupyter-widgets/base",
      "_view_module_version": "1.2.0",
      "_view_name": "LayoutView",
      "align_content": null,
      "align_items": null,
      "align_self": null,
      "border": null,
      "bottom": null,
      "display": null,
      "flex": null,
      "flex_flow": null,
      "grid_area": null,
      "grid_auto_columns": null,
      "grid_auto_flow": null,
      "grid_auto_rows": null,
      "grid_column": null,
      "grid_gap": null,
      "grid_row": null,
      "grid_template_areas": null,
      "grid_template_columns": null,
      "grid_template_rows": null,
      "height": null,
      "justify_content": null,
      "justify_items": null,
      "left": null,
      "margin": null,
      "max_height": null,
      "max_width": null,
      "min_height": null,
      "min_width": null,
      "object_fit": null,
      "object_position": null,
      "order": null,
      "overflow": null,
      "overflow_x": null,
      "overflow_y": null,
      "padding": null,
      "right": null,
      "top": null,
      "visibility": null,
      "width": null
     }
    }
   }
  }
 },
 "nbformat": 4,
 "nbformat_minor": 4
}
