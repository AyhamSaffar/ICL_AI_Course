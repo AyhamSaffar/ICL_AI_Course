{
 "cells": [
  {
   "cell_type": "markdown",
   "metadata": {
    "id": "hF3EDWL0A0RQ"
   },
   "source": [
    "# Crystal Representations"
   ]
  },
  {
   "cell_type": "markdown",
   "metadata": {
    "id": "Mo2IDc40A0RV"
   },
   "source": [
    "<div style=\"background-color: #f8d7da; border-left: 6px solid #ccc; margin: 20px; padding: 15px;\">\n",
    "    <strong>💡 John Stewart Bell:</strong> Theoretical physicists live in a classical world, looking out into a quantum-mechanical world.\n",
    "</div>"
   ]
  },
  {
   "cell_type": "markdown",
   "metadata": {
    "id": "s1XIAlqsA0RW"
   },
   "source": [
    "<iframe class=\"speakerdeck-iframe\" frameborder=\"0\" src=\"https://speakerdeck.com/player/431daa62140b472bb2b19c499ebb73f5\" title=\"Machine Learning for Materials (Lecture 4)\" allowfullscreen=\"true\" style=\"border: 0px; background-clip: padding-box; background-color: rgba(0, 0, 0, 0.1); margin: 0px; padding: 0px; border-radius: 6px; box-shadow: rgba(0, 0, 0, 0.2) 0px 5px 40px; width: 100%; height: auto; aspect-ratio: 560 / 420;\" data-ratio=\"1.3333333333333333\"></iframe>\n",
    "\n",
    "[Lecture slides](https://speakerdeck.com/aronwalsh/mlformaterials-lecture4-data)"
   ]
  },
  {
   "cell_type": "markdown",
   "metadata": {
    "id": "JLQe-aiNUrTZ"
   },
   "source": [
    "## 🚀 Navigating crystal space\n",
    "\n",
    "Our world can be described as a three-dimensional space (or a four-dimensional spacetime continuum). Chemical space is even more vast when you think of all of the compositions and structures that can be built from combinations of the 118 known elements in the Periodic Table! Considering only carbon atoms, C-C bonds can be used to form molecules, rods, spheres, sheets, and extended crystals. \n",
    "\n",
    "Today's goal is to explore the combinatorial explosion that occurs for multi-component solids using informatics tools."
   ]
  },
  {
   "cell_type": "code",
   "execution_count": null,
   "metadata": {
    "ExecuteTime": {
     "end_time": "2023-12-21T15:56:33.424917100Z",
     "start_time": "2023-12-21T15:55:20.372896400Z"
    },
    "colab": {
     "base_uri": "https://localhost:8080/"
    },
    "executionInfo": {
     "elapsed": 81812,
     "status": "ok",
     "timestamp": 1691500256978,
     "user": {
      "displayName": "Calysta Tesiman",
      "userId": "13160776105216987028"
     },
     "user_tz": -60
    },
    "id": "5ULOjac_UrTe",
    "outputId": "6f22c5b0-a830-45dd-9fd0-4305bf00e856"
   },
   "outputs": [],
   "source": [
    "# Installation of libraries\n",
    "!pip install matminer --quiet\n",
    "!pip install smact --quiet\n",
    "!pip install plotly --quiet"
   ]
  },
  {
   "cell_type": "code",
   "execution_count": null,
   "metadata": {
    "ExecuteTime": {
     "end_time": "2023-12-21T15:56:44.654986700Z",
     "start_time": "2023-12-21T15:56:33.427916800Z"
    },
    "id": "VD52AmC9UrTf"
   },
   "outputs": [],
   "source": [
    "# Import of modules\n",
    "import pandas as pd  # Data manipulation with DataFrames\n",
    "import numpy as np  # Numerical operations\n",
    "import matplotlib.pyplot as plt  # Plotting\n",
    "import plotly.express as px  # More plotting\n",
    "import pprint  # Pretty print data structures"
   ]
  },
  {
   "cell_type": "markdown",
   "metadata": {},
   "source": [
    "<details>\n",
    "<summary>Colab error solution</summary>\n",
    "If running the import module cell fails with an \"AttributeError\", click `Runtime` -> `Restart Session` and then simply rerun the cell. \n",
    "</details>"
   ]
  },
  {
   "cell_type": "markdown",
   "metadata": {
    "id": "uEPF6ETxA0Rk"
   },
   "source": [
    "## ABX<sub>3</sub> perovskite structure\n",
    "\n",
    "Let's start by considering how we can represent a crystal structure in Python. We will make use of the functionality for storing and representing crystal structures in `pymatgen`. \n",
    "\n",
    "The [`Structure` module](https://pymatgen.org/pymatgen.core.structure.html) contains the `Structure` class which can be used to represent the unit cell of a crystal.  Remember, this is the simplest repeat unit of a crystal that is defined by three unit cell lengths (**a**,**b**,**c**), three angles ($\\alpha,\\beta,\\gamma$), and the fractional coordinates of the atoms that it contains.\n",
    "\n",
    "Below, we will create a model of a cubic perovskite from its spacegroup, Pm3̅m (No. 221). For a cubic unit cell **a** = **b** = **c** and $\\alpha = \\beta = \\gamma = 90 ^{\\circ}$, so we only need to define the length of **a**.\n",
    "\n",
    "We will now generate a structure for CsPbI<sub>3</sub> from a spacegroup using the class method `Structure.from_spacegroup()`.\n",
    "\n",
    "![image](./images/2_CsPbI3.png)\n",
    "\n",
    "This graphic was created using [VESTA](https://jp-minerals.org/vesta/en)."
   ]
  },
  {
   "cell_type": "code",
   "execution_count": null,
   "metadata": {
    "ExecuteTime": {
     "end_time": "2023-12-21T16:01:52.881969600Z",
     "start_time": "2023-12-21T16:01:51.488322900Z"
    },
    "colab": {
     "base_uri": "https://localhost:8080/",
     "height": 472
    },
    "id": "9JKs4xR7A0Rk",
    "outputId": "e48cbed6-e0f7-49f1-dc9c-36a88453cf9c"
   },
   "outputs": [],
   "source": [
    "# Create a structure object for cubic CsPbI3 using pymatgen\n",
    "from pymatgen.core import Structure, Lattice  # Structure modules\n",
    "\n",
    "CsPbI3 = Structure.from_spacegroup(\n",
    "'Pm-3m', # Spacegroup for a cubic perovskite\n",
    "Lattice.cubic(6.41), # Cubic spacing of 6.41 Å\n",
    "['Pb2+', 'Cs+', 'I-'], # Unique species of the ABX3 compound\n",
    "[[0.,0.,0.],[0.5,0.5,0.5],[0.,0.,0.5]] # Fractional atomic coordinates of each site\n",
    ")\n",
    "\n",
    "# Print the structure details\n",
    "print(CsPbI3)"
   ]
  },
  {
   "cell_type": "markdown",
   "metadata": {},
   "source": [
    "Note that it has used the symmetry from the space group information to create a primitive unit cell with 5 atoms. Within `pymatgen`, we can export crystal structures to a variety of file formats using the `to` method of the `Structure` class. Some of these include the Crystallographic Information Format (cif) and POSCAR (the standard file format for the density functional theory code [VASP](https://www.vasp.at/wiki/index.php/Category:Theory)). A complete list of file formats can be found in [the docs](https://pymatgen.org/pymatgen.core.structure.html#pymatgen.core.structure.IStructure.to) for the `Structure` class.\n",
    "\n",
    "Note, the `filename` argument of the `to` method needs to be specified to save the file to disk. Only supplying the `fmt` argument will result in a string being returned."
   ]
  },
  {
   "cell_type": "code",
   "execution_count": null,
   "metadata": {},
   "outputs": [],
   "source": [
    "# Print the file to screen\n",
    "print('\\nThe CIF format for CsPbI3 is shown below:\\n')\n",
    "print(CsPbI3.to(fmt='cif'))\n",
    "\n",
    "# Export the structure to a CIF\n",
    "# CsPbI3.to(filename='CsPbI3.cif')\n",
    "\n",
    "# Download the CIF from Google Colab\n",
    "# from google.colab import files\n",
    "# files.download('CsPbI3.cif')"
   ]
  },
  {
   "cell_type": "markdown",
   "metadata": {
    "id": "E9pdrnlcA0Rn"
   },
   "source": [
    "<details>\n",
    "<summary> Code hint </summary>\n",
    "You can export a .cif by uncommenting and running the lines above. These files can be opened in a visualiser of your choice (e.g. VESTA or Crystalmaker).\n",
    "</details>"
   ]
  },
  {
   "cell_type": "markdown",
   "metadata": {},
   "source": [
    "There are many useful functions for analysing these structures. As we are using Python, this analysis can be extended to large databases of thousands to millions of entries. Below we check distances and two methods for assigning coordination numbers (detailed [here](https://pubs.acs.org/doi/10.1021/acs.inorgchem.0c02996))."
   ]
  },
  {
   "cell_type": "code",
   "execution_count": null,
   "metadata": {},
   "outputs": [],
   "source": [
    "# Distance between the first and second atoms\n",
    "distance = CsPbI3.get_distance(0, 1)\n",
    "print(f\"Distance between Pb and Cs: {distance:.2f} Å\")\n",
    "\n",
    "# Coordination environment of Pb using Voronoi tessellation\n",
    "from pymatgen.analysis.local_env import VoronoiNN\n",
    "vnn = VoronoiNN()\n",
    "coord_env = vnn.get_nn(CsPbI3, 0)\n",
    "print(f\"\\nCoordination number of Pb (VoronoiNN): {len(coord_env)}\")\n",
    "\n",
    "# Coordination environment of Pb using Crystal Near-Neighbor Algorithm \n",
    "from pymatgen.analysis.local_env import CrystalNN\n",
    "crystal_nn = CrystalNN()\n",
    "coord_env_crystal = crystal_nn.get_nn(CsPbI3, 0)\n",
    "print(f\"\\nCoordination number of Pb (CrystalNN): {len(coord_env_crystal)}\\n\")\n",
    "for site in coord_env_crystal:\n",
    "    print(f\"Distance to {site.species_string}: {CsPbI3.get_distance(0, site.index):.2f} Å\")\n",
    "\n",
    "# Assign oxidation states\n",
    "from pymatgen.analysis.bond_valence import BVAnalyzer\n",
    "analyzer = BVAnalyzer()\n",
    "valences = analyzer.get_valences(CsPbI3)\n",
    "print(f\"\\nAssigned oxidation states:\")\n",
    "for site, valence in zip(CsPbI3.sites, valences):\n",
    "    print(f\"{site.species_string}: {valence:+.1f}\")"
   ]
  },
  {
   "cell_type": "markdown",
   "metadata": {},
   "source": [
    "You can imagine how to hand-build simple feature vectors to describe crystal strutures, but we can do this more systematically using purpose-built representations for machine learning. Let's try to construct a Sine Coulomb matrix with `matminer`. "
   ]
  },
  {
   "cell_type": "code",
   "execution_count": null,
   "metadata": {},
   "outputs": [],
   "source": [
    "from matminer.featurizers.structure import SineCoulombMatrix\n",
    "\n",
    "# Sine matrix representation\n",
    "scm = SineCoulombMatrix(flatten=False)\n",
    "scm.fit([CsPbI3])\n",
    "scm_fea = scm.featurize(CsPbI3)\n",
    "np.set_printoptions(precision=2, suppress=True) \n",
    "print(\"\\nSine Coulomb matrix features:\\n\", np.array(scm_fea))"
   ]
  },
  {
   "cell_type": "markdown",
   "metadata": {},
   "source": [
    "The output is a 5x5 matrix because there are 5 atoms in the unit cell of CsPbI<sub>3</sub>. Each element M<sub>ij</sub> in the matrix represents the interaction between atoms i and j.\n",
    "\n",
    "- The **diagonal elements** (i.e., M<sub>ii</sub>) represent the interaction of each atom with itself, which depends on the atomic number Z<sub>i</sub> and is calculated as 0.5Z<sub>i</sub><sup>2.4</sup>.\n",
    "- The **off-diagonal elements** (i.e., M<sub>ij</sub> for i ≠ j) are inspired by the Coulomb interaction between different atoms i and j, scaled by their atomic numbers Z<sub>i</sub> and Z<sub>j</sub>, and the distance between them in the periodic structure.\n",
    "\n",
    "This matrix encodes information from both the positions and types of atoms, providing a feature vector. Let's see what happens when the chemistry changes."
   ]
  },
  {
   "cell_type": "code",
   "execution_count": null,
   "metadata": {},
   "outputs": [],
   "source": [
    "from pymatgen.core import Species\n",
    "\n",
    "# Substitute Pb with Sn\n",
    "CsSnI3 = CsPbI3.copy()\n",
    "CsSnI3.replace_species({Species(\"Pb2+\"): Species(\"Sn2+\")})\n",
    "\n",
    "# Sine matrix representation for CsSnI3 \n",
    "scm = SineCoulombMatrix(flatten=False)\n",
    "scm.fit([CsSnI3])\n",
    "scm_fea_sn = scm.featurize(CsSnI3)\n",
    "\n",
    "np.set_printoptions(precision=2, suppress=True) \n",
    "print(\"\\nOriginal Coulomb matrix features:\\n\", np.array(scm_fea))\n",
    "print(\"\\nSine Coulomb matrix features with Sn replacing Pb:\\n\", np.array(scm_fea_sn))"
   ]
  },
  {
   "cell_type": "markdown",
   "metadata": {},
   "source": [
    "<div style=\"background-color: #d4edda; border-left: 6px solid #ccc; margin: 20px; padding: 15px; border-radius: 5px;\">\n",
    "    <strong>🐢 Take a beat:</strong> Think about why some values remain the same, others are different, and where they are placed in the matrix.\n",
    "</div>\n",
    "\n",
    "While useful, this is not the state-of-the-art approach. One reason is that only pairwise information is included, e.g. two structures with different angles between the component atoms may have the same numerical representation. The [DScribe tutorials](https://singroup.github.io/dscribe/latest/tutorials/tutorials.html) contain a description of more advanced representations such as Smooth Overlap of Atomic Positions (SOAP) that includes both 2-body and 3-body descriptors of structure."
   ]
  },
  {
   "cell_type": "markdown",
   "metadata": {},
   "source": [
    "## Possible Perovskites\n",
    "\n",
    "We can make an ionic approximation for CsPbI<sub>3</sub> and consider that the crystal is formed of Cs<sup>+</sup>, Pb<sup>2+</sup>, and I<sup>-</sup> ions. The crystal is charge neutral overall as the sum of cations (3<sup>+</sup>) is balanced by the sum of anions (3<sup>-</sup>). This charge balance is also what the structural analysis we performed suggested. It is worth remembering that bonding in real solids is more complicated than a simple classification of \"ionic\", \"covalent\" or \"metallic\" (e.g. see this [perspective](https://www.nature.com/articles/s41563-018-0165-7)).\n",
    "\n",
    "Let's now screen a large space of possible Cs-Pb-I compounds by making use of our materials informatics code [smact](https://github.com/WMD-group/SMACT)."
   ]
  },
  {
   "cell_type": "code",
   "execution_count": null,
   "metadata": {},
   "outputs": [],
   "source": [
    "import smact\n",
    "from smact.screening import smact_filter\n",
    "import pprint\n",
    "\n",
    "# Define a list of three elements to screen for A-B-X compounds\n",
    "elements = [\"Cs\", \"Pb]\n",
    "\n",
    "# Convert element symbols into smact.Element objects\n",
    "element_objects = [smact.Element(e) for e in elements]\n",
    "\n",
    "# Apply smact_filter to find valid compositions within a stoichiometry threshold\n",
    "allowed_combinations = smact_filter(element_objects, threshold=8)\n",
    "\n",
    "# Display the allowed combinations in a readable format\n",
    "print(f\"Number of allowed combinations: --> {len(allowed_combinations)} <--\")\n",
    "pprint.pprint(\"(elements), (charges), (stoichiometry)\")\n",
    "pprint.pprint(allowed_combinations)"
   ]
  },
  {
   "cell_type": "markdown",
   "metadata": {},
   "source": [
    "<details>\n",
    "<summary> Code hint </summary>\n",
    "Close all quotations and add \"I\" to the elements list.\n",
    "</details>\n",
    "\n",
    "That set includes many possibilities including the regular perovskite stoichiometry CsPbI<sub>3</sub>, which has a 1:1:3 ratio, as well as many others such as Cs<sub>2</sub>Pb<sub></sub>I<sub>4</sub>, which forms a layered (2D octahedral connectivity) perovskite.  Some of the entries have Pb in a 4- charge state (known as the plumbide anion).\n",
    "\n",
    "Before the exploration of metal halides, metals oxides were the most commonly studied perovskites. Let's explore how about A-B-O compounds can be formed."
   ]
  },
  {
   "cell_type": "code",
   "execution_count": null,
   "metadata": {},
   "outputs": [],
   "source": [
    "import itertools\n",
    "import multiprocessing\n",
    "from smact import Element, element_dictionary, ordered_elements\n",
    "from smact.screening import smact_filter\n",
    "\n",
    "# Load all elements and then limit to Bi\n",
    "all_elements = element_dictionary()\n",
    "elements = [all_elements[symbol] for symbol in ordered_elements(1, 83)]\n",
    "\n",
    "# Generate all AB combinations + add oxygen (O)\n",
    "metal_pairs = itertools.combinations(elements, 2)\n",
    "ternary_systems = [[*pair, Element(\"O\")] for pair in metal_pairs]\n",
    "print(f\"Raw element combinations (ABO): --> {len(ternary_systems)} <--\")\n",
    "\n",
    "# Apply chemical filters using multiprocessing\n",
    "if __name__ == \"__main__\":\n",
    "    with multiprocessing.Pool(processes=4) as pool:\n",
    "        result = pool.map(smact_filter, ternary_systems)\n",
    "\n",
    "# Flatten the list \n",
    "flat_list = [composition for sublist in result if sublist for composition in sublist]\n",
    "print(f\"Allowed stoichiometries: --> {len(flat_list)} <--\")\n",
    "\n",
    "# Print some valid compositions\n",
    "print(\"  elements, oxidation states, stoichiometries\")\n",
    "for entry in flat_list[-10:]: \n",
    "    print(entry)"
   ]
  },
  {
   "cell_type": "markdown",
   "metadata": {},
   "source": [
    "That's a lot of potential compounds. Let's filter them down to just keep ABO<sub>3</sub>."
   ]
  },
  {
   "cell_type": "code",
   "execution_count": null,
   "metadata": {},
   "outputs": [],
   "source": [
    "# Filter for (1,1,3) stoichiometries with oxide anion\n",
    "filtered_compositions = [\n",
    "    comp for comp in flat_list \n",
    "    if comp[2] == (1, 1, 3) \n",
    "    and 'O' in comp[0] \n",
    "    and comp[1][comp[0].index('O')] == -2  # Oxide\n",
    "    and comp[1][0] > 0  # First element must have a positive charge\n",
    "    and comp[1][1] > 0  # Second element must have a positive charge\n",
    "]\n",
    "\n",
    "print(f\"Filtered (1,1,3) stoichiometries with O(-2): --> {len(filtered_compositions)} <--\")\n",
    "\n",
    "# Print a few filtered compositions\n",
    "print(\"  elements, oxidation states, stoichiometries\")\n",
    "for entry in filtered_compositions[-10:]:  \n",
    "    print(entry)"
   ]
  },
  {
   "cell_type": "markdown",
   "metadata": {},
   "source": [
    "That's still too many to scroll through, but we can make a plot to visualise the combinations."
   ]
  },
  {
   "cell_type": "code",
   "execution_count": null,
   "metadata": {},
   "outputs": [],
   "source": [
    "# List of elements to include \n",
    "elements = sorted(set([el for comp in filtered_compositions for el in comp[0]]))\n",
    "\n",
    "# DataFrame to hold the allowed combinations\n",
    "matrix = pd.DataFrame(0, index=elements, columns=elements)\n",
    "\n",
    "# Fill the matrix with allowed combinations\n",
    "for comp in filtered_compositions:\n",
    "    A, B, O = comp[0]\n",
    "    matrix.at[A, B] = 1\n",
    "    matrix.at[B, A] = 1  \n",
    "\n",
    "# Create the plot \n",
    "fig = px.imshow(\n",
    "    matrix.values,\n",
    "    labels=dict(x=\"Element A\", y=\"Element B\", color=\"Allowed\"),\n",
    "    x=matrix.columns,\n",
    "    y=matrix.index,\n",
    "    color_continuous_scale=\"Plasma\",\n",
    ")\n",
    "\n",
    "# Update layout for smaller font size\n",
    "fig.update_layout(\n",
    "    xaxis=dict(tickfont=dict(size=10)),\n",
    "    yaxis=dict(tickfont=dict(size=10)),\n",
    "    title=\"Charge allowed ABO<sub>3</sub> combinations\",\n",
    "    title_x=0.5,\n",
    ")\n",
    "\n",
    "fig.show()"
   ]
  },
  {
   "cell_type": "markdown",
   "metadata": {},
   "source": [
    "## 🚨 Exercise 4\n",
    "\n",
    "<div style=\"background-color: #dceefb; border-left: 6px solid #ccc; margin: 20px; padding: 15px; border-radius: 5px;\">\n",
    "    <strong>💡 Coding exercises:</strong> The exercises are designed to apply what you have learned with room for creativity. It is fine to discuss solutions with your classmates, but the actual code should not be directly copied.\n",
    "</div>\n",
    "\n",
    "### Your details"
   ]
  },
  {
   "cell_type": "code",
   "execution_count": null,
   "metadata": {
    "ExecuteTime": {
     "end_time": "2023-12-21T16:06:48.931855300Z",
     "start_time": "2023-12-21T16:06:48.922998200Z"
    }
   },
   "outputs": [],
   "source": [
    "import numpy as np\n",
    "\n",
    "# Insert your values\n",
    "Name = \"No Name\" # Replace with your name\n",
    "CID = 123446 # Replace with your College ID (as a numeric value with no leading 0s)\n",
    "\n",
    "# Set a random seed using the CID value\n",
    "CID = int(CID)\n",
    "np.random.seed(CID)\n",
    "\n",
    "# Print the message\n",
    "print(\"This is the work of \" + Name + \" [CID: \" + str(CID) + \"]\")"
   ]
  },
  {
   "cell_type": "markdown",
   "metadata": {
    "id": "IhKzENzxUrTv"
   },
   "source": [
    "### Problem\n",
    "\n",
    "Materials informatics can harness the combinatorial spaces of chemical composition, crystals structure, and physical properties. A task will be given to explore another ternary space."
   ]
  },
  {
   "cell_type": "code",
   "execution_count": null,
   "metadata": {
    "ExecuteTime": {
     "end_time": "2023-12-21T16:06:48.951267800Z",
     "start_time": "2023-12-21T16:06:48.931855300Z"
    }
   },
   "outputs": [],
   "source": [
    "#Empty block for your answers\n",
    "\n",
    "\n"
   ]
  },
  {
   "cell_type": "code",
   "execution_count": null,
   "metadata": {
    "ExecuteTime": {
     "end_time": "2023-12-21T16:06:49.192205600Z",
     "start_time": "2023-12-21T16:06:48.940257900Z"
    }
   },
   "outputs": [],
   "source": [
    "#Empty block for your answers\n",
    "\n",
    "\n"
   ]
  },
  {
   "cell_type": "markdown",
   "metadata": {},
   "source": [
    "<div style=\"background-color: #d4edda; border-left: 6px solid #ccc; margin: 20px; padding: 15px; border-radius: 5px;\">\n",
    "    <strong>📓 Submission:</strong> When your notebook is complete in Google Colab, go to <em>File > Download</em> and choose <code>.ipynb</code>. The completed file should be uploaded to Blackboard under assignments for MATE70026.\n",
    "</div>"
   ]
  },
  {
   "cell_type": "markdown",
   "metadata": {},
   "source": [
    "## 🌊 Dive deeper\n",
    "\n",
    "* _Level 1:_ Tackle Chapter 8 on Linear Unsupervised Learning in [Machine Learning Refined](https://github.com/jermwatt/machine_learning_refined#what-is-new-in-the-second-edition).\n",
    "\n",
    "* _Level 2:_ Read about our attempt to screen _all inorganic materials_ (with caveats) in the journal [Chem](https://doi.org/10.1016/j.chempr.2016.09.010). \n",
    "\n",
    "* _Level 3:_ Watch a [seminar](https://www.youtube.com/watch?v=gd-uahI5xbA) by quantum chemist Anatole von Lilienfeld on chemical space. "
   ]
  }
 ],
 "metadata": {
  "colab": {
   "provenance": [],
   "toc_visible": true
  },
  "kernelspec": {
   "display_name": "vscode24",
   "language": "python",
   "name": "python3"
  },
  "language_info": {
   "codemirror_mode": {
    "name": "ipython",
    "version": 3
   },
   "file_extension": ".py",
   "mimetype": "text/x-python",
   "name": "python",
   "nbconvert_exporter": "python",
   "pygments_lexer": "ipython3",
   "version": "3.12.4"
  },
  "widgets": {
   "application/vnd.jupyter.widget-state+json": {
    "012b2e529c564223a1b2492c8e4d5412": {
     "model_module": "@jupyter-widgets/base",
     "model_module_version": "1.2.0",
     "model_name": "LayoutModel",
     "state": {
      "_model_module": "@jupyter-widgets/base",
      "_model_module_version": "1.2.0",
      "_model_name": "LayoutModel",
      "_view_count": null,
      "_view_module": "@jupyter-widgets/base",
      "_view_module_version": "1.2.0",
      "_view_name": "LayoutView",
      "align_content": null,
      "align_items": null,
      "align_self": null,
      "border": null,
      "bottom": null,
      "display": null,
      "flex": null,
      "flex_flow": null,
      "grid_area": null,
      "grid_auto_columns": null,
      "grid_auto_flow": null,
      "grid_auto_rows": null,
      "grid_column": null,
      "grid_gap": null,
      "grid_row": null,
      "grid_template_areas": null,
      "grid_template_columns": null,
      "grid_template_rows": null,
      "height": null,
      "justify_content": null,
      "justify_items": null,
      "left": null,
      "margin": null,
      "max_height": null,
      "max_width": null,
      "min_height": null,
      "min_width": null,
      "object_fit": null,
      "object_position": null,
      "order": null,
      "overflow": null,
      "overflow_x": null,
      "overflow_y": null,
      "padding": null,
      "right": null,
      "top": null,
      "visibility": null,
      "width": null
     }
    },
    "19210eeb81354717910870d9a8f4a746": {
     "model_module": "@jupyter-widgets/controls",
     "model_module_version": "1.5.0",
     "model_name": "ProgressStyleModel",
     "state": {
      "_model_module": "@jupyter-widgets/controls",
      "_model_module_version": "1.5.0",
      "_model_name": "ProgressStyleModel",
      "_view_count": null,
      "_view_module": "@jupyter-widgets/base",
      "_view_module_version": "1.2.0",
      "_view_name": "StyleView",
      "bar_color": null,
      "description_width": ""
     }
    },
    "19da398c5b2c4bb5aa08f3112380175d": {
     "model_module": "@jupyter-widgets/controls",
     "model_module_version": "1.5.0",
     "model_name": "DescriptionStyleModel",
     "state": {
      "_model_module": "@jupyter-widgets/controls",
      "_model_module_version": "1.5.0",
      "_model_name": "DescriptionStyleModel",
      "_view_count": null,
      "_view_module": "@jupyter-widgets/base",
      "_view_module_version": "1.2.0",
      "_view_name": "StyleView",
      "description_width": ""
     }
    },
    "2bb5ea02999d47fc8d07c7d24b2e65b3": {
     "model_module": "@jupyter-widgets/base",
     "model_module_version": "1.2.0",
     "model_name": "LayoutModel",
     "state": {
      "_model_module": "@jupyter-widgets/base",
      "_model_module_version": "1.2.0",
      "_model_name": "LayoutModel",
      "_view_count": null,
      "_view_module": "@jupyter-widgets/base",
      "_view_module_version": "1.2.0",
      "_view_name": "LayoutView",
      "align_content": null,
      "align_items": null,
      "align_self": null,
      "border": null,
      "bottom": null,
      "display": null,
      "flex": null,
      "flex_flow": null,
      "grid_area": null,
      "grid_auto_columns": null,
      "grid_auto_flow": null,
      "grid_auto_rows": null,
      "grid_column": null,
      "grid_gap": null,
      "grid_row": null,
      "grid_template_areas": null,
      "grid_template_columns": null,
      "grid_template_rows": null,
      "height": null,
      "justify_content": null,
      "justify_items": null,
      "left": null,
      "margin": null,
      "max_height": null,
      "max_width": null,
      "min_height": null,
      "min_width": null,
      "object_fit": null,
      "object_position": null,
      "order": null,
      "overflow": null,
      "overflow_x": null,
      "overflow_y": null,
      "padding": null,
      "right": null,
      "top": null,
      "visibility": null,
      "width": null
     }
    },
    "39c496c90ceb423996dca18f9133e352": {
     "model_module": "@jupyter-widgets/controls",
     "model_module_version": "1.5.0",
     "model_name": "ProgressStyleModel",
     "state": {
      "_model_module": "@jupyter-widgets/controls",
      "_model_module_version": "1.5.0",
      "_model_name": "ProgressStyleModel",
      "_view_count": null,
      "_view_module": "@jupyter-widgets/base",
      "_view_module_version": "1.2.0",
      "_view_name": "StyleView",
      "bar_color": null,
      "description_width": ""
     }
    },
    "42783a9965e3446ba86caa1f712e7426": {
     "model_module": "@jupyter-widgets/base",
     "model_module_version": "1.2.0",
     "model_name": "LayoutModel",
     "state": {
      "_model_module": "@jupyter-widgets/base",
      "_model_module_version": "1.2.0",
      "_model_name": "LayoutModel",
      "_view_count": null,
      "_view_module": "@jupyter-widgets/base",
      "_view_module_version": "1.2.0",
      "_view_name": "LayoutView",
      "align_content": null,
      "align_items": null,
      "align_self": null,
      "border": null,
      "bottom": null,
      "display": null,
      "flex": null,
      "flex_flow": null,
      "grid_area": null,
      "grid_auto_columns": null,
      "grid_auto_flow": null,
      "grid_auto_rows": null,
      "grid_column": null,
      "grid_gap": null,
      "grid_row": null,
      "grid_template_areas": null,
      "grid_template_columns": null,
      "grid_template_rows": null,
      "height": null,
      "justify_content": null,
      "justify_items": null,
      "left": null,
      "margin": null,
      "max_height": null,
      "max_width": null,
      "min_height": null,
      "min_width": null,
      "object_fit": null,
      "object_position": null,
      "order": null,
      "overflow": null,
      "overflow_x": null,
      "overflow_y": null,
      "padding": null,
      "right": null,
      "top": null,
      "visibility": null,
      "width": null
     }
    },
    "44ed84d4719a4f2299d03bedebf270e6": {
     "model_module": "@jupyter-widgets/controls",
     "model_module_version": "1.5.0",
     "model_name": "HTMLModel",
     "state": {
      "_dom_classes": [],
      "_model_module": "@jupyter-widgets/controls",
      "_model_module_version": "1.5.0",
      "_model_name": "HTMLModel",
      "_view_count": null,
      "_view_module": "@jupyter-widgets/controls",
      "_view_module_version": "1.5.0",
      "_view_name": "HTMLView",
      "description": "",
      "description_tooltip": null,
      "layout": "IPY_MODEL_c9a9de9ebe0044b9bbfa0a8c52ab81ec",
      "placeholder": "​",
      "style": "IPY_MODEL_539b471846d4471e9fa4ce9992ef377a",
      "value": " 2/2 [00:00&lt;00:00, 45.51it/s]"
     }
    },
    "463ec167775a429e987ab616b392fbef": {
     "model_module": "@jupyter-widgets/controls",
     "model_module_version": "1.5.0",
     "model_name": "FloatProgressModel",
     "state": {
      "_dom_classes": [],
      "_model_module": "@jupyter-widgets/controls",
      "_model_module_version": "1.5.0",
      "_model_name": "FloatProgressModel",
      "_view_count": null,
      "_view_module": "@jupyter-widgets/controls",
      "_view_module_version": "1.5.0",
      "_view_name": "ProgressView",
      "bar_style": "success",
      "description": "",
      "description_tooltip": null,
      "layout": "IPY_MODEL_42783a9965e3446ba86caa1f712e7426",
      "max": 34243,
      "min": 0,
      "orientation": "horizontal",
      "style": "IPY_MODEL_c6fb4f4887304439826b8c3c4402b62a",
      "value": 34243
     }
    },
    "46b9184974cd43f0a622f6bf4991fa59": {
     "model_module": "@jupyter-widgets/controls",
     "model_module_version": "1.5.0",
     "model_name": "DescriptionStyleModel",
     "state": {
      "_model_module": "@jupyter-widgets/controls",
      "_model_module_version": "1.5.0",
      "_model_name": "DescriptionStyleModel",
      "_view_count": null,
      "_view_module": "@jupyter-widgets/base",
      "_view_module_version": "1.2.0",
      "_view_name": "StyleView",
      "description_width": ""
     }
    },
    "521aad5ac2864d519c391cbcc14c5969": {
     "model_module": "@jupyter-widgets/base",
     "model_module_version": "1.2.0",
     "model_name": "LayoutModel",
     "state": {
      "_model_module": "@jupyter-widgets/base",
      "_model_module_version": "1.2.0",
      "_model_name": "LayoutModel",
      "_view_count": null,
      "_view_module": "@jupyter-widgets/base",
      "_view_module_version": "1.2.0",
      "_view_name": "LayoutView",
      "align_content": null,
      "align_items": null,
      "align_self": null,
      "border": null,
      "bottom": null,
      "display": null,
      "flex": null,
      "flex_flow": null,
      "grid_area": null,
      "grid_auto_columns": null,
      "grid_auto_flow": null,
      "grid_auto_rows": null,
      "grid_column": null,
      "grid_gap": null,
      "grid_row": null,
      "grid_template_areas": null,
      "grid_template_columns": null,
      "grid_template_rows": null,
      "height": null,
      "justify_content": null,
      "justify_items": null,
      "left": null,
      "margin": null,
      "max_height": null,
      "max_width": null,
      "min_height": null,
      "min_width": null,
      "object_fit": null,
      "object_position": null,
      "order": null,
      "overflow": null,
      "overflow_x": null,
      "overflow_y": null,
      "padding": null,
      "right": null,
      "top": null,
      "visibility": null,
      "width": null
     }
    },
    "539b471846d4471e9fa4ce9992ef377a": {
     "model_module": "@jupyter-widgets/controls",
     "model_module_version": "1.5.0",
     "model_name": "DescriptionStyleModel",
     "state": {
      "_model_module": "@jupyter-widgets/controls",
      "_model_module_version": "1.5.0",
      "_model_name": "DescriptionStyleModel",
      "_view_count": null,
      "_view_module": "@jupyter-widgets/base",
      "_view_module_version": "1.2.0",
      "_view_name": "StyleView",
      "description_width": ""
     }
    },
    "59539504e422446681efe23b6e848eb2": {
     "model_module": "@jupyter-widgets/controls",
     "model_module_version": "1.5.0",
     "model_name": "HTMLModel",
     "state": {
      "_dom_classes": [],
      "_model_module": "@jupyter-widgets/controls",
      "_model_module_version": "1.5.0",
      "_model_name": "HTMLModel",
      "_view_count": null,
      "_view_module": "@jupyter-widgets/controls",
      "_view_module_version": "1.5.0",
      "_view_name": "HTMLView",
      "description": "",
      "description_tooltip": null,
      "layout": "IPY_MODEL_521aad5ac2864d519c391cbcc14c5969",
      "placeholder": "​",
      "style": "IPY_MODEL_d19382f214d7459c8d010a9fbe4ca584",
      "value": "Retrieving SummaryDoc documents: 100%"
     }
    },
    "5f121ccdfc4944ea8afa264df9bc0a50": {
     "model_module": "@jupyter-widgets/controls",
     "model_module_version": "1.5.0",
     "model_name": "HTMLModel",
     "state": {
      "_dom_classes": [],
      "_model_module": "@jupyter-widgets/controls",
      "_model_module_version": "1.5.0",
      "_model_name": "HTMLModel",
      "_view_count": null,
      "_view_module": "@jupyter-widgets/controls",
      "_view_module_version": "1.5.0",
      "_view_name": "HTMLView",
      "description": "",
      "description_tooltip": null,
      "layout": "IPY_MODEL_012b2e529c564223a1b2492c8e4d5412",
      "placeholder": "​",
      "style": "IPY_MODEL_46b9184974cd43f0a622f6bf4991fa59",
      "value": "Retrieving SummaryDoc documents: 100%"
     }
    },
    "63630cdd6bc144c4ae831f51ea65c3af": {
     "model_module": "@jupyter-widgets/controls",
     "model_module_version": "1.5.0",
     "model_name": "HTMLModel",
     "state": {
      "_dom_classes": [],
      "_model_module": "@jupyter-widgets/controls",
      "_model_module_version": "1.5.0",
      "_model_name": "HTMLModel",
      "_view_count": null,
      "_view_module": "@jupyter-widgets/controls",
      "_view_module_version": "1.5.0",
      "_view_name": "HTMLView",
      "description": "",
      "description_tooltip": null,
      "layout": "IPY_MODEL_2bb5ea02999d47fc8d07c7d24b2e65b3",
      "placeholder": "​",
      "style": "IPY_MODEL_19da398c5b2c4bb5aa08f3112380175d",
      "value": " 34243/34243 [00:32&lt;00:00, 1162.12it/s]"
     }
    },
    "6d52e381611645bab0f9375c648deb0f": {
     "model_module": "@jupyter-widgets/controls",
     "model_module_version": "1.5.0",
     "model_name": "FloatProgressModel",
     "state": {
      "_dom_classes": [],
      "_model_module": "@jupyter-widgets/controls",
      "_model_module_version": "1.5.0",
      "_model_name": "FloatProgressModel",
      "_view_count": null,
      "_view_module": "@jupyter-widgets/controls",
      "_view_module_version": "1.5.0",
      "_view_name": "ProgressView",
      "bar_style": "success",
      "description": "",
      "description_tooltip": null,
      "layout": "IPY_MODEL_7b23adb3e4e941fa97d091340f3f21b6",
      "max": 2,
      "min": 0,
      "orientation": "horizontal",
      "style": "IPY_MODEL_19210eeb81354717910870d9a8f4a746",
      "value": 2
     }
    },
    "7b23adb3e4e941fa97d091340f3f21b6": {
     "model_module": "@jupyter-widgets/base",
     "model_module_version": "1.2.0",
     "model_name": "LayoutModel",
     "state": {
      "_model_module": "@jupyter-widgets/base",
      "_model_module_version": "1.2.0",
      "_model_name": "LayoutModel",
      "_view_count": null,
      "_view_module": "@jupyter-widgets/base",
      "_view_module_version": "1.2.0",
      "_view_name": "LayoutView",
      "align_content": null,
      "align_items": null,
      "align_self": null,
      "border": null,
      "bottom": null,
      "display": null,
      "flex": null,
      "flex_flow": null,
      "grid_area": null,
      "grid_auto_columns": null,
      "grid_auto_flow": null,
      "grid_auto_rows": null,
      "grid_column": null,
      "grid_gap": null,
      "grid_row": null,
      "grid_template_areas": null,
      "grid_template_columns": null,
      "grid_template_rows": null,
      "height": null,
      "justify_content": null,
      "justify_items": null,
      "left": null,
      "margin": null,
      "max_height": null,
      "max_width": null,
      "min_height": null,
      "min_width": null,
      "object_fit": null,
      "object_position": null,
      "order": null,
      "overflow": null,
      "overflow_x": null,
      "overflow_y": null,
      "padding": null,
      "right": null,
      "top": null,
      "visibility": null,
      "width": null
     }
    },
    "81f54d5285894dcca88358e375667d16": {
     "model_module": "@jupyter-widgets/controls",
     "model_module_version": "1.5.0",
     "model_name": "HBoxModel",
     "state": {
      "_dom_classes": [],
      "_model_module": "@jupyter-widgets/controls",
      "_model_module_version": "1.5.0",
      "_model_name": "HBoxModel",
      "_view_count": null,
      "_view_module": "@jupyter-widgets/controls",
      "_view_module_version": "1.5.0",
      "_view_name": "HBoxView",
      "box_style": "",
      "children": [
       "IPY_MODEL_5f121ccdfc4944ea8afa264df9bc0a50",
       "IPY_MODEL_463ec167775a429e987ab616b392fbef",
       "IPY_MODEL_63630cdd6bc144c4ae831f51ea65c3af"
      ],
      "layout": "IPY_MODEL_f2433932847d40058ce5513588873486"
     }
    },
    "82105f5048054a03a2d9b270ca084c07": {
     "model_module": "@jupyter-widgets/controls",
     "model_module_version": "1.5.0",
     "model_name": "DescriptionStyleModel",
     "state": {
      "_model_module": "@jupyter-widgets/controls",
      "_model_module_version": "1.5.0",
      "_model_name": "DescriptionStyleModel",
      "_view_count": null,
      "_view_module": "@jupyter-widgets/base",
      "_view_module_version": "1.2.0",
      "_view_name": "StyleView",
      "description_width": ""
     }
    },
    "882fc224a5f143acac770c2addd18026": {
     "model_module": "@jupyter-widgets/controls",
     "model_module_version": "1.5.0",
     "model_name": "HTMLModel",
     "state": {
      "_dom_classes": [],
      "_model_module": "@jupyter-widgets/controls",
      "_model_module_version": "1.5.0",
      "_model_name": "HTMLModel",
      "_view_count": null,
      "_view_module": "@jupyter-widgets/controls",
      "_view_module_version": "1.5.0",
      "_view_name": "HTMLView",
      "description": "",
      "description_tooltip": null,
      "layout": "IPY_MODEL_89ea4b83f2ab464cb2cd4fc2a5280072",
      "placeholder": "​",
      "style": "IPY_MODEL_c7aac064987448198b95cc13dee8a548",
      "value": " 4437/4437 [00:03&lt;00:00, 1384.71it/s]"
     }
    },
    "89ea4b83f2ab464cb2cd4fc2a5280072": {
     "model_module": "@jupyter-widgets/base",
     "model_module_version": "1.2.0",
     "model_name": "LayoutModel",
     "state": {
      "_model_module": "@jupyter-widgets/base",
      "_model_module_version": "1.2.0",
      "_model_name": "LayoutModel",
      "_view_count": null,
      "_view_module": "@jupyter-widgets/base",
      "_view_module_version": "1.2.0",
      "_view_name": "LayoutView",
      "align_content": null,
      "align_items": null,
      "align_self": null,
      "border": null,
      "bottom": null,
      "display": null,
      "flex": null,
      "flex_flow": null,
      "grid_area": null,
      "grid_auto_columns": null,
      "grid_auto_flow": null,
      "grid_auto_rows": null,
      "grid_column": null,
      "grid_gap": null,
      "grid_row": null,
      "grid_template_areas": null,
      "grid_template_columns": null,
      "grid_template_rows": null,
      "height": null,
      "justify_content": null,
      "justify_items": null,
      "left": null,
      "margin": null,
      "max_height": null,
      "max_width": null,
      "min_height": null,
      "min_width": null,
      "object_fit": null,
      "object_position": null,
      "order": null,
      "overflow": null,
      "overflow_x": null,
      "overflow_y": null,
      "padding": null,
      "right": null,
      "top": null,
      "visibility": null,
      "width": null
     }
    },
    "92228f1970b94bf795bb5919bd49c751": {
     "model_module": "@jupyter-widgets/base",
     "model_module_version": "1.2.0",
     "model_name": "LayoutModel",
     "state": {
      "_model_module": "@jupyter-widgets/base",
      "_model_module_version": "1.2.0",
      "_model_name": "LayoutModel",
      "_view_count": null,
      "_view_module": "@jupyter-widgets/base",
      "_view_module_version": "1.2.0",
      "_view_name": "LayoutView",
      "align_content": null,
      "align_items": null,
      "align_self": null,
      "border": null,
      "bottom": null,
      "display": null,
      "flex": null,
      "flex_flow": null,
      "grid_area": null,
      "grid_auto_columns": null,
      "grid_auto_flow": null,
      "grid_auto_rows": null,
      "grid_column": null,
      "grid_gap": null,
      "grid_row": null,
      "grid_template_areas": null,
      "grid_template_columns": null,
      "grid_template_rows": null,
      "height": null,
      "justify_content": null,
      "justify_items": null,
      "left": null,
      "margin": null,
      "max_height": null,
      "max_width": null,
      "min_height": null,
      "min_width": null,
      "object_fit": null,
      "object_position": null,
      "order": null,
      "overflow": null,
      "overflow_x": null,
      "overflow_y": null,
      "padding": null,
      "right": null,
      "top": null,
      "visibility": null,
      "width": null
     }
    },
    "974df9cd43cb4f98815a601fbe1a4cf0": {
     "model_module": "@jupyter-widgets/base",
     "model_module_version": "1.2.0",
     "model_name": "LayoutModel",
     "state": {
      "_model_module": "@jupyter-widgets/base",
      "_model_module_version": "1.2.0",
      "_model_name": "LayoutModel",
      "_view_count": null,
      "_view_module": "@jupyter-widgets/base",
      "_view_module_version": "1.2.0",
      "_view_name": "LayoutView",
      "align_content": null,
      "align_items": null,
      "align_self": null,
      "border": null,
      "bottom": null,
      "display": null,
      "flex": null,
      "flex_flow": null,
      "grid_area": null,
      "grid_auto_columns": null,
      "grid_auto_flow": null,
      "grid_auto_rows": null,
      "grid_column": null,
      "grid_gap": null,
      "grid_row": null,
      "grid_template_areas": null,
      "grid_template_columns": null,
      "grid_template_rows": null,
      "height": null,
      "justify_content": null,
      "justify_items": null,
      "left": null,
      "margin": null,
      "max_height": null,
      "max_width": null,
      "min_height": null,
      "min_width": null,
      "object_fit": null,
      "object_position": null,
      "order": null,
      "overflow": null,
      "overflow_x": null,
      "overflow_y": null,
      "padding": null,
      "right": null,
      "top": null,
      "visibility": null,
      "width": null
     }
    },
    "9c2a732ff4dd44a9ad017bbec1f43b80": {
     "model_module": "@jupyter-widgets/controls",
     "model_module_version": "1.5.0",
     "model_name": "HTMLModel",
     "state": {
      "_dom_classes": [],
      "_model_module": "@jupyter-widgets/controls",
      "_model_module_version": "1.5.0",
      "_model_name": "HTMLModel",
      "_view_count": null,
      "_view_module": "@jupyter-widgets/controls",
      "_view_module_version": "1.5.0",
      "_view_name": "HTMLView",
      "description": "",
      "description_tooltip": null,
      "layout": "IPY_MODEL_efff1771eb2e4f1caa66f79c710ce0cb",
      "placeholder": "​",
      "style": "IPY_MODEL_82105f5048054a03a2d9b270ca084c07",
      "value": "Retrieving SummaryDoc documents: 100%"
     }
    },
    "a302e21f48824e5fbfa7ac28a0a9a17e": {
     "model_module": "@jupyter-widgets/controls",
     "model_module_version": "1.5.0",
     "model_name": "HBoxModel",
     "state": {
      "_dom_classes": [],
      "_model_module": "@jupyter-widgets/controls",
      "_model_module_version": "1.5.0",
      "_model_name": "HBoxModel",
      "_view_count": null,
      "_view_module": "@jupyter-widgets/controls",
      "_view_module_version": "1.5.0",
      "_view_name": "HBoxView",
      "box_style": "",
      "children": [
       "IPY_MODEL_9c2a732ff4dd44a9ad017bbec1f43b80",
       "IPY_MODEL_d0d1d1a34b954d90bf222529f2760639",
       "IPY_MODEL_882fc224a5f143acac770c2addd18026"
      ],
      "layout": "IPY_MODEL_92228f1970b94bf795bb5919bd49c751"
     }
    },
    "ab95afc367c742e58639c8c7e8428303": {
     "model_module": "@jupyter-widgets/controls",
     "model_module_version": "1.5.0",
     "model_name": "HBoxModel",
     "state": {
      "_dom_classes": [],
      "_model_module": "@jupyter-widgets/controls",
      "_model_module_version": "1.5.0",
      "_model_name": "HBoxModel",
      "_view_count": null,
      "_view_module": "@jupyter-widgets/controls",
      "_view_module_version": "1.5.0",
      "_view_name": "HBoxView",
      "box_style": "",
      "children": [
       "IPY_MODEL_59539504e422446681efe23b6e848eb2",
       "IPY_MODEL_6d52e381611645bab0f9375c648deb0f",
       "IPY_MODEL_44ed84d4719a4f2299d03bedebf270e6"
      ],
      "layout": "IPY_MODEL_974df9cd43cb4f98815a601fbe1a4cf0"
     }
    },
    "ae6256b8cc0f489f927bc534250b88d8": {
     "model_module": "@jupyter-widgets/base",
     "model_module_version": "1.2.0",
     "model_name": "LayoutModel",
     "state": {
      "_model_module": "@jupyter-widgets/base",
      "_model_module_version": "1.2.0",
      "_model_name": "LayoutModel",
      "_view_count": null,
      "_view_module": "@jupyter-widgets/base",
      "_view_module_version": "1.2.0",
      "_view_name": "LayoutView",
      "align_content": null,
      "align_items": null,
      "align_self": null,
      "border": null,
      "bottom": null,
      "display": null,
      "flex": null,
      "flex_flow": null,
      "grid_area": null,
      "grid_auto_columns": null,
      "grid_auto_flow": null,
      "grid_auto_rows": null,
      "grid_column": null,
      "grid_gap": null,
      "grid_row": null,
      "grid_template_areas": null,
      "grid_template_columns": null,
      "grid_template_rows": null,
      "height": null,
      "justify_content": null,
      "justify_items": null,
      "left": null,
      "margin": null,
      "max_height": null,
      "max_width": null,
      "min_height": null,
      "min_width": null,
      "object_fit": null,
      "object_position": null,
      "order": null,
      "overflow": null,
      "overflow_x": null,
      "overflow_y": null,
      "padding": null,
      "right": null,
      "top": null,
      "visibility": null,
      "width": null
     }
    },
    "c6fb4f4887304439826b8c3c4402b62a": {
     "model_module": "@jupyter-widgets/controls",
     "model_module_version": "1.5.0",
     "model_name": "ProgressStyleModel",
     "state": {
      "_model_module": "@jupyter-widgets/controls",
      "_model_module_version": "1.5.0",
      "_model_name": "ProgressStyleModel",
      "_view_count": null,
      "_view_module": "@jupyter-widgets/base",
      "_view_module_version": "1.2.0",
      "_view_name": "StyleView",
      "bar_color": null,
      "description_width": ""
     }
    },
    "c7aac064987448198b95cc13dee8a548": {
     "model_module": "@jupyter-widgets/controls",
     "model_module_version": "1.5.0",
     "model_name": "DescriptionStyleModel",
     "state": {
      "_model_module": "@jupyter-widgets/controls",
      "_model_module_version": "1.5.0",
      "_model_name": "DescriptionStyleModel",
      "_view_count": null,
      "_view_module": "@jupyter-widgets/base",
      "_view_module_version": "1.2.0",
      "_view_name": "StyleView",
      "description_width": ""
     }
    },
    "c9a9de9ebe0044b9bbfa0a8c52ab81ec": {
     "model_module": "@jupyter-widgets/base",
     "model_module_version": "1.2.0",
     "model_name": "LayoutModel",
     "state": {
      "_model_module": "@jupyter-widgets/base",
      "_model_module_version": "1.2.0",
      "_model_name": "LayoutModel",
      "_view_count": null,
      "_view_module": "@jupyter-widgets/base",
      "_view_module_version": "1.2.0",
      "_view_name": "LayoutView",
      "align_content": null,
      "align_items": null,
      "align_self": null,
      "border": null,
      "bottom": null,
      "display": null,
      "flex": null,
      "flex_flow": null,
      "grid_area": null,
      "grid_auto_columns": null,
      "grid_auto_flow": null,
      "grid_auto_rows": null,
      "grid_column": null,
      "grid_gap": null,
      "grid_row": null,
      "grid_template_areas": null,
      "grid_template_columns": null,
      "grid_template_rows": null,
      "height": null,
      "justify_content": null,
      "justify_items": null,
      "left": null,
      "margin": null,
      "max_height": null,
      "max_width": null,
      "min_height": null,
      "min_width": null,
      "object_fit": null,
      "object_position": null,
      "order": null,
      "overflow": null,
      "overflow_x": null,
      "overflow_y": null,
      "padding": null,
      "right": null,
      "top": null,
      "visibility": null,
      "width": null
     }
    },
    "d0d1d1a34b954d90bf222529f2760639": {
     "model_module": "@jupyter-widgets/controls",
     "model_module_version": "1.5.0",
     "model_name": "FloatProgressModel",
     "state": {
      "_dom_classes": [],
      "_model_module": "@jupyter-widgets/controls",
      "_model_module_version": "1.5.0",
      "_model_name": "FloatProgressModel",
      "_view_count": null,
      "_view_module": "@jupyter-widgets/controls",
      "_view_module_version": "1.5.0",
      "_view_name": "ProgressView",
      "bar_style": "success",
      "description": "",
      "description_tooltip": null,
      "layout": "IPY_MODEL_ae6256b8cc0f489f927bc534250b88d8",
      "max": 4437,
      "min": 0,
      "orientation": "horizontal",
      "style": "IPY_MODEL_39c496c90ceb423996dca18f9133e352",
      "value": 4437
     }
    },
    "d19382f214d7459c8d010a9fbe4ca584": {
     "model_module": "@jupyter-widgets/controls",
     "model_module_version": "1.5.0",
     "model_name": "DescriptionStyleModel",
     "state": {
      "_model_module": "@jupyter-widgets/controls",
      "_model_module_version": "1.5.0",
      "_model_name": "DescriptionStyleModel",
      "_view_count": null,
      "_view_module": "@jupyter-widgets/base",
      "_view_module_version": "1.2.0",
      "_view_name": "StyleView",
      "description_width": ""
     }
    },
    "efff1771eb2e4f1caa66f79c710ce0cb": {
     "model_module": "@jupyter-widgets/base",
     "model_module_version": "1.2.0",
     "model_name": "LayoutModel",
     "state": {
      "_model_module": "@jupyter-widgets/base",
      "_model_module_version": "1.2.0",
      "_model_name": "LayoutModel",
      "_view_count": null,
      "_view_module": "@jupyter-widgets/base",
      "_view_module_version": "1.2.0",
      "_view_name": "LayoutView",
      "align_content": null,
      "align_items": null,
      "align_self": null,
      "border": null,
      "bottom": null,
      "display": null,
      "flex": null,
      "flex_flow": null,
      "grid_area": null,
      "grid_auto_columns": null,
      "grid_auto_flow": null,
      "grid_auto_rows": null,
      "grid_column": null,
      "grid_gap": null,
      "grid_row": null,
      "grid_template_areas": null,
      "grid_template_columns": null,
      "grid_template_rows": null,
      "height": null,
      "justify_content": null,
      "justify_items": null,
      "left": null,
      "margin": null,
      "max_height": null,
      "max_width": null,
      "min_height": null,
      "min_width": null,
      "object_fit": null,
      "object_position": null,
      "order": null,
      "overflow": null,
      "overflow_x": null,
      "overflow_y": null,
      "padding": null,
      "right": null,
      "top": null,
      "visibility": null,
      "width": null
     }
    },
    "f2433932847d40058ce5513588873486": {
     "model_module": "@jupyter-widgets/base",
     "model_module_version": "1.2.0",
     "model_name": "LayoutModel",
     "state": {
      "_model_module": "@jupyter-widgets/base",
      "_model_module_version": "1.2.0",
      "_model_name": "LayoutModel",
      "_view_count": null,
      "_view_module": "@jupyter-widgets/base",
      "_view_module_version": "1.2.0",
      "_view_name": "LayoutView",
      "align_content": null,
      "align_items": null,
      "align_self": null,
      "border": null,
      "bottom": null,
      "display": null,
      "flex": null,
      "flex_flow": null,
      "grid_area": null,
      "grid_auto_columns": null,
      "grid_auto_flow": null,
      "grid_auto_rows": null,
      "grid_column": null,
      "grid_gap": null,
      "grid_row": null,
      "grid_template_areas": null,
      "grid_template_columns": null,
      "grid_template_rows": null,
      "height": null,
      "justify_content": null,
      "justify_items": null,
      "left": null,
      "margin": null,
      "max_height": null,
      "max_width": null,
      "min_height": null,
      "min_width": null,
      "object_fit": null,
      "object_position": null,
      "order": null,
      "overflow": null,
      "overflow_x": null,
      "overflow_y": null,
      "padding": null,
      "right": null,
      "top": null,
      "visibility": null,
      "width": null
     }
    }
   }
  }
 },
 "nbformat": 4,
 "nbformat_minor": 4
}
